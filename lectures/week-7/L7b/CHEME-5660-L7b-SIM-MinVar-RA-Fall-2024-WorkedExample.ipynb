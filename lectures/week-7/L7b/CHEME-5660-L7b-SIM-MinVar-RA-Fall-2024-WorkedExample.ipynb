{
 "cells": [
  {
   "cell_type": "markdown",
   "id": "d2534105-6383-4535-a269-6af6c4d1680b",
   "metadata": {},
   "source": [
    "## Example: Single Index Models and Minimum Variance Portfolio Allocation\n",
    "The computation of the expected returns $\\mathbb{E}(r_{i})$ and the covariance matrix $\\Sigma$ in the _data-driven_ Minimum-Variance portfolio problem is computationally challenging as the number of assets in the portfolio grows. An alternative is to use index models to compute the expected returns and the covariance. One of the simplest (yet still widely used) index models in the single index models developed by [Sharpe (1963)](https://en.wikipedia.org/wiki/Single-index_model#:~:text=The%20single%2Dindex%20model%20(SIM,used%20in%20the%20finance%20industry.)).\n",
    "\n",
    "### Single index model\n",
    "A single index model describes the return of a firm’s stock (or the return of an ETF) in terms of a firm-specific return and the overall market return. Let $R_{i}(t)\\equiv\\left(r_{i}\\left(t\\right) - r_{f}\\right)$ \n",
    "and $R_{m}(t)\\equiv\\left(r_{m}\\left(t\\right)-r_{f}\\right)$ denote the firm-specific and market **excess returns** (return beyond the risk-free rate), where $r_{f}$ denotes the risk-free rate of return.\n",
    "Further, let $\\epsilon_{i}\\left(t\\right)$ denote stationary normally distributed random noise process\n",
    "with mean zero and standard deviation $\\sigma_{i}$. Then, the single index model of Sharpe for the excess return of firm (or ETF) $i$ is given by:\n",
    "$$\n",
    "\\begin{equation*}\n",
    "R_{i}\\left(t\\right) = \\alpha_{i}+\\beta_{i}\\cdot{R}_{m}\\left(t\\right)+\\epsilon_{i}\n",
    "\\left(t\\right)\\qquad{t=1,2,\\dots,T}\n",
    "\\end{equation*}\n",
    "$$\n",
    "where the $t$ denotes the time index, $\\alpha_{i}$ and $\\beta_{i}$ are (unknown) model parameters: \n",
    "* $\\alpha_{i}$ describes the firm-specific return not explained by the market; thus, $\\alpha_{i}$ is the idiosyncratic return of firm $i$.\n",
    "* $\\beta_{i}$ has two interpretations. First, it measures the relationship between the excess return of firm $i$ and the excess return of the market. \n",
    "A large $\\beta_{i}$ suggests that the market returns (or losses) are amplified for firm $i$, while a small $\\beta_{i}$ indicates that the market returns (or losses) are damped for firm $i$. \n",
    "Second, it represents the relative risk of investing in a firm $i$ relative to the overall market.\n",
    "\n",
    "### Single index model portfolio allocation problem for risky assets\n",
    "The risky portfolio allocation problem for a portfolio $\\mathcal{P}$ using the single index model is:\n",
    "\\begin{eqnarray*}\n",
    "\\text{minimize}~\\sigma_{\\mathcal{P}}^2 &=& \\sum_{i\\in\\mathcal{P}}\\sum_{j\\in\\mathcal{P}}\\omega_{i}\\omega_{j}\n",
    "\\text{cov}\\left(R_{i},R_{j}\\right) \\\\\n",
    "\\text{subject to}~\\mathbb{E}(R_{\\mathcal{P}})& = & \\alpha_{\\mathcal{P}}+\\beta_{\\mathcal{P}}\\cdot\\mathbb{E}(R_{m})\\geq{R^{*}} \\\\\n",
    "\\alpha_{\\mathcal{P}} & = & \\sum_{i\\in\\mathcal{P}}\\omega_{i}\\cdot\\alpha_{i}\\\\\n",
    "\\beta_{\\mathcal{P}} & = & \\sum_{i\\in\\mathcal{P}}\\omega_{i}\\cdot\\beta_{i} \\\\\n",
    "\\sum_{i\\in\\mathcal{P}}\\omega_{i} & = & 1 \\\\\n",
    "\\text{and}~\\omega_{i}&\\geq&{0}\\qquad{\\forall{i}\\in\\mathcal{P}}\n",
    "\\end{eqnarray*}\n",
    "\n",
    "where the covariance between asset $i$ and asset $j$ is given by:\n",
    "\\begin{equation*}\n",
    "\\text{cov}(R_{i}, R_{j}) = \\begin{cases}\n",
    "\\beta_{i}^{2}\\sigma_{m}^{2}+\\sigma_{\\epsilon_{i}}^{2} & i = j \\\\\n",
    "\\beta_{i}\\beta_{j}\\sigma_{m}^2 & i \\neq j\n",
    "\\end{cases}\n",
    "\\end{equation*}\n",
    "\n",
    "### Learning objectives\n",
    "The objective of this worked example is to compute the expected excess return vector $\\mathbb{E}(R_{i})$ and the covariance matrix $\\mathbf{\\Sigma}$ using the single index models (`SIMs`) estimated in the previous module, where we use the [SPDR® S&P 500® ETF Trust](https://www.ssga.com/us/en/intermediary/etfs/capabilities/spdr-core-equity-etfs/spy-sp-500?WT.mc_id=ps_etf-spy_spy-funds_us_google_text_psb_mf2_lp_may24&gad_source=1&gclid=EAIaIQobChMIw-y9tcPThgMVh7BaBR39dw3rEAAYASAAEgJPNfD_BwE&gclsrc=aw.ds) with ticker `SPY` as the market, or benchmark, portfolio. \n",
    "\n",
    "* __Prerequisites__: We'll begin by loading the historical dataset consisting of daily open-high-low-close values for firms in the [S&P500 index](https://en.wikipedia.org/wiki/S%26P_500) between `01-03-2018` and `12-29-2023`.\n",
    "* __Task 1__: Then, we'll compute the expected returns and the covariance arrays from the historical dataset and the single index models we calculated in the previous module.\n",
    "* __Task 2__: Next, we'll compute the efficient frontier by solving the minimum variance optimization problem for the data-driven and the single index model formulation for a basket of risky assets and compare the efficient frontiers calculated for each approach.\n",
    "* __Task 3__: Finally, we'll explore the contents of the data-driven and single index minimum-variance portfolios for your collection of risky assets. "
   ]
  },
  {
   "cell_type": "markdown",
   "id": "75c1691d-25c3-4f99-836d-5f01182c7842",
   "metadata": {},
   "source": [
    "## Setup\n",
    "We set up the computational environment by including the `Include.jl` file. The `Include.jl` file loads external packages, various functions that we will use in the exercise, and custom types to model the components of our lab problem.\n",
    "* For additional information on functions and types used in this material, see the [Julia programming language documentation](https://docs.julialang.org/en/v1/) and the [VLQuantitativeFinancePackage.jl documentation](https://github.com/varnerlab/VLQuantitativeFinancePackage.jl). "
   ]
  },
  {
   "cell_type": "code",
   "execution_count": 1,
   "id": "914fab8e-454d-4f98-bbce-bd4ec2edaf29",
   "metadata": {
    "tags": []
   },
   "outputs": [],
   "source": [
    "include(\"Include.jl\");"
   ]
  },
  {
   "cell_type": "markdown",
   "id": "f4a165c6-1a16-4d94-8ec7-e33cc54913a4",
   "metadata": {},
   "source": [
    "## Prerequisites: Load and clean the historical dataset\n",
    "We gathered a daily open-high-low-close `dataset` for each firm in the [S&P500](https://en.wikipedia.org/wiki/S%26P_500) since `01-03-2018` until `12-29-2023`, along with data for a few exchange-traded funds and volatility products during that time. We load the `orignal_dataset` by calling the [load(...) method exported by the JLD2.jl package](https://github.com/JuliaIO/JLD2.jl.git)."
   ]
  },
  {
   "cell_type": "code",
   "execution_count": 2,
   "id": "ede4f7d8-de2a-4c06-81d9-5e462afc6df2",
   "metadata": {
    "tags": []
   },
   "outputs": [],
   "source": [
    "original_dataset = load(joinpath(_PATH_TO_DATA, \"SP500-Daily-OHLC-1-3-2018-to-12-29-2023.jld2\")) |> x-> x[\"dataset\"];"
   ]
  },
  {
   "cell_type": "markdown",
   "id": "7ee23930-149c-49ee-b468-2405dfa9d786",
   "metadata": {},
   "source": [
    "### Clean the data\n",
    "Not all of the tickers in our dataset have the maximum number of trading days for various reasons, e.g., acquistion or de-listing events. Let's collect only those tickers with the maximum number of tradition days.\n",
    "\n",
    "* First, let's compute the number of records for a company that we know has a maximim value, e.g., `AAPL` and save that value in the `maximum_number_trading_days` variable:"
   ]
  },
  {
   "cell_type": "code",
   "execution_count": 3,
   "id": "9229500e-ccad-46db-8df4-5665fb9e2589",
   "metadata": {
    "tags": []
   },
   "outputs": [],
   "source": [
    "maximum_number_trading_days = original_dataset[\"AAPL\"] |> nrow;"
   ]
  },
  {
   "cell_type": "markdown",
   "id": "3a74846d-0fc9-40b3-bddc-c9fee656114b",
   "metadata": {},
   "source": [
    "Next, iterate through our data and collect only tickers with `maximum_number_trading_days` records. Save that data in the `dataset::Dict{String,DataFrame}` variable:"
   ]
  },
  {
   "cell_type": "code",
   "execution_count": 4,
   "id": "d75b54c3-c1d7-4f93-be35-2da7e42a86f1",
   "metadata": {
    "tags": []
   },
   "outputs": [
    {
     "data": {
      "text/plain": [
       "Dict{String, DataFrame} with 460 entries:\n",
       "  \"NI\"   => \u001b[1m1508×8 DataFrame\u001b[0m\u001b[0m…\n",
       "  \"EMR\"  => \u001b[1m1508×8 DataFrame\u001b[0m\u001b[0m…\n",
       "  \"CTAS\" => \u001b[1m1508×8 DataFrame\u001b[0m\u001b[0m…\n",
       "  \"HSIC\" => \u001b[1m1508×8 DataFrame\u001b[0m\u001b[0m…\n",
       "  \"KIM\"  => \u001b[1m1508×8 DataFrame\u001b[0m\u001b[0m…\n",
       "  \"PLD\"  => \u001b[1m1508×8 DataFrame\u001b[0m\u001b[0m…\n",
       "  \"IEX\"  => \u001b[1m1508×8 DataFrame\u001b[0m\u001b[0m…\n",
       "  \"BAC\"  => \u001b[1m1508×8 DataFrame\u001b[0m\u001b[0m…\n",
       "  \"CBOE\" => \u001b[1m1508×8 DataFrame\u001b[0m\u001b[0m…\n",
       "  \"EXR\"  => \u001b[1m1508×8 DataFrame\u001b[0m\u001b[0m…\n",
       "  \"NCLH\" => \u001b[1m1508×8 DataFrame\u001b[0m\u001b[0m…\n",
       "  \"CVS\"  => \u001b[1m1508×8 DataFrame\u001b[0m\u001b[0m…\n",
       "  \"DRI\"  => \u001b[1m1508×8 DataFrame\u001b[0m\u001b[0m…\n",
       "  \"DTE\"  => \u001b[1m1508×8 DataFrame\u001b[0m\u001b[0m…\n",
       "  \"ZION\" => \u001b[1m1508×8 DataFrame\u001b[0m\u001b[0m…\n",
       "  \"AVY\"  => \u001b[1m1508×8 DataFrame\u001b[0m\u001b[0m…\n",
       "  \"EW\"   => \u001b[1m1508×8 DataFrame\u001b[0m\u001b[0m…\n",
       "  \"EA\"   => \u001b[1m1508×8 DataFrame\u001b[0m\u001b[0m…\n",
       "  \"NWSA\" => \u001b[1m1508×8 DataFrame\u001b[0m\u001b[0m…\n",
       "  ⋮      => ⋮"
      ]
     },
     "metadata": {},
     "output_type": "display_data"
    }
   ],
   "source": [
    "dataset = Dict{String,DataFrame}();\n",
    "for (ticker,data) ∈ original_dataset\n",
    "    if (nrow(data) == maximum_number_trading_days)\n",
    "        dataset[ticker] = data;\n",
    "    end\n",
    "end\n",
    "dataset"
   ]
  },
  {
   "cell_type": "markdown",
   "id": "7d776d45-97d1-48c6-9d70-c2e6840687a7",
   "metadata": {},
   "source": [
    "Let's get a sorted list of firms that we have in cleaned up `dataset`, and save it in the `list_of_all_tickers` array:"
   ]
  },
  {
   "cell_type": "code",
   "execution_count": 5,
   "id": "5c80006a-3338-4f4b-9983-f2b366af5719",
   "metadata": {
    "tags": []
   },
   "outputs": [],
   "source": [
    "list_of_all_tickers = keys(dataset) |> collect |> sort;"
   ]
  },
  {
   "cell_type": "markdown",
   "id": "3489f983-ddb4-4f71-9500-51167768cc14",
   "metadata": {},
   "source": [
    "Finally, let's set some constant values, e.g., a value for the `risk_free_rate`:"
   ]
  },
  {
   "cell_type": "code",
   "execution_count": 6,
   "id": "82ff7747-f489-4750-bd52-81b9410ac379",
   "metadata": {
    "tags": []
   },
   "outputs": [],
   "source": [
    "risk_free_rate = 0.0389; # hypothetical continuous compounded risk free rate (units: 1/year)\n",
    "Δt = (1.0/252.0); # time step for 1-trading day (units: 1/year)"
   ]
  },
  {
   "cell_type": "markdown",
   "id": "c9fc18a8-ad53-4a43-aed4-fb6988ec72b0",
   "metadata": {},
   "source": [
    "### Compute the covariance and expected return for all firms in the dataset\n",
    "The expected return $\\mathbb{E}(r_{i})$ and covariance matrix $\\Sigma$ will be used in our calculations, so we'll provide values for both of these items for the entire data set (all `N = 460` tickers), and then you can pick out which tickers you are interested in. \n",
    "\n",
    "* First, we compute the expected (annualized) log return by passing the `dataset` and the entire list of firms we have in the dataset (held in the $N\\times{1}$ `list_of_all_tickers` array) to the [log_growth_matrix(...) method](https://varnerlab.github.io/VLQuantitativeFinancePackage.jl/dev/equity/#VLQuantitativeFinancePackage.log_growth_matrix). The result is stored in the `all_firms_return_matrix` variable, a $T-1\\times{N}$ array of log return values. Each row of `all_firms_return_matrix` corresponds to a time value, while each column corresponds to a firm:"
   ]
  },
  {
   "cell_type": "code",
   "execution_count": 7,
   "id": "3cb45c2e-0214-45d5-a5da-df652d84acea",
   "metadata": {
    "tags": []
   },
   "outputs": [
    {
     "data": {
      "text/plain": [
       "1507×460 Matrix{Float64}:\n",
       "  0.336088   1.89038     6.98879   …   5.76269    1.75992    2.01562\n",
       "  2.15097   -0.657039    3.98147       3.96778   -0.750836   2.937\n",
       "  0.897421  -1.95507    -0.842654      2.86038   -0.394878   2.43031\n",
       "  6.16272    1.47313    -1.90992       6.56668    5.1095     3.37483\n",
       " -3.51528    4.88241    -0.306577      1.77612    3.328     -4.90903\n",
       " -0.36462   10.2428      2.76778   …  10.6928     2.20144    2.44313\n",
       "  3.26779    9.92523     7.33219       5.82065    2.35812    3.11215\n",
       " -0.208597   1.24649    -1.55764       2.68177   -1.59373    1.0681\n",
       "  1.65959   -0.294763    1.91961       0.400949  -0.140935   2.80741\n",
       "  0.1744     0.0990042  -0.522502     -0.199756  -0.544464  -1.12981\n",
       "  ⋮                                ⋱                        \n",
       "  0.512892  -5.22272    -7.85225      -5.5044    -4.72653    0.43672\n",
       "  3.48824    2.42758     0.420682      2.38842    2.66637    1.82285\n",
       " -0.276805  -2.928      -1.68008   …  -4.72665   -3.81599   -1.83426\n",
       " -0.787705   2.40002    -0.339965     -0.403442   1.53229   -2.12932\n",
       "  1.07029   -0.35239     3.66715       3.51896    3.53631   -0.748648\n",
       "  0.236013  -2.91543    -0.773453      5.13949    4.10492    1.26944\n",
       " -0.241942  -2.38307     0.456664      1.25146   -0.936607   1.20035\n",
       "  0.83941   -0.703668    0.433511  …  -0.205822  -0.232854   1.01781\n",
       " -2.03969   -3.92732    -1.24409      -1.19942   -2.9388     0.0732309"
      ]
     },
     "metadata": {},
     "output_type": "display_data"
    }
   ],
   "source": [
    "all_firms_excess_return_matrix = log_growth_matrix(dataset, list_of_all_tickers, \n",
    "    Δt = Δt, risk_free_rate = risk_free_rate) # one-trading day Δt"
   ]
  },
  {
   "cell_type": "markdown",
   "id": "3df872c9-861f-49bc-9b46-280b1d6666f2",
   "metadata": {},
   "source": [
    "Next, estimate the expected excess return for each firm from the `all_firms_excess_return_matrix` using the [mean(...) function](https://docs.julialang.org/en/v1/stdlib/Statistics/#Statistics.mean), which is exported by the [Statistics.jl package](https://docs.julialang.org/en/v1/stdlib/Statistics/). We save the $N\\times{1}$ vector of expected values, i.e., $\\mathbb{E}(R_{1}),\\dotsc,\\mathbb{E}(R_{N})$ in the variable `μ`:"
   ]
  },
  {
   "cell_type": "code",
   "execution_count": 8,
   "id": "7519be34-b42a-4315-a773-78ca6594efe3",
   "metadata": {
    "tags": []
   },
   "outputs": [],
   "source": [
    "μ = mean(all_firms_excess_return_matrix, dims=1) |> vec;"
   ]
  },
  {
   "cell_type": "markdown",
   "id": "76d2de23-284e-43e5-9ed3-aacc3181e813",
   "metadata": {},
   "source": [
    "Then, estimate the annualized `covariance_matrix` from the `all_firms_return_matrix` using the [cov(...) function](https://docs.julialang.org/en/v1/stdlib/Statistics/#Statistics.cov), exported by the [Statistics.jl package](https://docs.julialang.org/en/v1/stdlib/Statistics/). We store the $N\\times{N}$ covariance matrix in the $\\Sigma$ variable:"
   ]
  },
  {
   "cell_type": "code",
   "execution_count": 9,
   "id": "a7f60651-73b8-4b2c-83b9-130197f669fc",
   "metadata": {
    "tags": []
   },
   "outputs": [
    {
     "data": {
      "text/plain": [
       "460×460 Matrix{Float64}:\n",
       " 0.0655367  0.0409146  0.0273076  …  0.0444449  0.0343089  0.0362875\n",
       " 0.0409146  0.283809   0.0573645     0.069817   0.0986843  0.0383996\n",
       " 0.0273076  0.0573645  0.12501       0.0392735  0.0510524  0.0292667\n",
       " 0.0323065  0.0444841  0.0236737     0.045334   0.0268079  0.0336129\n",
       " 0.0198861  0.0206277  0.0201981     0.0175898  0.0216887  0.0225977\n",
       " 0.0317812  0.0228434  0.0180639  …  0.0300955  0.0202344  0.0301296\n",
       " 0.0345523  0.0475915  0.0321036     0.0448403  0.0392157  0.0353211\n",
       " 0.0387532  0.0358116  0.0245768     0.0519358  0.023438   0.0383791\n",
       " 0.0383595  0.063833   0.0295398     0.055052   0.0425233  0.033446\n",
       " 0.0209082  0.047045   0.0262508     0.0282589  0.0450202  0.0181709\n",
       " ⋮                                ⋱                        \n",
       " 0.0145437  0.0143376  0.0174237     0.0122711  0.0137511  0.0188275\n",
       " 0.0221861  0.0639586  0.0276175     0.0346384  0.0574745  0.0195703\n",
       " 0.0289278  0.0574626  0.0308949     0.0332916  0.0486605  0.0295438\n",
       " 0.0356019  0.0663898  0.030569      0.0446468  0.0497479  0.0306236\n",
       " 0.0238194  0.0469344  0.0280667  …  0.0296962  0.0293565  0.0285984\n",
       " 0.0326716  0.0686421  0.0327006     0.0404702  0.0471118  0.0338005\n",
       " 0.0444449  0.069817   0.0392735     0.129926   0.0570734  0.0408721\n",
       " 0.0343089  0.0986843  0.0510524     0.0570734  0.161157   0.0267712\n",
       " 0.0362875  0.0383996  0.0292667     0.0408721  0.0267712  0.0595073"
      ]
     },
     "metadata": {},
     "output_type": "display_data"
    }
   ],
   "source": [
    "Σ = cov(all_firms_excess_return_matrix) |> x-> x*(1/252) # annualized, historical volatility from data"
   ]
  },
  {
   "cell_type": "markdown",
   "id": "fd2f2892-1281-4b29-8b5e-bc59a74dfee1",
   "metadata": {},
   "source": [
    "Finally, we estimate the annualized `correlation matrix` (assuming `252` trading days per year) from the `all_firms_return_matrix` using the [cor(...) function](https://docs.julialang.org/en/v1/stdlib/Statistics/#Statistics.cor), exported by the [Statistics.jl package](https://docs.julialang.org/en/v1/stdlib/Statistics/). We store the $N\\times{N}$ correlation matrix in the $ρ$ variable:"
   ]
  },
  {
   "cell_type": "code",
   "execution_count": 10,
   "id": "774fa449-8bbd-4306-bcf0-0f4f0e1453e5",
   "metadata": {},
   "outputs": [
    {
     "data": {
      "text/plain": [
       "460×460 Matrix{Float64}:\n",
       " 1.0       0.300001  0.301695  0.479962  …  0.48165   0.333841  0.581071\n",
       " 0.300001  1.0       0.304549  0.317579     0.36358   0.461435  0.29548\n",
       " 0.301695  0.304549  1.0       0.254655     0.308162  0.359682  0.339325\n",
       " 0.479962  0.317579  0.254655  1.0          0.47834   0.253979  0.52406\n",
       " 0.304411  0.151737  0.223867  0.267654     0.191234  0.211721  0.363022\n",
       " 0.5611    0.193803  0.230915  0.446208  …  0.37737   0.227813  0.55824\n",
       " 0.557203  0.368804  0.374852  0.577663     0.51357   0.403288  0.597762\n",
       " 0.497469  0.220908  0.22843   0.592591     0.473501  0.191866  0.517024\n",
       " 0.534947  0.427773  0.298274  0.565422     0.545263  0.378167  0.489485\n",
       " 0.352345  0.380973  0.320304  0.31355      0.338222  0.483813  0.321355\n",
       " ⋮                                       ⋱                      \n",
       " 0.287902  0.136388  0.249735  0.289226     0.172524  0.173591  0.391128\n",
       " 0.297873  0.412647  0.268475  0.286367     0.330296  0.492088  0.275743\n",
       " 0.359474  0.343135  0.277976  0.281978     0.29382   0.385608  0.385279\n",
       " 0.518415  0.464553  0.322296  0.417341     0.461731  0.461953  0.46797\n",
       " 0.41707   0.394911  0.355828  0.406742  …  0.369295  0.327794  0.525507\n",
       " 0.459092  0.4635    0.332702  0.425792     0.403887  0.42216   0.498437\n",
       " 0.48165   0.36358   0.308162  0.47834      1.0       0.394423  0.46483\n",
       " 0.333841  0.461435  0.359682  0.253979     0.394423  1.0       0.273375\n",
       " 0.581071  0.29548   0.339325  0.52406      0.46483   0.273375  1.0"
      ]
     },
     "metadata": {},
     "output_type": "display_data"
    }
   ],
   "source": [
    "ρ = cor(all_firms_excess_return_matrix) # correlation matrix"
   ]
  },
  {
   "cell_type": "markdown",
   "id": "0ac860fb-6307-4f31-be40-001bd6aa600e",
   "metadata": {},
   "source": [
    "### Load single index models, compute the single index returns and covariance\n",
    "In a previous module, we estimated the parameters and residual distributions for each `ticker`$\\in$`list_of_all_tickers` and saved these to a [JLD2.jl file](https://github.com/JuliaIO/JLD2.jl). Load this file using the [load(...) function](https://juliaio.github.io/JLD2.jl/stable/#save-and-load-functions). \n",
    "* Store the model collection in the `sim_model_dictionary` variable, where the keys of the dictionary are the ticker symbols and the values are the parameterized [MySingleIndexModel instances](https://varnerlab.github.io/VLQuantitativeFinancePackage.jl/dev/portfolio/#VLQuantitativeFinancePackage.MySingleIndexModel) estimated previously."
   ]
  },
  {
   "cell_type": "code",
   "execution_count": 11,
   "id": "4a228ac1-8c15-4349-9bd6-6eefadcd5c66",
   "metadata": {
    "tags": []
   },
   "outputs": [
    {
     "data": {
      "text/plain": [
       "Dict{String, MySingleIndexModel} with 460 entries:\n",
       "  \"NI\"   => MySingleIndexModel(-0.0671224, 0.652999, 0.0389, Normal{Float64}(μ=…\n",
       "  \"EMR\"  => MySingleIndexModel(-0.0549877, 1.23526, 0.0389, Normal{Float64}(μ=-…\n",
       "  \"CTAS\" => MySingleIndexModel(0.119417, 1.17936, 0.0389, Normal{Float64}(μ=-6.…\n",
       "  \"HSIC\" => MySingleIndexModel(-0.0811194, 0.913675, 0.0389, Normal{Float64}(μ=…\n",
       "  \"KIM\"  => MySingleIndexModel(-0.0818621, 1.28859, 0.0389, Normal{Float64}(μ=-…\n",
       "  \"PLD\"  => MySingleIndexModel(0.0273092, 1.02836, 0.0389, Normal{Float64}(μ=1.…\n",
       "  \"IEX\"  => MySingleIndexModel(-0.00940007, 0.963259, 0.0389, Normal{Float64}(μ…\n",
       "  \"BAC\"  => MySingleIndexModel(-0.0922207, 1.32778, 0.0389, Normal{Float64}(μ=-…\n",
       "  \"CBOE\" => MySingleIndexModel(-0.00982405, 0.588498, 0.0389, Normal{Float64}(μ…\n",
       "  \"EXR\"  => MySingleIndexModel(0.0252878, 0.725388, 0.0389, Normal{Float64}(μ=3…\n",
       "  \"NCLH\" => MySingleIndexModel(-0.336719, 2.32891, 0.0389, Normal{Float64}(μ=1.…\n",
       "  \"CVS\"  => MySingleIndexModel(-0.0703279, 0.78292, 0.0389, Normal{Float64}(μ=-…\n",
       "  \"DRI\"  => MySingleIndexModel(-0.0286856, 1.36306, 0.0389, Normal{Float64}(μ=8…\n",
       "  \"DTE\"  => MySingleIndexModel(-0.0784382, 0.769165, 0.0389, Normal{Float64}(μ=…\n",
       "  \"ZION\" => MySingleIndexModel(-0.138024, 1.36377, 0.0389, Normal{Float64}(μ=9.…\n",
       "  \"AVY\"  => MySingleIndexModel(-0.0102924, 1.16058, 0.0389, Normal{Float64}(μ=-…\n",
       "  \"EW\"   => MySingleIndexModel(0.0158413, 1.11274, 0.0389, Normal{Float64}(μ=-1…\n",
       "  \"EA\"   => MySingleIndexModel(-0.0374669, 0.629636, 0.0389, Normal{Float64}(μ=…\n",
       "  \"NWSA\" => MySingleIndexModel(-0.0347286, 1.12238, 0.0389, Normal{Float64}(μ=1…\n",
       "  ⋮      => ⋮"
      ]
     },
     "metadata": {},
     "output_type": "display_data"
    }
   ],
   "source": [
    "sim_model_dictionary = load(joinpath(_PATH_TO_DATA, \"SIMs-SP500-01-03-18-to-12-29-23.jld2\")) |> x->x[\"sim\"]"
   ]
  },
  {
   "cell_type": "markdown",
   "id": "1c71da00-cb71-40c9-a486-c01be98cdf1c",
   "metadata": {},
   "source": [
    "Next, pull out the excess return of the `market portfolio` from the excess expected return `μ.` To do this, look up the index for our market portfolio surrogate `SPY,` then get this column of data from the `μ` array. We'll store the expected excess return for `SPY` in the `Rₘ` variable (scalar value):"
   ]
  },
  {
   "cell_type": "code",
   "execution_count": 12,
   "id": "86e3f4a1-b7dd-4ef9-8fff-9555a6571416",
   "metadata": {
    "tags": []
   },
   "outputs": [],
   "source": [
    "Rₘ = findfirst(x -> x == \"SPY\", list_of_all_tickers) |> i -> μ[i]; # this is mean excess return for SPY"
   ]
  },
  {
   "cell_type": "markdown",
   "id": "ba8ba6d4-726d-4254-a396-39478ef6ce0c",
   "metadata": {},
   "source": [
    "#### Compute the expected returns using single index models\n",
    "Now, compute the expected return for each ticker in the `dataset` using the single index models computed in the previous module using a `for-loop.` For iteration of the loop:\n",
    "* Get the `ticker` symbol from the `list_of_all_tickers` array, and pull out the corresponding single index model from the `sim_model_dictionary` dictionary. Then, pull out the $(\\alpha, \\beta)$ parameters from the `sim` model instance and compute the expected return $\\mathbb{E}(R_{i})$. Store the expected return in the `μ_sim` array"
   ]
  },
  {
   "cell_type": "code",
   "execution_count": 13,
   "id": "6d9258a1-0c39-4721-8d8c-e67070072ff5",
   "metadata": {
    "tags": []
   },
   "outputs": [],
   "source": [
    "μ_sim = Array{Float64,1}();\n",
    "for i ∈ eachindex(list_of_all_tickers)\n",
    "    sim = list_of_all_tickers[i] |> ticker -> sim_model_dictionary[ticker];   \n",
    "    αᵢ = sim.α\n",
    "    βᵢ = sim.β\n",
    "    (αᵢ+βᵢ*Rₘ) |> R̄ᵢ-> push!(μ_sim,R̄ᵢ); # evaluate the SIM for all the models in our collection\n",
    "end"
   ]
  },
  {
   "cell_type": "markdown",
   "id": "f28f3361-7a89-46f0-be64-2519f5a7041e",
   "metadata": {},
   "source": [
    "#### Compute the Covariance matrix using single index models\n",
    "Next, build the covariance array using single index models. Substituting the single index model for the excess return of asset $i$ and $j$ into the covariance expression (and simplifying) gives:\n",
    "$$\n",
    "\\begin{equation*}\n",
    "\\text{cov}(R_{i}, R_{j}) = \\begin{cases}\n",
    "\\beta_{i}^{2}\\sigma_{m}^{2}+\\sigma_{\\epsilon_{i}}^{2} & i = j \\\\\n",
    "\\beta_{i}\\beta_{j}\\sigma_{m}^2 & i \\neq j\n",
    "\\end{cases}\n",
    "\\end{equation*}\n",
    "$$\n",
    "where $\\sigma_{m}^2$ denotes the variance of the excess return of the market,  and $\\sigma_{\\epsilon_{i}}^{2}$ denotes the variance of the firm-specific error model.\n",
    "\n",
    "* To compute the risk $\\sigma_{m}$, which is the standard deviation of the return for the market portfolio, we first find the index for `SPY` in the `all_firms_excess_return_matrix` using the [Julia findfirst(..) function](https://docs.julialang.org/en/v1/base/arrays/#Base.findfirst-Tuple{Any}), and then pass that value to the `all_firms_excess_return_matrix` using the [Julia pipe operator](https://docs.julialang.org/en/v1/manual/functions/#Function-composition-and-piping). Finally, we calculate the standard deviation of the return using the [std(...) function exported by the Statistics.jl package](https://docs.julialang.org/en/v1/stdlib/Statistics/#Statistics)."
   ]
  },
  {
   "cell_type": "code",
   "execution_count": 14,
   "id": "f9cd87c4-f581-4e3e-a000-88d10a9d5e7e",
   "metadata": {
    "tags": []
   },
   "outputs": [],
   "source": [
    "σₘ = findfirst(x->x == \"SPY\", list_of_all_tickers) |> i-> std(all_firms_excess_return_matrix[:, i]); # get SPY σ from data"
   ]
  },
  {
   "cell_type": "code",
   "execution_count": 35,
   "id": "cba541f8",
   "metadata": {},
   "outputs": [
    {
     "data": {
      "text/plain": [
       "2.5215883136716943"
      ]
     },
     "metadata": {},
     "output_type": "display_data"
    }
   ],
   "source": [
    "σₘ"
   ]
  },
  {
   "cell_type": "markdown",
   "id": "40ef12a8-9ad5-46d9-8518-4b5387b5fef7",
   "metadata": {},
   "source": [
    "Finally, we populate the single index covariance array `Σ_sim` using nested [`for-loops.`](https://docs.julialang.org/en/v1/base/base/#for)."
   ]
  },
  {
   "cell_type": "code",
   "execution_count": 15,
   "id": "88163f26-dd92-49f3-9205-729192450f7e",
   "metadata": {
    "tags": []
   },
   "outputs": [],
   "source": [
    "Σ_sim = let\n",
    "    Σ_tmp = Array{Float64,2}(undef, length(μ), length(μ));\n",
    "    for i ∈ eachindex(list_of_all_tickers)\n",
    "        \n",
    "        outer_ticker = list_of_all_tickers[i]; # ticker on the rows \n",
    "        sim_outer = sim_model_dictionary[outer_ticker]; # get SIM model for row ticker\n",
    "        \n",
    "        for j ∈ eachindex(list_of_all_tickers)\n",
    "            \n",
    "            inner_ticker = list_of_all_tickers[j]; # ticker in the cols\n",
    "            sim_inner = sim_model_dictionary[inner_ticker]; # get SIM model of the col ticker\n",
    "            \n",
    "            if (i == j) # we have a diagonal element\n",
    "                βᵢ = sim_outer.β\n",
    "                ϵᵢ = sim_outer.ϵ\n",
    "                σ_ϵᵢ = params(ϵᵢ)[2];\n",
    "                Σ_tmp[i,j] = ((βᵢ)^2)*((σₘ)^2)+(σ_ϵᵢ)^2\n",
    "            else\n",
    "                βᵢ = sim_outer.β\n",
    "                βⱼ = sim_inner.β\n",
    "                Σ_tmp[i,j] = βᵢ*βⱼ*(σₘ)^2\n",
    "            end\n",
    "        end\n",
    "    end\n",
    "    Σ_sim  = Σ_tmp |> x-> x*(1/252) # annualize\n",
    "end;"
   ]
  },
  {
   "cell_type": "markdown",
   "id": "2ddbb66e-c036-4622-9426-dd4e7ed131e4",
   "metadata": {},
   "source": [
    "## Task 1: Build the return array and covariance matrix for our low-correlation tickers\n",
    "Before computing the efficient frontier using data and single index models, we need to determine which stocks to include in the risky portfolio. One approach is to choose stocks with small or negative correlations. Let's delve into this concept by selecting specific stock symbols and then using the methods from earlier modules to calculate their low-correlation partner firms.\n",
    "* We begin by populating the `correlated_ticker_pairs::Dict{String, Array{Tuple{String, String, Float64},1}}` dictionary. We populate this dictionary using a `for-loop` over the `list_of_all_tickers.` For each ticker:\n",
    "* We access the ticker at index `i` from the `list_of_all_tickers`. We then access the corresponding row in the correlation matrix `ρ` and then sort using the [Julia sortperm(...) function](https://docs.julialang.org/en/v1/base/sort/#Base.sortperm). This function returns the permutation vector that sorts the covariance entries from `smallest` to `largest.` Finally, we generate a list of tickers sorted by correlation in ascending order for each value of `test_ticker` using an [array comprehension operation](https://docs.julialang.org/en/v1/manual/arrays/#man-comprehensions) in combination with the [Julia pipe operation](https://docs.julialang.org/en/v1/manual/functions/#Function-composition-and-piping). We store both the ticker and the entry of the correlation matrix:"
   ]
  },
  {
   "cell_type": "code",
   "execution_count": 16,
   "id": "2b5d8235-ceb0-4a19-a916-bc3ae4960b5b",
   "metadata": {},
   "outputs": [
    {
     "data": {
      "text/plain": [
       "Dict{String, Vector{Tuple{String, String, Float64}}} with 460 entries:\n",
       "  \"TPR\"  => [(\"TPR\", \"CPB\", -0.0335701), (\"TPR\", \"CLX\", -0.0325634), (\"TPR\", \"K…\n",
       "  \"EMR\"  => [(\"EMR\", \"CLX\", 0.0148307), (\"EMR\", \"GLD\", 0.0184654), (\"EMR\", \"KR\"…\n",
       "  \"CTAS\" => [(\"CTAS\", \"KR\", 0.0051986), (\"CTAS\", \"CLX\", 0.0711865), (\"CTAS\", \"G…\n",
       "  \"HSIC\" => [(\"HSIC\", \"GLD\", 0.0203412), (\"HSIC\", \"EA\", 0.0574917), (\"HSIC\", \"K…\n",
       "  \"KIM\"  => [(\"KIM\", \"KR\", -0.00164488), (\"KIM\", \"CLX\", 0.00152225), (\"KIM\", \"G…\n",
       "  \"PLD\"  => [(\"PLD\", \"UNG\", 0.0825773), (\"PLD\", \"KR\", 0.0999649), (\"PLD\", \"IR\",…\n",
       "  \"IEX\"  => [(\"IEX\", \"GLD\", 0.0425545), (\"IEX\", \"KR\", 0.0930673), (\"IEX\", \"UNG\"…\n",
       "  \"BAC\"  => [(\"BAC\", \"GLD\", -0.069935), (\"BAC\", \"CLX\", -0.0256813), (\"BAC\", \"KR…\n",
       "  \"CBOE\" => [(\"CBOE\", \"KR\", 0.0110771), (\"CBOE\", \"GLD\", 0.0536606), (\"CBOE\", \"U…\n",
       "  \"EXR\"  => [(\"EXR\", \"KR\", 0.0786332), (\"EXR\", \"IR\", 0.0901916), (\"EXR\", \"UNG\",…\n",
       "  \"NCLH\" => [(\"NCLH\", \"CLX\", -0.091607), (\"NCLH\", \"KR\", -0.0647844), (\"NCLH\", \"…\n",
       "  \"CVS\"  => [(\"CVS\", \"GLD\", 0.00256612), (\"CVS\", \"SLV\", 0.0629453), (\"CVS\", \"IR…\n",
       "  \"DRI\"  => [(\"DRI\", \"CLX\", -0.104942), (\"DRI\", \"KR\", -0.0825326), (\"DRI\", \"CPB…\n",
       "  \"DTE\"  => [(\"DTE\", \"NFLX\", 0.0431387), (\"DTE\", \"TTWO\", 0.0680759), (\"DTE\", \"K…\n",
       "  \"ZION\" => [(\"ZION\", \"GLD\", -0.111978), (\"ZION\", \"CLX\", -0.0455295), (\"ZION\", …\n",
       "  \"AVY\"  => [(\"AVY\", \"GLD\", 0.0332247), (\"AVY\", \"KR\", 0.0594205), (\"AVY\", \"UNG\"…\n",
       "  \"EW\"   => [(\"EW\", \"KR\", 0.0139593), (\"EW\", \"UNG\", 0.0387759), (\"EW\", \"CLX\", 0…\n",
       "  \"EA\"   => [(\"EA\", \"IR\", 0.0209268), (\"EA\", \"HSIC\", 0.0574917), (\"EA\", \"GPS\", …\n",
       "  \"NWSA\" => [(\"NWSA\", \"GLD\", 0.0218845), (\"NWSA\", \"UNG\", 0.0455641), (\"NWSA\", \"…\n",
       "  ⋮      => ⋮"
      ]
     },
     "metadata": {},
     "output_type": "display_data"
    }
   ],
   "source": [
    "correlated_ticker_pair = let\n",
    "    correlated_ticker_pairs = Dict{String, Array{Tuple{String, String, Float64},1}}();\n",
    "    for i ∈ eachindex(list_of_all_tickers)\n",
    "        test_ticker = list_of_all_tickers[i];\n",
    "        id = sortperm(ρ[i,:])\n",
    "        [(test_ticker, list_of_all_tickers[id[j]],ρ[i,id[j]]) for j ∈ eachindex(id)] |> tuple -> correlated_ticker_pairs[test_ticker] = tuple;\n",
    "    end\n",
    "    correlated_ticker_pairs\n",
    "end"
   ]
  },
  {
   "cell_type": "markdown",
   "id": "b291e60c-6cda-43b9-ab72-fee4eb6b595f",
   "metadata": {},
   "source": [
    "Next, specify a collection of tickers that interest you in the `my_list_of_tickers` array, e.g., `AAPL,` `MSFT,` etc. We'll then find the `low-correlation` twin tickers and insert these (along with your initial tickers) into the `my_low_correlation_ticker_array` array:"
   ]
  },
  {
   "cell_type": "code",
   "execution_count": 17,
   "id": "987b9082-695b-476d-98bd-11bf8c285514",
   "metadata": {
    "tags": []
   },
   "outputs": [
    {
     "data": {
      "text/plain": [
       "24-element Vector{String}:\n",
       " \"AAPL\"\n",
       " \"UNG\"\n",
       " \"MSFT\"\n",
       " \"KR\"\n",
       " \"INTC\"\n",
       " \"CPB\"\n",
       " \"MU\"\n",
       " \"GIS\"\n",
       " \"AMD\"\n",
       " \"SJM\"\n",
       " ⋮\n",
       " \"CLX\"\n",
       " \"WFC\"\n",
       " \"CHD\"\n",
       " \"C\"\n",
       " \"HRL\"\n",
       " \"F\"\n",
       " \"REGN\"\n",
       " \"GM\"\n",
       " \"KMB\""
      ]
     },
     "metadata": {},
     "output_type": "display_data"
    }
   ],
   "source": [
    "my_list_of_tickers = [\"AAPL\", \"MSFT\", \"INTC\", \"MU\", \"AMD\", \"NVDA\", \"GS\", \"BAC\", \"WFC\", \"C\", \"F\", \"GM\"];\n",
    "my_low_correlation_ticker_array = Array{String,1}();\n",
    "for base_ticker ∈ my_list_of_tickers\n",
    "\n",
    "  ticker_record_tuple_array = correlated_ticker_pair[base_ticker];\n",
    "    \n",
    "    # find high correlation tickers - \n",
    "    counter = 0;\n",
    "    twin_ticker = base_ticker;\n",
    "    while !(in(twin_ticker, my_low_correlation_ticker_array) == false && twin_ticker != base_ticker)\n",
    "        twin_ticker = ticker_record_tuple_array[counter+1][2];\n",
    "        counter += 1;\n",
    "    end\n",
    "\n",
    "    push!(my_low_correlation_ticker_array, base_ticker)\n",
    "    push!(my_low_correlation_ticker_array, twin_ticker)\n",
    "    \n",
    "end\n",
    "my_low_correlation_ticker_array"
   ]
  },
  {
   "cell_type": "markdown",
   "id": "9d4ca8e5-e3e3-4efb-ae95-833e87cbeac0",
   "metadata": {},
   "source": [
    "Finally, we'll get the indexes of the `low-correlation` tickers that we computed above, i.e., we'll look up the position of the tickers in the `list_of_all_tickers` list and save these values in the `my_list_of_firm_ids` variable by iterating through the `my_low_correlation_ticker_array`:"
   ]
  },
  {
   "cell_type": "code",
   "execution_count": 18,
   "id": "d2a229ee-2a1b-482e-af66-daaef1364249",
   "metadata": {},
   "outputs": [],
   "source": [
    "my_list_of_firm_ids = Array{Int64,1}();\n",
    "for ticker ∈ my_low_correlation_ticker_array\n",
    "    findfirst(x->x==ticker, list_of_all_tickers) |> i -> push!(my_list_of_firm_ids, i);\n",
    "end"
   ]
  },
  {
   "cell_type": "markdown",
   "id": "c27ba58a-3226-4883-844d-5b1ce084871a",
   "metadata": {},
   "source": [
    "After selecting the firms for your risky portfolio, calculate the firm-specific expected return vector and covariance matrix. We will store these in the variables $\\hat{\\mu}_{\\star}$ and $\\hat{\\Sigma}_{\\star}$. The single index expected return will have a subscript `sim.`"
   ]
  },
  {
   "cell_type": "code",
   "execution_count": 19,
   "id": "edf0c44d-4af0-4a1a-86b7-42706212871b",
   "metadata": {
    "tags": []
   },
   "outputs": [],
   "source": [
    "# --- DO NOT CHANGE THIS BLOCK ----------------------------------------- #\n",
    "μ̂ = Array{Float64,1}();\n",
    "μ̂_sim = Array{Float64,1}();\n",
    "for firm_index ∈ my_list_of_firm_ids\n",
    "    push!(μ̂, μ[firm_index])\n",
    "    push!(μ̂_sim, μ_sim[firm_index])\n",
    "end\n",
    "# ---------------------------------------------------------------------- #"
   ]
  },
  {
   "cell_type": "code",
   "execution_count": 20,
   "id": "42a00e0b-9e06-4a8d-837b-9ae6692ce35c",
   "metadata": {},
   "outputs": [
    {
     "data": {
      "text/plain": [
       "24-element Vector{Float64}:\n",
       "  0.21073295027013159\n",
       " -0.295131911779009\n",
       "  0.2071096422442993\n",
       "  0.042896299418748986\n",
       " -0.01998539140920752\n",
       " -0.05317247323193198\n",
       "  0.06993080492212196\n",
       " -0.022095680482093715\n",
       "  0.3862583317931452\n",
       " -0.03519266083711634\n",
       "  ⋮\n",
       " -0.04055780105664847\n",
       " -0.07603624633783583\n",
       "  0.07041003646379124\n",
       " -0.10076073302977084\n",
       " -0.05786431713273217\n",
       " -0.04582213933206383\n",
       "  0.09578824598042919\n",
       " -0.06699217744610869\n",
       " -0.03326277424670798"
      ]
     },
     "metadata": {},
     "output_type": "display_data"
    }
   ],
   "source": [
    "μ̂_sim"
   ]
  },
  {
   "cell_type": "markdown",
   "id": "cf6e0031-89ac-48c5-a79e-0f5ae86983f6",
   "metadata": {},
   "source": [
    "Next, compute the firm-specific covariance $\\hat{\\Sigma}$ matrix for the data version of the problem:"
   ]
  },
  {
   "cell_type": "code",
   "execution_count": 21,
   "id": "16c088cc-0253-4d4d-8561-b7a084bac211",
   "metadata": {
    "tags": []
   },
   "outputs": [],
   "source": [
    "# --- DO NOT CHANGE THIS BLOCK ----------------------------------------- #\n",
    "my_number_of_selected_firms = length(my_list_of_firm_ids)\n",
    "Σ̂ = Array{Float64,2}(undef, my_number_of_selected_firms, my_number_of_selected_firms);\n",
    "for i ∈ eachindex(my_list_of_firm_ids)\n",
    "    row_firm_index = my_list_of_firm_ids[i]\n",
    "    for j ∈ eachindex(my_list_of_firm_ids)\n",
    "        col_firm_index = my_list_of_firm_ids[j]\n",
    "        Σ̂[i,j] = Σ[row_firm_index, col_firm_index]\n",
    "    end\n",
    "end\n",
    "# ---------------------------------------------------------------------- #"
   ]
  },
  {
   "cell_type": "markdown",
   "id": "b91fec59-ddba-47fa-95b0-b76145953015",
   "metadata": {},
   "source": [
    "and then the single index model version of the problem (where the single index version will has a subscript `sim`):"
   ]
  },
  {
   "cell_type": "code",
   "execution_count": 22,
   "id": "a041c01a-856f-4bd5-a10c-395418a57e76",
   "metadata": {
    "tags": []
   },
   "outputs": [],
   "source": [
    "# --- DO NOT CHANGE THIS BLOCK FOR SIM  -------------------------------- #\n",
    "my_number_of_selected_firms = length(my_list_of_firm_ids)\n",
    "Σ̂_sim = Array{Float64,2}(undef, my_number_of_selected_firms, my_number_of_selected_firms);\n",
    "for i ∈ eachindex(my_list_of_firm_ids)\n",
    "    row_firm_index = my_list_of_firm_ids[i]\n",
    "    for j ∈ eachindex(my_list_of_firm_ids)\n",
    "        col_firm_index = my_list_of_firm_ids[j]\n",
    "        Σ̂_sim[i,j] = Σ_sim[row_firm_index, col_firm_index]\n",
    "    end\n",
    "end\n",
    "# ---------------------------------------------------------------------- #"
   ]
  },
  {
   "cell_type": "markdown",
   "id": "401a2d24-deb1-4bbb-ba05-2f6c7611ea20",
   "metadata": {},
   "source": [
    "## Task 2: Compute the efficient frontier for your low-correlation collection of stocks\n",
    "Now, we can compute the data-driven and single index model efficient frontiers, assuming only risky assets. To begin, create an instance of the [MyMarkowitzRiskyAssetOnlyPortfiolioChoiceProblem type](https://varnerlab.github.io/VLQuantitativeFinancePackage.jl/dev/portfolio/#VLQuantitativeFinancePackage.MyMarkowitzRiskyAssetOnlyPortfiolioChoiceProblem) using a custom [build(...) method](https://varnerlab.github.io/VLQuantitativeFinancePackage.jl/dev/portfolio/#VLQuantitativeFinancePackage.build-Tuple{Type{MyMarkowitzRiskyAssetOnlyPortfiolioChoiceProblem},%20NamedTuple}). Store this in the `problem_risk` variable. \n",
    "* You'll need to pass your covariance array $\\hat{\\Sigma}_{\\star}$, the expected return array $\\hat{\\mu}_{\\star}$, along with bounds and an initial guess, to the [build(...) method](https://varnerlab.github.io/VLQuantitativeFinancePackage.jl/dev/portfolio/#VLQuantitativeFinancePackage.build-Tuple{Type{MyMarkowitzRiskyAssetOnlyPortfiolioChoiceProblem},%20NamedTuple}). Start by setting up the bounds and constants in the problem:"
   ]
  },
  {
   "cell_type": "code",
   "execution_count": 23,
   "id": "0840da92-f0f9-4072-9df6-39f09e6c4e4d",
   "metadata": {
    "tags": []
   },
   "outputs": [],
   "source": [
    "number_of_firms = length(my_list_of_firm_ids);\n",
    "wₒ = zeros(number_of_firms);\n",
    "wₒ[1] = 1.0;\n",
    "bounds = zeros(number_of_firms,2);\n",
    "bounds[:,2] .= 1.0;\n",
    "number_of_points = 50;"
   ]
  },
  {
   "cell_type": "markdown",
   "id": "ba901c71-c62c-44d9-9976-1d08e83f8350",
   "metadata": {},
   "source": [
    "Build an instance of the [MyMarkowitzRiskyAssetOnlyPortfiolioChoiceProblem type](https://varnerlab.github.io/VLQuantitativeFinancePackage.jl/dev/portfolio/#VLQuantitativeFinancePackage.MyMarkowitzRiskyAssetOnlyPortfiolioChoiceProblem) using a custom [build(...) method](https://varnerlab.github.io/VLQuantitativeFinancePackage.jl/dev/portfolio/#VLQuantitativeFinancePackage.build-Tuple{Type{MyMarkowitzRiskyAssetOnlyPortfiolioChoiceProblem},%20NamedTuple}) for the `data` version of the problem:"
   ]
  },
  {
   "cell_type": "code",
   "execution_count": 24,
   "id": "4ba80199-8917-4357-a800-4c973148de3d",
   "metadata": {
    "tags": []
   },
   "outputs": [],
   "source": [
    "problem_risk = build(MyMarkowitzRiskyAssetOnlyPortfiolioChoiceProblem, (\n",
    "    Σ = Σ̂, # data cov matrix\n",
    "    μ = μ̂, # data expected return\n",
    "    bounds = bounds,\n",
    "    initial = wₒ,\n",
    "    R = 0.0\n",
    "));"
   ]
  },
  {
   "cell_type": "code",
   "execution_count": 25,
   "id": "f3bf3523-6528-46ca-8279-9612219f1700",
   "metadata": {},
   "outputs": [
    {
     "data": {
      "text/plain": [
       "24×24 Matrix{Float64}:\n",
       " 0.0691322    0.00752633   0.0428959   …   0.0382918    0.0112587\n",
       " 0.00752633   0.269375     0.0101557       0.0192144    0.00147788\n",
       " 0.0428959    0.0101557    0.05572         0.0319478    0.0096101\n",
       " 0.00473437   0.0070473    0.00323629     -0.000447136  0.0135682\n",
       " 0.0380052    0.00970755   0.0355687       0.0451425    0.00881085\n",
       " 0.00773837   0.000695411  0.00511265  …   8.91518e-5   0.0219338\n",
       " 0.0500713    0.0128806    0.0441428       0.0709442    0.00545694\n",
       " 0.00908807   0.0028612    0.0070036       0.00135966   0.0212201\n",
       " 0.0594079    0.016661     0.0575966       0.0585269    0.00716283\n",
       " 0.00854597   0.00327555   0.00525486      0.00546453   0.0205818\n",
       " ⋮                                     ⋱                \n",
       " 0.0102132   -0.00120133   0.00828509  …  -0.00470553   0.0274609\n",
       " 0.0262735    0.0143009    0.0234463       0.0688318    0.00785283\n",
       " 0.0111133   -0.000954111  0.0112244      -0.000439095  0.0234958\n",
       " 0.0351969    0.0229312    0.0302589       0.0826091    0.00770269\n",
       " 0.0102506    0.000959097  0.00790427      0.00238695   0.0171497\n",
       " 0.0366686    0.0225277    0.0298809   …   0.111928     0.00882834\n",
       " 0.0181248    0.00485052   0.0181491       0.00813975   0.0110489\n",
       " 0.0382918    0.0192144    0.0319478       0.143217     0.00599809\n",
       " 0.0112587    0.00147788   0.0096101       0.00599809   0.0360019"
      ]
     },
     "metadata": {},
     "output_type": "display_data"
    }
   ],
   "source": [
    "problem_risk.Σ"
   ]
  },
  {
   "cell_type": "markdown",
   "id": "10d8346c-4d38-495c-8550-d63576c4051a",
   "metadata": {},
   "source": [
    "and the `single index model` version of the problem (store the single index version of the problem in the `problem_risk_sim` variable):"
   ]
  },
  {
   "cell_type": "code",
   "execution_count": 26,
   "id": "8fe92cd2-dd7f-46e2-9a10-7a9f1de3f2d0",
   "metadata": {
    "tags": []
   },
   "outputs": [],
   "source": [
    "problem_risk_sim = build(MyMarkowitzRiskyAssetOnlyPortfiolioChoiceProblem, (\n",
    "    Σ = Σ̂_sim, # sim cov matrix\n",
    "    μ = μ̂_sim, # sim expected array\n",
    "    bounds = bounds,\n",
    "    initial = wₒ,\n",
    "    R = 0.0\n",
    "));"
   ]
  },
  {
   "cell_type": "markdown",
   "id": "287c4ec0-e9d4-45c9-9c2e-7db7911b4b41",
   "metadata": {},
   "source": [
    "Next, we create an array with the minimum desired rewards (the calculation must achieve at least this much reward). In this case, assume we go from `0` to `10`$\\times{r_{f}}$ and take `number_of_points` steps.  We store these values in the `minimum_desired_reward_array` variable:"
   ]
  },
  {
   "cell_type": "code",
   "execution_count": 27,
   "id": "a62e9f23-02cb-4c3c-b5a0-30215ca2c86f",
   "metadata": {
    "tags": []
   },
   "outputs": [],
   "source": [
    "minimum_desired_reward_array = range(0.0, stop = 10*risk_free_rate, length = number_of_points) |> collect; # excess return from zero"
   ]
  },
  {
   "cell_type": "markdown",
   "id": "9e583610-fae9-4325-a3d1-70476ad2847c",
   "metadata": {},
   "source": [
    "Finally, we now iterate through the `minimum_desired_reward_array` and compute the minimum risk required to achieve the specified reward level using a `for-loop.` For each pass through the loop, we:\n",
    "* Update the `problem_risk` variable with the minimum desired reward (set the `R` field). We then pass the updated `problem_risk` object to the [solve(...) method](https://varnerlab.github.io/VLQuantitativeFinancePackage.jl/dev/portfolio/#VLQuantitativeFinancePackage.solve-Tuple{MyMarkowitzRiskyAssetOnlyPortfiolioChoiceProblem}) (which initializes and solves the optimization problem). The solution returned from the [solve(...) method](https://varnerlab.github.io/VLQuantitativeFinancePackage.jl/dev/portfolio/#VLQuantitativeFinancePackage.solve-Tuple{MyMarkowitzRiskyAssetOnlyPortfiolioChoiceProblem}) is stored in the `solution` dictionary. \n",
    "* We check the `status` of the solution. If the `status` indicates an optimal solution was found, we store that solution in the `efficient_frontier` dictionary. In particular, we store the portfolio risk $\\sigma_{\\mathcal{P}}$ as the `key` and the portfolio's expected return as the `value` in the `efficient_frontier` dictionary.\n",
    "* Why the [try-catch environment](https://docs.julialang.org/en/v1/base/base/#try)? The [solve(...) method](https://varnerlab.github.io/VLQuantitativeFinancePackage.jl/dev/portfolio/#VLQuantitativeFinancePackage.solve-Tuple{MyMarkowitzRiskyAssetOnlyPortfiolioChoiceProblem}) has an [@assert statement](https://docs.julialang.org/en/v1/base/base/#Base.@assert) to check if the calculation has converged. Thus, the solve method can [throw](https://docs.julialang.org/en/v1/base/base/#Core.throw) an [AssertionError](https://docs.julialang.org/en/v1/base/base/#Core.AssertionError) if the optimization problem fails to converge. To gracefully handle this case, we use a [try-catch construct](https://docs.julialang.org/en/v1/base/base/#try). See the [is_solved_and_feasible method from the JuMP package](https://jump.dev/JuMP.jl/stable/api/JuMP/#JuMP.is_solved_and_feasible) for more information."
   ]
  },
  {
   "cell_type": "code",
   "execution_count": 28,
   "id": "8c80968c-cdf4-4759-9bc5-c21a32a40055",
   "metadata": {
    "tags": []
   },
   "outputs": [],
   "source": [
    "efficient_frontier = Dict{Float64,Float64}();\n",
    "for i ∈ eachindex(minimum_desired_reward_array)\n",
    "    \n",
    "    # update the problem object -\n",
    "    problem_risk.R = minimum_desired_reward_array[i];\n",
    "\n",
    "    try\n",
    "        solution = solve(problem_risk)\n",
    "\n",
    "        # check: did this converge?\n",
    "        status_flag = solution[\"status\"];    \n",
    "        if (status_flag == MathOptInterface.LOCALLY_SOLVED)\n",
    "            key = sqrt(solution[\"objective_value\"]);\n",
    "            value = solution[\"reward\"];\n",
    "            efficient_frontier[key] = value;\n",
    "        end\n",
    "    catch err\n",
    "        # Uncomment to see which R's failed ...\n",
    "        # println(\"Failed: desired R = $(problem_risk.R). Infeasible\");\n",
    "    end\n",
    "end\n",
    "efficient_frontier;"
   ]
  },
  {
   "cell_type": "markdown",
   "id": "60b0b348-5129-46cf-836f-7c407bfbc032",
   "metadata": {},
   "source": [
    "Let's now do the same thing for the single index model case, where we store the results in the `efficient_frontier_sim` dictionary:"
   ]
  },
  {
   "cell_type": "code",
   "execution_count": 29,
   "id": "ef9652f6-cd88-4036-8efd-ed0cc11132cb",
   "metadata": {
    "tags": []
   },
   "outputs": [],
   "source": [
    "efficient_frontier_sim = Dict{Float64,Float64}();\n",
    "for i ∈ eachindex(minimum_desired_reward_array)\n",
    "    \n",
    "    # update the problem object -\n",
    "    problem_risk_sim.R = minimum_desired_reward_array[i];\n",
    "\n",
    "    try\n",
    "        # compute -\n",
    "        solution_sim = solve(problem_risk_sim)\n",
    "\n",
    "        # check: did this converge?\n",
    "        status_flag = solution_sim[\"status\"];    \n",
    "        if (status_flag == MathOptInterface.LOCALLY_SOLVED)\n",
    "            key = sqrt(solution_sim[\"objective_value\"]);\n",
    "            value = solution_sim[\"reward\"];\n",
    "            efficient_frontier_sim[key] = value;\n",
    "        end\n",
    "    catch err\n",
    "        # Uncomment to see which R's failed ...\n",
    "        # println(\"Failed: desired R = $(problem_risk_sim.R). Infeasible\");\n",
    "    end\n",
    "end\n",
    "efficient_frontier_sim;"
   ]
  },
  {
   "cell_type": "markdown",
   "id": "97244c7f-c619-4c4d-8bbd-f70c3b2ae812",
   "metadata": {},
   "source": [
    "### TODO: Visualize the efficient frontiers for the data and single index model\n",
    "`Unhide` the code block below to see how we visualized the data-driven and single-index model efficient frontiers using [methods from the Plots.jl package](https://github.com/JuliaPlots/Plots.jl).\n",
    "* __Summary__: The return distributions predicted by the single-index model and the observed return distributions differ (see the previous module on single-index models to explore these differences). Thus, we expect the data-driven and single-index models to have different efficient frontiers. We observe that the single index model efficient frontier (red curve) is shifted to the left, i.e., the single index model predicts _less risk_ for the same reward. "
   ]
  },
  {
   "cell_type": "code",
   "execution_count": 30,
   "id": "40d141d1-3652-40c8-bdbb-0634053827af",
   "metadata": {
    "tags": []
   },
   "outputs": [
    {
     "data": {
      "image/png": "[encoded data removed]",
      "image/svg+xml": [
       "<?xml version=\"1.0\" encoding=\"utf-8\"?>\n",
       "<svg xmlns=\"http://www.w3.org/2000/svg\" xmlns:xlink=\"http://www.w3.org/1999/xlink\" width=\"600\" height=\"400\" viewBox=\"0 0 2400 1600\">\n",
       "<defs>\n",
       "  <clipPath id=\"clip750\">\n",
       "    <rect x=\"0\" y=\"0\" width=\"2400\" height=\"1600\"/>\n",
       "  </clipPath>\n",
       "</defs>\n",
       "<path clip-path=\"url(#clip750)\" d=\"M0 1600 L2400 1600 L2400 8.88178e-14 L0 8.88178e-14  Z\" fill=\"#ffffff\" fill-rule=\"evenodd\" fill-opacity=\"1\"/>\n",
       "<defs>\n",
       "  <clipPath id=\"clip751\">\n",
       "    <rect x=\"480\" y=\"0\" width=\"1681\" height=\"1600\"/>\n",
       "  </clipPath>\n",
       "</defs>\n",
       "<path clip-path=\"url(#clip750)\" d=\"M219.38 1423.18 L2352.76 1423.18 L2352.76 47.2441 L219.38 47.2441  Z\" fill=\"#f2f2f2\" fill-rule=\"evenodd\" fill-opacity=\"1\"/>\n",
       "<defs>\n",
       "  <clipPath id=\"clip752\">\n",
       "    <rect x=\"219\" y=\"47\" width=\"2134\" height=\"1377\"/>\n",
       "  </clipPath>\n",
       "</defs>\n",
       "<polyline clip-path=\"url(#clip752)\" style=\"stroke:#000000; stroke-linecap:round; stroke-linejoin:round; stroke-width:2; stroke-opacity:0.1; fill:none\" points=\"219.38,1423.18 219.38,47.2441 \"/>\n",
       "<polyline clip-path=\"url(#clip752)\" style=\"stroke:#000000; stroke-linecap:round; stroke-linejoin:round; stroke-width:2; stroke-opacity:0.1; fill:none\" points=\"632.054,1423.18 632.054,47.2441 \"/>\n",
       "<polyline clip-path=\"url(#clip752)\" style=\"stroke:#000000; stroke-linecap:round; stroke-linejoin:round; stroke-width:2; stroke-opacity:0.1; fill:none\" points=\"1044.73,1423.18 1044.73,47.2441 \"/>\n",
       "<polyline clip-path=\"url(#clip752)\" style=\"stroke:#000000; stroke-linecap:round; stroke-linejoin:round; stroke-width:2; stroke-opacity:0.1; fill:none\" points=\"1457.4,1423.18 1457.4,47.2441 \"/>\n",
       "<polyline clip-path=\"url(#clip752)\" style=\"stroke:#000000; stroke-linecap:round; stroke-linejoin:round; stroke-width:2; stroke-opacity:0.1; fill:none\" points=\"1870.07,1423.18 1870.07,47.2441 \"/>\n",
       "<polyline clip-path=\"url(#clip752)\" style=\"stroke:#000000; stroke-linecap:round; stroke-linejoin:round; stroke-width:2; stroke-opacity:0.1; fill:none\" points=\"2282.75,1423.18 2282.75,47.2441 \"/>\n",
       "<polyline clip-path=\"url(#clip752)\" style=\"stroke:#000000; stroke-linecap:round; stroke-linejoin:round; stroke-width:2; stroke-opacity:0.1; fill:none\" points=\"219.38,1423.18 219.38,47.2441 \"/>\n",
       "<polyline clip-path=\"url(#clip752)\" style=\"stroke:#000000; stroke-linecap:round; stroke-linejoin:round; stroke-width:2; stroke-opacity:0.1; fill:none\" points=\"632.054,1423.18 632.054,47.2441 \"/>\n",
       "<polyline clip-path=\"url(#clip752)\" style=\"stroke:#000000; stroke-linecap:round; stroke-linejoin:round; stroke-width:2; stroke-opacity:0.1; fill:none\" points=\"1044.73,1423.18 1044.73,47.2441 \"/>\n",
       "<polyline clip-path=\"url(#clip752)\" style=\"stroke:#000000; stroke-linecap:round; stroke-linejoin:round; stroke-width:2; stroke-opacity:0.1; fill:none\" points=\"1457.4,1423.18 1457.4,47.2441 \"/>\n",
       "<polyline clip-path=\"url(#clip752)\" style=\"stroke:#000000; stroke-linecap:round; stroke-linejoin:round; stroke-width:2; stroke-opacity:0.1; fill:none\" points=\"1870.07,1423.18 1870.07,47.2441 \"/>\n",
       "<polyline clip-path=\"url(#clip752)\" style=\"stroke:#000000; stroke-linecap:round; stroke-linejoin:round; stroke-width:2; stroke-opacity:0.1; fill:none\" points=\"2282.75,1423.18 2282.75,47.2441 \"/>\n",
       "<polyline clip-path=\"url(#clip752)\" style=\"stroke:#000000; stroke-linecap:round; stroke-linejoin:round; stroke-width:2; stroke-opacity:0.1; fill:none\" points=\"219.38,1384.24 2352.76,1384.24 \"/>\n",
       "<polyline clip-path=\"url(#clip752)\" style=\"stroke:#000000; stroke-linecap:round; stroke-linejoin:round; stroke-width:2; stroke-opacity:0.1; fill:none\" points=\"219.38,1043.6 2352.76,1043.6 \"/>\n",
       "<polyline clip-path=\"url(#clip752)\" style=\"stroke:#000000; stroke-linecap:round; stroke-linejoin:round; stroke-width:2; stroke-opacity:0.1; fill:none\" points=\"219.38,702.955 2352.76,702.955 \"/>\n",
       "<polyline clip-path=\"url(#clip752)\" style=\"stroke:#000000; stroke-linecap:round; stroke-linejoin:round; stroke-width:2; stroke-opacity:0.1; fill:none\" points=\"219.38,362.314 2352.76,362.314 \"/>\n",
       "<polyline clip-path=\"url(#clip752)\" style=\"stroke:#000000; stroke-linecap:round; stroke-linejoin:round; stroke-width:2; stroke-opacity:0.1; fill:none\" points=\"219.38,1384.24 2352.76,1384.24 \"/>\n",
       "<polyline clip-path=\"url(#clip752)\" style=\"stroke:#000000; stroke-linecap:round; stroke-linejoin:round; stroke-width:2; stroke-opacity:0.1; fill:none\" points=\"219.38,1043.6 2352.76,1043.6 \"/>\n",
       "<polyline clip-path=\"url(#clip752)\" style=\"stroke:#000000; stroke-linecap:round; stroke-linejoin:round; stroke-width:2; stroke-opacity:0.1; fill:none\" points=\"219.38,702.955 2352.76,702.955 \"/>\n",
       "<polyline clip-path=\"url(#clip752)\" style=\"stroke:#000000; stroke-linecap:round; stroke-linejoin:round; stroke-width:2; stroke-opacity:0.1; fill:none\" points=\"219.38,362.314 2352.76,362.314 \"/>\n",
       "<polyline clip-path=\"url(#clip750)\" style=\"stroke:#000000; stroke-linecap:round; stroke-linejoin:round; stroke-width:4; stroke-opacity:1; fill:none\" points=\"219.38,1423.18 2352.76,1423.18 \"/>\n",
       "<polyline clip-path=\"url(#clip750)\" style=\"stroke:#000000; stroke-linecap:round; stroke-linejoin:round; stroke-width:4; stroke-opacity:1; fill:none\" points=\"219.38,47.2441 2352.76,47.2441 \"/>\n",
       "<polyline clip-path=\"url(#clip750)\" style=\"stroke:#000000; stroke-linecap:round; stroke-linejoin:round; stroke-width:4; stroke-opacity:1; fill:none\" points=\"219.38,1423.18 219.38,1404.28 \"/>\n",
       "<polyline clip-path=\"url(#clip750)\" style=\"stroke:#000000; stroke-linecap:round; stroke-linejoin:round; stroke-width:4; stroke-opacity:1; fill:none\" points=\"632.054,1423.18 632.054,1404.28 \"/>\n",
       "<polyline clip-path=\"url(#clip750)\" style=\"stroke:#000000; stroke-linecap:round; stroke-linejoin:round; stroke-width:4; stroke-opacity:1; fill:none\" points=\"1044.73,1423.18 1044.73,1404.28 \"/>\n",
       "<polyline clip-path=\"url(#clip750)\" style=\"stroke:#000000; stroke-linecap:round; stroke-linejoin:round; stroke-width:4; stroke-opacity:1; fill:none\" points=\"1457.4,1423.18 1457.4,1404.28 \"/>\n",
       "<polyline clip-path=\"url(#clip750)\" style=\"stroke:#000000; stroke-linecap:round; stroke-linejoin:round; stroke-width:4; stroke-opacity:1; fill:none\" points=\"1870.07,1423.18 1870.07,1404.28 \"/>\n",
       "<polyline clip-path=\"url(#clip750)\" style=\"stroke:#000000; stroke-linecap:round; stroke-linejoin:round; stroke-width:4; stroke-opacity:1; fill:none\" points=\"2282.75,1423.18 2282.75,1404.28 \"/>\n",
       "<polyline clip-path=\"url(#clip750)\" style=\"stroke:#000000; stroke-linecap:round; stroke-linejoin:round; stroke-width:4; stroke-opacity:1; fill:none\" points=\"219.38,47.2441 219.38,66.1417 \"/>\n",
       "<polyline clip-path=\"url(#clip750)\" style=\"stroke:#000000; stroke-linecap:round; stroke-linejoin:round; stroke-width:4; stroke-opacity:1; fill:none\" points=\"632.054,47.2441 632.054,66.1417 \"/>\n",
       "<polyline clip-path=\"url(#clip750)\" style=\"stroke:#000000; stroke-linecap:round; stroke-linejoin:round; stroke-width:4; stroke-opacity:1; fill:none\" points=\"1044.73,47.2441 1044.73,66.1417 \"/>\n",
       "<polyline clip-path=\"url(#clip750)\" style=\"stroke:#000000; stroke-linecap:round; stroke-linejoin:round; stroke-width:4; stroke-opacity:1; fill:none\" points=\"1457.4,47.2441 1457.4,66.1417 \"/>\n",
       "<polyline clip-path=\"url(#clip750)\" style=\"stroke:#000000; stroke-linecap:round; stroke-linejoin:round; stroke-width:4; stroke-opacity:1; fill:none\" points=\"1870.07,47.2441 1870.07,66.1417 \"/>\n",
       "<polyline clip-path=\"url(#clip750)\" style=\"stroke:#000000; stroke-linecap:round; stroke-linejoin:round; stroke-width:4; stroke-opacity:1; fill:none\" points=\"2282.75,47.2441 2282.75,66.1417 \"/>\n",
       "<path clip-path=\"url(#clip750)\" d=\"M196.765 1454.1 Q193.153 1454.1 191.325 1457.66 Q189.519 1461.2 189.519 1468.33 Q189.519 1475.44 191.325 1479.01 Q193.153 1482.55 196.765 1482.55 Q200.399 1482.55 202.204 1479.01 Q204.033 1475.44 204.033 1468.33 Q204.033 1461.2 202.204 1457.66 Q200.399 1454.1 196.765 1454.1 M196.765 1450.39 Q202.575 1450.39 205.63 1455 Q208.709 1459.58 208.709 1468.33 Q208.709 1477.06 205.63 1481.67 Q202.575 1486.25 196.765 1486.25 Q190.954 1486.25 187.876 1481.67 Q184.82 1477.06 184.82 1468.33 Q184.82 1459.58 187.876 1455 Q190.954 1450.39 196.765 1450.39 Z\" fill=\"#000000\" fill-rule=\"nonzero\" fill-opacity=\"1\" /><path clip-path=\"url(#clip750)\" d=\"M216.926 1479.7 L221.811 1479.7 L221.811 1485.58 L216.926 1485.58 L216.926 1479.7 Z\" fill=\"#000000\" fill-rule=\"nonzero\" fill-opacity=\"1\" /><path clip-path=\"url(#clip750)\" d=\"M241.996 1454.1 Q238.385 1454.1 236.556 1457.66 Q234.75 1461.2 234.75 1468.33 Q234.75 1475.44 236.556 1479.01 Q238.385 1482.55 241.996 1482.55 Q245.63 1482.55 247.436 1479.01 Q249.264 1475.44 249.264 1468.33 Q249.264 1461.2 247.436 1457.66 Q245.63 1454.1 241.996 1454.1 M241.996 1450.39 Q247.806 1450.39 250.861 1455 Q253.94 1459.58 253.94 1468.33 Q253.94 1477.06 250.861 1481.67 Q247.806 1486.25 241.996 1486.25 Q236.186 1486.25 233.107 1481.67 Q230.051 1477.06 230.051 1468.33 Q230.051 1459.58 233.107 1455 Q236.186 1450.39 241.996 1450.39 Z\" fill=\"#000000\" fill-rule=\"nonzero\" fill-opacity=\"1\" /><path clip-path=\"url(#clip750)\" d=\"M610.051 1454.1 Q606.44 1454.1 604.612 1457.66 Q602.806 1461.2 602.806 1468.33 Q602.806 1475.44 604.612 1479.01 Q606.44 1482.55 610.051 1482.55 Q613.686 1482.55 615.491 1479.01 Q617.32 1475.44 617.32 1468.33 Q617.32 1461.2 615.491 1457.66 Q613.686 1454.1 610.051 1454.1 M610.051 1450.39 Q615.862 1450.39 618.917 1455 Q621.996 1459.58 621.996 1468.33 Q621.996 1477.06 618.917 1481.67 Q615.862 1486.25 610.051 1486.25 Q604.241 1486.25 601.163 1481.67 Q598.107 1477.06 598.107 1468.33 Q598.107 1459.58 601.163 1455 Q604.241 1450.39 610.051 1450.39 Z\" fill=\"#000000\" fill-rule=\"nonzero\" fill-opacity=\"1\" /><path clip-path=\"url(#clip750)\" d=\"M630.213 1479.7 L635.098 1479.7 L635.098 1485.58 L630.213 1485.58 L630.213 1479.7 Z\" fill=\"#000000\" fill-rule=\"nonzero\" fill-opacity=\"1\" /><path clip-path=\"url(#clip750)\" d=\"M646.093 1481.64 L653.732 1481.64 L653.732 1455.28 L645.422 1456.95 L645.422 1452.69 L653.685 1451.02 L658.361 1451.02 L658.361 1481.64 L666 1481.64 L666 1485.58 L646.093 1485.58 L646.093 1481.64 Z\" fill=\"#000000\" fill-rule=\"nonzero\" fill-opacity=\"1\" /><path clip-path=\"url(#clip750)\" d=\"M1022.91 1454.1 Q1019.3 1454.1 1017.47 1457.66 Q1015.66 1461.2 1015.66 1468.33 Q1015.66 1475.44 1017.47 1479.01 Q1019.3 1482.55 1022.91 1482.55 Q1026.54 1482.55 1028.35 1479.01 Q1030.18 1475.44 1030.18 1468.33 Q1030.18 1461.2 1028.35 1457.66 Q1026.54 1454.1 1022.91 1454.1 M1022.91 1450.39 Q1028.72 1450.39 1031.78 1455 Q1034.85 1459.58 1034.85 1468.33 Q1034.85 1477.06 1031.78 1481.67 Q1028.72 1486.25 1022.91 1486.25 Q1017.1 1486.25 1014.02 1481.67 Q1010.97 1477.06 1010.97 1468.33 Q1010.97 1459.58 1014.02 1455 Q1017.1 1450.39 1022.91 1450.39 Z\" fill=\"#000000\" fill-rule=\"nonzero\" fill-opacity=\"1\" /><path clip-path=\"url(#clip750)\" d=\"M1043.07 1479.7 L1047.96 1479.7 L1047.96 1485.58 L1043.07 1485.58 L1043.07 1479.7 Z\" fill=\"#000000\" fill-rule=\"nonzero\" fill-opacity=\"1\" /><path clip-path=\"url(#clip750)\" d=\"M1062.17 1481.64 L1078.49 1481.64 L1078.49 1485.58 L1056.54 1485.58 L1056.54 1481.64 Q1059.21 1478.89 1063.79 1474.26 Q1068.4 1469.61 1069.58 1468.27 Q1071.82 1465.74 1072.7 1464.01 Q1073.6 1462.25 1073.6 1460.56 Q1073.6 1457.8 1071.66 1456.07 Q1069.74 1454.33 1066.64 1454.33 Q1064.44 1454.33 1061.98 1455.09 Q1059.55 1455.86 1056.78 1457.41 L1056.78 1452.69 Q1059.6 1451.55 1062.05 1450.97 Q1064.51 1450.39 1066.54 1450.39 Q1071.91 1450.39 1075.11 1453.08 Q1078.3 1455.77 1078.3 1460.26 Q1078.3 1462.39 1077.49 1464.31 Q1076.71 1466.2 1074.6 1468.8 Q1074.02 1469.47 1070.92 1472.69 Q1067.82 1475.88 1062.17 1481.64 Z\" fill=\"#000000\" fill-rule=\"nonzero\" fill-opacity=\"1\" /><path clip-path=\"url(#clip750)\" d=\"M1435.11 1454.1 Q1431.5 1454.1 1429.67 1457.66 Q1427.86 1461.2 1427.86 1468.33 Q1427.86 1475.44 1429.67 1479.01 Q1431.5 1482.55 1435.11 1482.55 Q1438.74 1482.55 1440.55 1479.01 Q1442.38 1475.44 1442.38 1468.33 Q1442.38 1461.2 1440.55 1457.66 Q1438.74 1454.1 1435.11 1454.1 M1435.11 1450.39 Q1440.92 1450.39 1443.97 1455 Q1447.05 1459.58 1447.05 1468.33 Q1447.05 1477.06 1443.97 1481.67 Q1440.92 1486.25 1435.11 1486.25 Q1429.3 1486.25 1426.22 1481.67 Q1423.16 1477.06 1423.16 1468.33 Q1423.16 1459.58 1426.22 1455 Q1429.3 1450.39 1435.11 1450.39 Z\" fill=\"#000000\" fill-rule=\"nonzero\" fill-opacity=\"1\" /><path clip-path=\"url(#clip750)\" d=\"M1455.27 1479.7 L1460.16 1479.7 L1460.16 1485.58 L1455.27 1485.58 L1455.27 1479.7 Z\" fill=\"#000000\" fill-rule=\"nonzero\" fill-opacity=\"1\" /><path clip-path=\"url(#clip750)\" d=\"M1484.51 1466.95 Q1487.86 1467.66 1489.74 1469.93 Q1491.64 1472.2 1491.64 1475.53 Q1491.64 1480.65 1488.12 1483.45 Q1484.6 1486.25 1478.12 1486.25 Q1475.94 1486.25 1473.63 1485.81 Q1471.34 1485.39 1468.88 1484.54 L1468.88 1480.02 Q1470.83 1481.16 1473.14 1481.74 Q1475.46 1482.32 1477.98 1482.32 Q1482.38 1482.32 1484.67 1480.58 Q1486.98 1478.84 1486.98 1475.53 Q1486.98 1472.48 1484.83 1470.77 Q1482.7 1469.03 1478.88 1469.03 L1474.85 1469.03 L1474.85 1465.19 L1479.07 1465.19 Q1482.52 1465.19 1484.34 1463.82 Q1486.17 1462.43 1486.17 1459.84 Q1486.17 1457.18 1484.28 1455.77 Q1482.4 1454.33 1478.88 1454.33 Q1476.96 1454.33 1474.76 1454.75 Q1472.56 1455.16 1469.92 1456.04 L1469.92 1451.88 Q1472.59 1451.14 1474.9 1450.77 Q1477.24 1450.39 1479.3 1450.39 Q1484.62 1450.39 1487.72 1452.83 Q1490.83 1455.23 1490.83 1459.35 Q1490.83 1462.22 1489.18 1464.21 Q1487.54 1466.18 1484.51 1466.95 Z\" fill=\"#000000\" fill-rule=\"nonzero\" fill-opacity=\"1\" /><path clip-path=\"url(#clip750)\" d=\"M1847.22 1454.1 Q1843.6 1454.1 1841.78 1457.66 Q1839.97 1461.2 1839.97 1468.33 Q1839.97 1475.44 1841.78 1479.01 Q1843.6 1482.55 1847.22 1482.55 Q1850.85 1482.55 1852.66 1479.01 Q1854.48 1475.44 1854.48 1468.33 Q1854.48 1461.2 1852.66 1457.66 Q1850.85 1454.1 1847.22 1454.1 M1847.22 1450.39 Q1853.03 1450.39 1856.08 1455 Q1859.16 1459.58 1859.16 1468.33 Q1859.16 1477.06 1856.08 1481.67 Q1853.03 1486.25 1847.22 1486.25 Q1841.41 1486.25 1838.33 1481.67 Q1835.27 1477.06 1835.27 1468.33 Q1835.27 1459.58 1838.33 1455 Q1841.41 1450.39 1847.22 1450.39 Z\" fill=\"#000000\" fill-rule=\"nonzero\" fill-opacity=\"1\" /><path clip-path=\"url(#clip750)\" d=\"M1867.38 1479.7 L1872.26 1479.7 L1872.26 1485.58 L1867.38 1485.58 L1867.38 1479.7 Z\" fill=\"#000000\" fill-rule=\"nonzero\" fill-opacity=\"1\" /><path clip-path=\"url(#clip750)\" d=\"M1895.29 1455.09 L1883.49 1473.54 L1895.29 1473.54 L1895.29 1455.09 M1894.07 1451.02 L1899.95 1451.02 L1899.95 1473.54 L1904.88 1473.54 L1904.88 1477.43 L1899.95 1477.43 L1899.95 1485.58 L1895.29 1485.58 L1895.29 1477.43 L1879.69 1477.43 L1879.69 1472.92 L1894.07 1451.02 Z\" fill=\"#000000\" fill-rule=\"nonzero\" fill-opacity=\"1\" /><path clip-path=\"url(#clip750)\" d=\"M2260.63 1454.1 Q2257.02 1454.1 2255.19 1457.66 Q2253.38 1461.2 2253.38 1468.33 Q2253.38 1475.44 2255.19 1479.01 Q2257.02 1482.55 2260.63 1482.55 Q2264.26 1482.55 2266.07 1479.01 Q2267.9 1475.44 2267.9 1468.33 Q2267.9 1461.2 2266.07 1457.66 Q2264.26 1454.1 2260.63 1454.1 M2260.63 1450.39 Q2266.44 1450.39 2269.5 1455 Q2272.57 1459.58 2272.57 1468.33 Q2272.57 1477.06 2269.5 1481.67 Q2266.44 1486.25 2260.63 1486.25 Q2254.82 1486.25 2251.74 1481.67 Q2248.69 1477.06 2248.69 1468.33 Q2248.69 1459.58 2251.74 1455 Q2254.82 1450.39 2260.63 1450.39 Z\" fill=\"#000000\" fill-rule=\"nonzero\" fill-opacity=\"1\" /><path clip-path=\"url(#clip750)\" d=\"M2280.79 1479.7 L2285.68 1479.7 L2285.68 1485.58 L2280.79 1485.58 L2280.79 1479.7 Z\" fill=\"#000000\" fill-rule=\"nonzero\" fill-opacity=\"1\" /><path clip-path=\"url(#clip750)\" d=\"M2295.91 1451.02 L2314.26 1451.02 L2314.26 1454.96 L2300.19 1454.96 L2300.19 1463.43 Q2301.21 1463.08 2302.23 1462.92 Q2303.25 1462.73 2304.26 1462.73 Q2310.05 1462.73 2313.43 1465.9 Q2316.81 1469.08 2316.81 1474.49 Q2316.81 1480.07 2313.34 1483.17 Q2309.87 1486.25 2303.55 1486.25 Q2301.37 1486.25 2299.1 1485.88 Q2296.86 1485.51 2294.45 1484.77 L2294.45 1480.07 Q2296.53 1481.2 2298.75 1481.76 Q2300.98 1482.32 2303.45 1482.32 Q2307.46 1482.32 2309.8 1480.21 Q2312.13 1478.1 2312.13 1474.49 Q2312.13 1470.88 2309.8 1468.77 Q2307.46 1466.67 2303.45 1466.67 Q2301.58 1466.67 2299.7 1467.08 Q2297.85 1467.5 2295.91 1468.38 L2295.91 1451.02 Z\" fill=\"#000000\" fill-rule=\"nonzero\" fill-opacity=\"1\" /><path clip-path=\"url(#clip750)\" d=\"M986.864 1525.81 L986.864 1543.66 L994.948 1543.66 Q999.436 1543.66 1001.89 1541.34 Q1004.34 1539.02 1004.34 1534.72 Q1004.34 1530.45 1001.89 1528.13 Q999.436 1525.81 994.948 1525.81 L986.864 1525.81 M980.435 1520.52 L994.948 1520.52 Q1002.94 1520.52 1007.01 1524.15 Q1011.12 1527.75 1011.12 1534.72 Q1011.12 1541.75 1007.01 1545.35 Q1002.94 1548.95 994.948 1548.95 L986.864 1548.95 L986.864 1568.04 L980.435 1568.04 L980.435 1520.52 Z\" fill=\"#000000\" fill-rule=\"nonzero\" fill-opacity=\"1\" /><path clip-path=\"url(#clip750)\" d=\"M1030.98 1536.5 Q1026.27 1536.5 1023.53 1540.19 Q1020.79 1543.85 1020.79 1550.25 Q1020.79 1556.65 1023.5 1560.34 Q1026.24 1564 1030.98 1564 Q1035.66 1564 1038.39 1560.31 Q1041.13 1556.62 1041.13 1550.25 Q1041.13 1543.92 1038.39 1540.23 Q1035.66 1536.5 1030.98 1536.5 M1030.98 1531.54 Q1038.62 1531.54 1042.98 1536.5 Q1047.34 1541.47 1047.34 1550.25 Q1047.34 1559 1042.98 1564 Q1038.62 1568.97 1030.98 1568.97 Q1023.31 1568.97 1018.95 1564 Q1014.62 1559 1014.62 1550.25 Q1014.62 1541.47 1018.95 1536.5 Q1023.31 1531.54 1030.98 1531.54 Z\" fill=\"#000000\" fill-rule=\"nonzero\" fill-opacity=\"1\" /><path clip-path=\"url(#clip750)\" d=\"M1077.7 1537.87 Q1076.72 1537.3 1075.54 1537.04 Q1074.39 1536.76 1072.99 1536.76 Q1068.03 1536.76 1065.35 1540 Q1062.71 1543.22 1062.71 1549.27 L1062.71 1568.04 L1056.82 1568.04 L1056.82 1532.4 L1062.71 1532.4 L1062.71 1537.93 Q1064.56 1534.69 1067.52 1533.13 Q1070.48 1531.54 1074.71 1531.54 Q1075.32 1531.54 1076.05 1531.63 Q1076.78 1531.7 1077.67 1531.85 L1077.7 1537.87 Z\" fill=\"#000000\" fill-rule=\"nonzero\" fill-opacity=\"1\" /><path clip-path=\"url(#clip750)\" d=\"M1089.64 1522.27 L1089.64 1532.4 L1101.7 1532.4 L1101.7 1536.95 L1089.64 1536.95 L1089.64 1556.3 Q1089.64 1560.66 1090.82 1561.9 Q1092.03 1563.14 1095.69 1563.14 L1101.7 1563.14 L1101.7 1568.04 L1095.69 1568.04 Q1088.91 1568.04 1086.33 1565.53 Q1083.75 1562.98 1083.75 1556.3 L1083.75 1536.95 L1079.45 1536.95 L1079.45 1532.4 L1083.75 1532.4 L1083.75 1522.27 L1089.64 1522.27 Z\" fill=\"#000000\" fill-rule=\"nonzero\" fill-opacity=\"1\" /><path clip-path=\"url(#clip750)\" d=\"M1127.45 1518.52 L1127.45 1523.39 L1121.85 1523.39 Q1118.7 1523.39 1117.46 1524.66 Q1116.25 1525.93 1116.25 1529.24 L1116.25 1532.4 L1125.89 1532.4 L1125.89 1536.95 L1116.25 1536.95 L1116.25 1568.04 L1110.36 1568.04 L1110.36 1536.95 L1104.76 1536.95 L1104.76 1532.4 L1110.36 1532.4 L1110.36 1529.91 Q1110.36 1523.96 1113.13 1521.26 Q1115.9 1518.52 1121.91 1518.52 L1127.45 1518.52 Z\" fill=\"#000000\" fill-rule=\"nonzero\" fill-opacity=\"1\" /><path clip-path=\"url(#clip750)\" d=\"M1146.17 1536.5 Q1141.46 1536.5 1138.72 1540.19 Q1135.98 1543.85 1135.98 1550.25 Q1135.98 1556.65 1138.69 1560.34 Q1141.42 1564 1146.17 1564 Q1150.84 1564 1153.58 1560.31 Q1156.32 1556.62 1156.32 1550.25 Q1156.32 1543.92 1153.58 1540.23 Q1150.84 1536.5 1146.17 1536.5 M1146.17 1531.54 Q1153.8 1531.54 1158.17 1536.5 Q1162.53 1541.47 1162.53 1550.25 Q1162.53 1559 1158.17 1564 Q1153.8 1568.97 1146.17 1568.97 Q1138.5 1568.97 1134.13 1564 Q1129.81 1559 1129.81 1550.25 Q1129.81 1541.47 1134.13 1536.5 Q1138.5 1531.54 1146.17 1531.54 Z\" fill=\"#000000\" fill-rule=\"nonzero\" fill-opacity=\"1\" /><path clip-path=\"url(#clip750)\" d=\"M1172.23 1518.52 L1178.09 1518.52 L1178.09 1568.04 L1172.23 1568.04 L1172.23 1518.52 Z\" fill=\"#000000\" fill-rule=\"nonzero\" fill-opacity=\"1\" /><path clip-path=\"url(#clip750)\" d=\"M1190.34 1532.4 L1196.2 1532.4 L1196.2 1568.04 L1190.34 1568.04 L1190.34 1532.4 M1190.34 1518.52 L1196.2 1518.52 L1196.2 1525.93 L1190.34 1525.93 L1190.34 1518.52 Z\" fill=\"#000000\" fill-rule=\"nonzero\" fill-opacity=\"1\" /><path clip-path=\"url(#clip750)\" d=\"M1222.27 1536.5 Q1217.56 1536.5 1214.82 1540.19 Q1212.08 1543.85 1212.08 1550.25 Q1212.08 1556.65 1214.79 1560.34 Q1217.53 1564 1222.27 1564 Q1226.95 1564 1229.68 1560.31 Q1232.42 1556.62 1232.42 1550.25 Q1232.42 1543.92 1229.68 1540.23 Q1226.95 1536.5 1222.27 1536.5 M1222.27 1531.54 Q1229.91 1531.54 1234.27 1536.5 Q1238.63 1541.47 1238.63 1550.25 Q1238.63 1559 1234.27 1564 Q1229.91 1568.97 1222.27 1568.97 Q1214.6 1568.97 1210.24 1564 Q1205.91 1559 1205.91 1550.25 Q1205.91 1541.47 1210.24 1536.5 Q1214.6 1531.54 1222.27 1531.54 Z\" fill=\"#000000\" fill-rule=\"nonzero\" fill-opacity=\"1\" /><path clip-path=\"url(#clip750)\" d=\"M1291.84 1545.76 Q1293.91 1546.46 1295.86 1548.76 Q1297.83 1551.05 1299.8 1555.06 L1306.33 1568.04 L1299.42 1568.04 L1293.34 1555.85 Q1290.99 1551.08 1288.76 1549.52 Q1286.56 1547.96 1282.74 1547.96 L1275.74 1547.96 L1275.74 1568.04 L1269.31 1568.04 L1269.31 1520.52 L1283.82 1520.52 Q1291.97 1520.52 1295.98 1523.93 Q1299.99 1527.34 1299.99 1534.21 Q1299.99 1538.7 1297.89 1541.66 Q1295.82 1544.62 1291.84 1545.76 M1275.74 1525.81 L1275.74 1542.68 L1283.82 1542.68 Q1288.47 1542.68 1290.83 1540.54 Q1293.21 1538.38 1293.21 1534.21 Q1293.21 1530.04 1290.83 1527.94 Q1288.47 1525.81 1283.82 1525.81 L1275.74 1525.81 Z\" fill=\"#000000\" fill-rule=\"nonzero\" fill-opacity=\"1\" /><path clip-path=\"url(#clip750)\" d=\"M1314.35 1532.4 L1320.2 1532.4 L1320.2 1568.04 L1314.35 1568.04 L1314.35 1532.4 M1314.35 1518.52 L1320.2 1518.52 L1320.2 1525.93 L1314.35 1525.93 L1314.35 1518.52 Z\" fill=\"#000000\" fill-rule=\"nonzero\" fill-opacity=\"1\" /><path clip-path=\"url(#clip750)\" d=\"M1355.18 1533.45 L1355.18 1538.98 Q1352.7 1537.71 1350.03 1537.07 Q1347.35 1536.44 1344.49 1536.44 Q1340.13 1536.44 1337.93 1537.77 Q1335.77 1539.11 1335.77 1541.79 Q1335.77 1543.82 1337.33 1545 Q1338.89 1546.15 1343.6 1547.2 L1345.6 1547.64 Q1351.84 1548.98 1354.45 1551.43 Q1357.09 1553.85 1357.09 1558.21 Q1357.09 1563.17 1353.15 1566.07 Q1349.23 1568.97 1342.36 1568.97 Q1339.49 1568.97 1336.37 1568.39 Q1333.29 1567.85 1329.85 1566.74 L1329.85 1560.69 Q1333.09 1562.38 1336.25 1563.24 Q1339.4 1564.07 1342.48 1564.07 Q1346.62 1564.07 1348.85 1562.66 Q1351.08 1561.23 1351.08 1558.65 Q1351.08 1556.27 1349.45 1554.99 Q1347.86 1553.72 1342.42 1552.54 L1340.38 1552.07 Q1334.94 1550.92 1332.52 1548.56 Q1330.1 1546.18 1330.1 1542.04 Q1330.1 1537.01 1333.67 1534.27 Q1337.23 1531.54 1343.79 1531.54 Q1347.04 1531.54 1349.9 1532.01 Q1352.76 1532.49 1355.18 1533.45 Z\" fill=\"#000000\" fill-rule=\"nonzero\" fill-opacity=\"1\" /><path clip-path=\"url(#clip750)\" d=\"M1366.2 1518.52 L1372.08 1518.52 L1372.08 1547.77 L1389.56 1532.4 L1397.04 1532.4 L1378.13 1549.07 L1397.83 1568.04 L1390.2 1568.04 L1372.08 1550.63 L1372.08 1568.04 L1366.2 1568.04 L1366.2 1518.52 Z\" fill=\"#000000\" fill-rule=\"nonzero\" fill-opacity=\"1\" /><path clip-path=\"url(#clip750)\" d=\"M1438.96 1518.58 Q1434.69 1525.9 1432.62 1533.06 Q1430.55 1540.23 1430.55 1547.58 Q1430.55 1554.93 1432.62 1562.16 Q1434.72 1569.35 1438.96 1576.64 L1433.86 1576.64 Q1429.09 1569.16 1426.7 1561.93 Q1424.35 1554.71 1424.35 1547.58 Q1424.35 1540.48 1426.7 1533.29 Q1429.06 1526.09 1433.86 1518.58 L1438.96 1518.58 Z\" fill=\"#000000\" fill-rule=\"nonzero\" fill-opacity=\"1\" /><path clip-path=\"url(#clip750)\" d=\"M1473.04 1533.45 L1473.04 1538.98 Q1470.56 1537.71 1467.89 1537.07 Q1465.21 1536.44 1462.35 1536.44 Q1457.99 1536.44 1455.79 1537.77 Q1453.63 1539.11 1453.63 1541.79 Q1453.63 1543.82 1455.19 1545 Q1456.75 1546.15 1461.46 1547.2 L1463.46 1547.64 Q1469.7 1548.98 1472.31 1551.43 Q1474.95 1553.85 1474.95 1558.21 Q1474.95 1563.17 1471.01 1566.07 Q1467.09 1568.97 1460.22 1568.97 Q1457.35 1568.97 1454.23 1568.39 Q1451.15 1567.85 1447.71 1566.74 L1447.71 1560.69 Q1450.96 1562.38 1454.11 1563.24 Q1457.26 1564.07 1460.35 1564.07 Q1464.48 1564.07 1466.71 1562.66 Q1468.94 1561.23 1468.94 1558.65 Q1468.94 1556.27 1467.32 1554.99 Q1465.72 1553.72 1460.28 1552.54 L1458.24 1552.07 Q1452.8 1550.92 1450.38 1548.56 Q1447.96 1546.18 1447.96 1542.04 Q1447.96 1537.01 1451.53 1534.27 Q1455.09 1531.54 1461.65 1531.54 Q1464.9 1531.54 1467.76 1532.01 Q1470.63 1532.49 1473.04 1533.45 Z\" fill=\"#000000\" fill-rule=\"nonzero\" fill-opacity=\"1\" /><path clip-path=\"url(#clip750)\" d=\"M1487.78 1550.25 Q1487.78 1556.71 1490.42 1560.4 Q1493.1 1564.07 1497.74 1564.07 Q1502.39 1564.07 1505.06 1560.4 Q1507.74 1556.71 1507.74 1550.25 Q1507.74 1543.79 1505.06 1540.13 Q1502.39 1536.44 1497.74 1536.44 Q1493.1 1536.44 1490.42 1540.13 Q1487.78 1543.79 1487.78 1550.25 M1507.74 1562.7 Q1505.89 1565.88 1503.06 1567.44 Q1500.26 1568.97 1496.31 1568.97 Q1489.85 1568.97 1485.78 1563.81 Q1481.73 1558.65 1481.73 1550.25 Q1481.73 1541.85 1485.78 1536.69 Q1489.85 1531.54 1496.31 1531.54 Q1500.26 1531.54 1503.06 1533.1 Q1505.89 1534.62 1507.74 1537.81 L1507.74 1532.4 L1513.59 1532.4 L1513.59 1581.6 L1507.74 1581.6 L1507.74 1562.7 Z\" fill=\"#000000\" fill-rule=\"nonzero\" fill-opacity=\"1\" /><path clip-path=\"url(#clip750)\" d=\"M1546.31 1537.87 Q1545.33 1537.3 1544.15 1537.04 Q1543 1536.76 1541.6 1536.76 Q1536.64 1536.76 1533.96 1540 Q1531.32 1543.22 1531.32 1549.27 L1531.32 1568.04 L1525.43 1568.04 L1525.43 1532.4 L1531.32 1532.4 L1531.32 1537.93 Q1533.17 1534.69 1536.13 1533.13 Q1539.09 1531.54 1543.32 1531.54 Q1543.93 1531.54 1544.66 1531.63 Q1545.39 1531.7 1546.28 1531.85 L1546.31 1537.87 Z\" fill=\"#000000\" fill-rule=\"nonzero\" fill-opacity=\"1\" /><path clip-path=\"url(#clip750)\" d=\"M1558.25 1522.27 L1558.25 1532.4 L1570.31 1532.4 L1570.31 1536.95 L1558.25 1536.95 L1558.25 1556.3 Q1558.25 1560.66 1559.43 1561.9 Q1560.64 1563.14 1564.3 1563.14 L1570.31 1563.14 L1570.31 1568.04 L1564.3 1568.04 Q1557.52 1568.04 1554.94 1565.53 Q1552.36 1562.98 1552.36 1556.3 L1552.36 1536.95 L1548.06 1536.95 L1548.06 1532.4 L1552.36 1532.4 L1552.36 1522.27 L1558.25 1522.27 Z\" fill=\"#000000\" fill-rule=\"nonzero\" fill-opacity=\"1\" /><path clip-path=\"url(#clip750)\" d=\"M1577.09 1518.58 L1582.18 1518.58 Q1586.96 1526.09 1589.31 1533.29 Q1591.7 1540.48 1591.7 1547.58 Q1591.7 1554.71 1589.31 1561.93 Q1586.96 1569.16 1582.18 1576.64 L1577.09 1576.64 Q1581.33 1569.35 1583.39 1562.16 Q1585.49 1554.93 1585.49 1547.58 Q1585.49 1540.23 1583.39 1533.06 Q1581.33 1525.9 1577.09 1518.58 Z\" fill=\"#000000\" fill-rule=\"nonzero\" fill-opacity=\"1\" /><polyline clip-path=\"url(#clip750)\" style=\"stroke:#000000; stroke-linecap:round; stroke-linejoin:round; stroke-width:4; stroke-opacity:1; fill:none\" points=\"219.38,1423.18 219.38,47.2441 \"/>\n",
       "<polyline clip-path=\"url(#clip750)\" style=\"stroke:#000000; stroke-linecap:round; stroke-linejoin:round; stroke-width:4; stroke-opacity:1; fill:none\" points=\"2352.76,1423.18 2352.76,47.2441 \"/>\n",
       "<polyline clip-path=\"url(#clip750)\" style=\"stroke:#000000; stroke-linecap:round; stroke-linejoin:round; stroke-width:4; stroke-opacity:1; fill:none\" points=\"219.38,1384.24 238.278,1384.24 \"/>\n",
       "<polyline clip-path=\"url(#clip750)\" style=\"stroke:#000000; stroke-linecap:round; stroke-linejoin:round; stroke-width:4; stroke-opacity:1; fill:none\" points=\"219.38,1043.6 238.278,1043.6 \"/>\n",
       "<polyline clip-path=\"url(#clip750)\" style=\"stroke:#000000; stroke-linecap:round; stroke-linejoin:round; stroke-width:4; stroke-opacity:1; fill:none\" points=\"219.38,702.955 238.278,702.955 \"/>\n",
       "<polyline clip-path=\"url(#clip750)\" style=\"stroke:#000000; stroke-linecap:round; stroke-linejoin:round; stroke-width:4; stroke-opacity:1; fill:none\" points=\"219.38,362.314 238.278,362.314 \"/>\n",
       "<polyline clip-path=\"url(#clip750)\" style=\"stroke:#000000; stroke-linecap:round; stroke-linejoin:round; stroke-width:4; stroke-opacity:1; fill:none\" points=\"2352.76,1384.24 2333.86,1384.24 \"/>\n",
       "<polyline clip-path=\"url(#clip750)\" style=\"stroke:#000000; stroke-linecap:round; stroke-linejoin:round; stroke-width:4; stroke-opacity:1; fill:none\" points=\"2352.76,1043.6 2333.86,1043.6 \"/>\n",
       "<polyline clip-path=\"url(#clip750)\" style=\"stroke:#000000; stroke-linecap:round; stroke-linejoin:round; stroke-width:4; stroke-opacity:1; fill:none\" points=\"2352.76,702.955 2333.86,702.955 \"/>\n",
       "<polyline clip-path=\"url(#clip750)\" style=\"stroke:#000000; stroke-linecap:round; stroke-linejoin:round; stroke-width:4; stroke-opacity:1; fill:none\" points=\"2352.76,362.314 2333.86,362.314 \"/>\n",
       "<path clip-path=\"url(#clip750)\" d=\"M126.205 1370.04 Q122.593 1370.04 120.765 1373.6 Q118.959 1377.14 118.959 1384.27 Q118.959 1391.38 120.765 1394.94 Q122.593 1398.49 126.205 1398.49 Q129.839 1398.49 131.644 1394.94 Q133.473 1391.38 133.473 1384.27 Q133.473 1377.14 131.644 1373.6 Q129.839 1370.04 126.205 1370.04 M126.205 1366.33 Q132.015 1366.33 135.07 1370.94 Q138.149 1375.52 138.149 1384.27 Q138.149 1393 135.07 1397.61 Q132.015 1402.19 126.205 1402.19 Q120.394 1402.19 117.316 1397.61 Q114.26 1393 114.26 1384.27 Q114.26 1375.52 117.316 1370.94 Q120.394 1366.33 126.205 1366.33 Z\" fill=\"#000000\" fill-rule=\"nonzero\" fill-opacity=\"1\" /><path clip-path=\"url(#clip750)\" d=\"M146.366 1395.64 L151.251 1395.64 L151.251 1401.52 L146.366 1401.52 L146.366 1395.64 Z\" fill=\"#000000\" fill-rule=\"nonzero\" fill-opacity=\"1\" /><path clip-path=\"url(#clip750)\" d=\"M171.436 1370.04 Q167.825 1370.04 165.996 1373.6 Q164.19 1377.14 164.19 1384.27 Q164.19 1391.38 165.996 1394.94 Q167.825 1398.49 171.436 1398.49 Q175.07 1398.49 176.876 1394.94 Q178.704 1391.38 178.704 1384.27 Q178.704 1377.14 176.876 1373.6 Q175.07 1370.04 171.436 1370.04 M171.436 1366.33 Q177.246 1366.33 180.301 1370.94 Q183.38 1375.52 183.38 1384.27 Q183.38 1393 180.301 1397.61 Q177.246 1402.19 171.436 1402.19 Q165.626 1402.19 162.547 1397.61 Q159.491 1393 159.491 1384.27 Q159.491 1375.52 162.547 1370.94 Q165.626 1366.33 171.436 1366.33 Z\" fill=\"#000000\" fill-rule=\"nonzero\" fill-opacity=\"1\" /><path clip-path=\"url(#clip750)\" d=\"M127.431 1029.4 Q123.82 1029.4 121.992 1032.96 Q120.186 1036.5 120.186 1043.63 Q120.186 1050.74 121.992 1054.3 Q123.82 1057.84 127.431 1057.84 Q131.066 1057.84 132.871 1054.3 Q134.7 1050.74 134.7 1043.63 Q134.7 1036.5 132.871 1032.96 Q131.066 1029.4 127.431 1029.4 M127.431 1025.69 Q133.242 1025.69 136.297 1030.3 Q139.376 1034.88 139.376 1043.63 Q139.376 1052.36 136.297 1056.96 Q133.242 1061.55 127.431 1061.55 Q121.621 1061.55 118.543 1056.96 Q115.487 1052.36 115.487 1043.63 Q115.487 1034.88 118.543 1030.3 Q121.621 1025.69 127.431 1025.69 Z\" fill=\"#000000\" fill-rule=\"nonzero\" fill-opacity=\"1\" /><path clip-path=\"url(#clip750)\" d=\"M147.593 1055 L152.478 1055 L152.478 1060.88 L147.593 1060.88 L147.593 1055 Z\" fill=\"#000000\" fill-rule=\"nonzero\" fill-opacity=\"1\" /><path clip-path=\"url(#clip750)\" d=\"M163.473 1056.94 L171.112 1056.94 L171.112 1030.58 L162.802 1032.24 L162.802 1027.98 L171.065 1026.32 L175.741 1026.32 L175.741 1056.94 L183.38 1056.94 L183.38 1060.88 L163.473 1060.88 L163.473 1056.94 Z\" fill=\"#000000\" fill-rule=\"nonzero\" fill-opacity=\"1\" /><path clip-path=\"url(#clip750)\" d=\"M127.802 688.754 Q124.191 688.754 122.362 692.319 Q120.556 695.86 120.556 702.99 Q120.556 710.096 122.362 713.661 Q124.191 717.203 127.802 717.203 Q131.436 717.203 133.242 713.661 Q135.07 710.096 135.07 702.99 Q135.07 695.86 133.242 692.319 Q131.436 688.754 127.802 688.754 M127.802 685.05 Q133.612 685.05 136.667 689.657 Q139.746 694.24 139.746 702.99 Q139.746 711.717 136.667 716.323 Q133.612 720.907 127.802 720.907 Q121.992 720.907 118.913 716.323 Q115.857 711.717 115.857 702.99 Q115.857 694.24 118.913 689.657 Q121.992 685.05 127.802 685.05 Z\" fill=\"#000000\" fill-rule=\"nonzero\" fill-opacity=\"1\" /><path clip-path=\"url(#clip750)\" d=\"M147.964 714.356 L152.848 714.356 L152.848 720.235 L147.964 720.235 L147.964 714.356 Z\" fill=\"#000000\" fill-rule=\"nonzero\" fill-opacity=\"1\" /><path clip-path=\"url(#clip750)\" d=\"M167.061 716.3 L183.38 716.3 L183.38 720.235 L161.436 720.235 L161.436 716.3 Q164.098 713.546 168.681 708.916 Q173.288 704.263 174.468 702.921 Q176.714 700.397 177.593 698.661 Q178.496 696.902 178.496 695.212 Q178.496 692.458 176.551 690.722 Q174.63 688.985 171.528 688.985 Q169.329 688.985 166.876 689.749 Q164.445 690.513 161.667 692.064 L161.667 687.342 Q164.491 686.208 166.945 685.629 Q169.399 685.05 171.436 685.05 Q176.806 685.05 180.001 687.735 Q183.195 690.421 183.195 694.911 Q183.195 697.041 182.385 698.962 Q181.598 700.86 179.491 703.453 Q178.913 704.124 175.811 707.342 Q172.709 710.536 167.061 716.3 Z\" fill=\"#000000\" fill-rule=\"nonzero\" fill-opacity=\"1\" /><path clip-path=\"url(#clip750)\" d=\"M126.853 348.112 Q123.242 348.112 121.413 351.677 Q119.607 355.219 119.607 362.349 Q119.607 369.455 121.413 373.02 Q123.242 376.561 126.853 376.561 Q130.487 376.561 132.292 373.02 Q134.121 369.455 134.121 362.349 Q134.121 355.219 132.292 351.677 Q130.487 348.112 126.853 348.112 M126.853 344.409 Q132.663 344.409 135.718 349.015 Q138.797 353.599 138.797 362.349 Q138.797 371.075 135.718 375.682 Q132.663 380.265 126.853 380.265 Q121.043 380.265 117.964 375.682 Q114.908 371.075 114.908 362.349 Q114.908 353.599 117.964 349.015 Q121.043 344.409 126.853 344.409 Z\" fill=\"#000000\" fill-rule=\"nonzero\" fill-opacity=\"1\" /><path clip-path=\"url(#clip750)\" d=\"M147.015 373.714 L151.899 373.714 L151.899 379.594 L147.015 379.594 L147.015 373.714 Z\" fill=\"#000000\" fill-rule=\"nonzero\" fill-opacity=\"1\" /><path clip-path=\"url(#clip750)\" d=\"M176.251 360.96 Q179.607 361.677 181.482 363.946 Q183.38 366.214 183.38 369.548 Q183.38 374.663 179.862 377.464 Q176.343 380.265 169.862 380.265 Q167.686 380.265 165.371 379.825 Q163.079 379.409 160.626 378.552 L160.626 374.038 Q162.57 375.173 164.885 375.751 Q167.2 376.33 169.723 376.33 Q174.121 376.33 176.413 374.594 Q178.727 372.858 178.727 369.548 Q178.727 366.492 176.575 364.779 Q174.445 363.043 170.626 363.043 L166.598 363.043 L166.598 359.2 L170.811 359.2 Q174.26 359.2 176.089 357.835 Q177.917 356.446 177.917 353.853 Q177.917 351.191 176.019 349.779 Q174.144 348.344 170.626 348.344 Q168.704 348.344 166.505 348.761 Q164.306 349.177 161.667 350.057 L161.667 345.89 Q164.329 345.15 166.644 344.779 Q168.982 344.409 171.042 344.409 Q176.366 344.409 179.468 346.839 Q182.57 349.247 182.57 353.367 Q182.57 356.237 180.926 358.228 Q179.283 360.196 176.251 360.96 Z\" fill=\"#000000\" fill-rule=\"nonzero\" fill-opacity=\"1\" /><path clip-path=\"url(#clip750)\" d=\"M21.7677 1277.87 L39.6235 1277.87 L39.6235 1269.79 Q39.6235 1265.3 37.3 1262.85 Q34.9765 1260.4 30.6797 1260.4 Q26.4147 1260.4 24.0912 1262.85 Q21.7677 1265.3 21.7677 1269.79 L21.7677 1277.87 M16.4842 1284.3 L16.4842 1269.79 Q16.4842 1261.8 20.1126 1257.73 Q23.7092 1253.62 30.6797 1253.62 Q37.7138 1253.62 41.3104 1257.73 Q44.907 1261.8 44.907 1269.79 L44.907 1277.87 L64.0042 1277.87 L64.0042 1284.3 L16.4842 1284.3 Z\" fill=\"#000000\" fill-rule=\"nonzero\" fill-opacity=\"1\" /><path clip-path=\"url(#clip750)\" d=\"M32.4621 1233.76 Q32.4621 1238.47 36.1542 1241.21 Q39.8145 1243.94 46.212 1243.94 Q52.6095 1243.94 56.3017 1241.24 Q59.9619 1238.5 59.9619 1233.76 Q59.9619 1229.08 56.2698 1226.34 Q52.5777 1223.6 46.212 1223.6 Q39.8781 1223.6 36.186 1226.34 Q32.4621 1229.08 32.4621 1233.76 M27.4968 1233.76 Q27.4968 1226.12 32.4621 1221.76 Q37.4273 1217.4 46.212 1217.4 Q54.9649 1217.4 59.9619 1221.76 Q64.9272 1226.12 64.9272 1233.76 Q64.9272 1241.43 59.9619 1245.79 Q54.9649 1250.12 46.212 1250.12 Q37.4273 1250.12 32.4621 1245.79 Q27.4968 1241.43 27.4968 1233.76 Z\" fill=\"#000000\" fill-rule=\"nonzero\" fill-opacity=\"1\" /><path clip-path=\"url(#clip750)\" d=\"M33.8307 1187.03 Q33.2578 1188.02 33.0032 1189.2 Q32.7167 1190.34 32.7167 1191.74 Q32.7167 1196.71 35.9632 1199.38 Q39.1779 1202.03 45.2253 1202.03 L64.0042 1202.03 L64.0042 1207.91 L28.3562 1207.91 L28.3562 1202.03 L33.8944 1202.03 Q30.6479 1200.18 29.0883 1197.22 Q27.4968 1194.26 27.4968 1190.03 Q27.4968 1189.42 27.5923 1188.69 Q27.656 1187.96 27.8151 1187.07 L33.8307 1187.03 Z\" fill=\"#000000\" fill-rule=\"nonzero\" fill-opacity=\"1\" /><path clip-path=\"url(#clip750)\" d=\"M18.2347 1175.1 L28.3562 1175.1 L28.3562 1163.04 L32.9077 1163.04 L32.9077 1175.1 L52.2594 1175.1 Q56.6199 1175.1 57.8613 1173.92 Q59.1026 1172.71 59.1026 1169.05 L59.1026 1163.04 L64.0042 1163.04 L64.0042 1169.05 Q64.0042 1175.83 61.4897 1178.41 Q58.9434 1180.99 52.2594 1180.99 L32.9077 1180.99 L32.9077 1185.28 L28.3562 1185.28 L28.3562 1180.99 L18.2347 1180.99 L18.2347 1175.1 Z\" fill=\"#000000\" fill-rule=\"nonzero\" fill-opacity=\"1\" /><path clip-path=\"url(#clip750)\" d=\"M14.479 1137.29 L19.3487 1137.29 L19.3487 1142.89 Q19.3487 1146.04 20.6219 1147.28 Q21.895 1148.49 25.2052 1148.49 L28.3562 1148.49 L28.3562 1138.85 L32.9077 1138.85 L32.9077 1148.49 L64.0042 1148.49 L64.0042 1154.38 L32.9077 1154.38 L32.9077 1159.98 L28.3562 1159.98 L28.3562 1154.38 L25.8736 1154.38 Q19.9216 1154.38 17.2162 1151.61 Q14.479 1148.84 14.479 1142.82 L14.479 1137.29 Z\" fill=\"#000000\" fill-rule=\"nonzero\" fill-opacity=\"1\" /><path clip-path=\"url(#clip750)\" d=\"M32.4621 1118.57 Q32.4621 1123.28 36.1542 1126.02 Q39.8145 1128.76 46.212 1128.76 Q52.6095 1128.76 56.3017 1126.05 Q59.9619 1123.31 59.9619 1118.57 Q59.9619 1113.89 56.2698 1111.15 Q52.5777 1108.42 46.212 1108.42 Q39.8781 1108.42 36.186 1111.15 Q32.4621 1113.89 32.4621 1118.57 M27.4968 1118.57 Q27.4968 1110.93 32.4621 1106.57 Q37.4273 1102.21 46.212 1102.21 Q54.9649 1102.21 59.9619 1106.57 Q64.9272 1110.93 64.9272 1118.57 Q64.9272 1126.24 59.9619 1130.6 Q54.9649 1134.93 46.212 1134.93 Q37.4273 1134.93 32.4621 1130.6 Q27.4968 1126.24 27.4968 1118.57 Z\" fill=\"#000000\" fill-rule=\"nonzero\" fill-opacity=\"1\" /><path clip-path=\"url(#clip750)\" d=\"M14.479 1092.5 L14.479 1086.65 L64.0042 1086.65 L64.0042 1092.5 L14.479 1092.5 Z\" fill=\"#000000\" fill-rule=\"nonzero\" fill-opacity=\"1\" /><path clip-path=\"url(#clip750)\" d=\"M28.3562 1074.39 L28.3562 1068.54 L64.0042 1068.54 L64.0042 1074.39 L28.3562 1074.39 M14.479 1074.39 L14.479 1068.54 L21.895 1068.54 L21.895 1074.39 L14.479 1074.39 Z\" fill=\"#000000\" fill-rule=\"nonzero\" fill-opacity=\"1\" /><path clip-path=\"url(#clip750)\" d=\"M32.4621 1042.47 Q32.4621 1047.18 36.1542 1049.92 Q39.8145 1052.65 46.212 1052.65 Q52.6095 1052.65 56.3017 1049.95 Q59.9619 1047.21 59.9619 1042.47 Q59.9619 1037.79 56.2698 1035.05 Q52.5777 1032.32 46.212 1032.32 Q39.8781 1032.32 36.186 1035.05 Q32.4621 1037.79 32.4621 1042.47 M27.4968 1042.47 Q27.4968 1034.83 32.4621 1030.47 Q37.4273 1026.11 46.212 1026.11 Q54.9649 1026.11 59.9619 1030.47 Q64.9272 1034.83 64.9272 1042.47 Q64.9272 1050.14 59.9619 1054.5 Q54.9649 1058.83 46.212 1058.83 Q37.4273 1058.83 32.4621 1054.5 Q27.4968 1050.14 27.4968 1042.47 Z\" fill=\"#000000\" fill-rule=\"nonzero\" fill-opacity=\"1\" /><path clip-path=\"url(#clip750)\" d=\"M44.7161 965.189 L47.5806 965.189 L47.5806 992.116 Q53.6281 991.734 56.8109 988.488 Q59.9619 985.209 59.9619 979.385 Q59.9619 976.011 59.1344 972.86 Q58.3069 969.677 56.6518 966.558 L62.1899 966.558 Q63.5267 969.709 64.227 973.019 Q64.9272 976.329 64.9272 979.735 Q64.9272 988.265 59.9619 993.262 Q54.9967 998.227 46.5303 998.227 Q37.7774 998.227 32.6531 993.516 Q27.4968 988.774 27.4968 980.753 Q27.4968 973.56 32.1438 969.39 Q36.7589 965.189 44.7161 965.189 M42.9973 971.045 Q38.1912 971.109 35.3266 973.751 Q32.4621 976.361 32.4621 980.69 Q32.4621 985.591 35.2312 988.551 Q38.0002 991.479 43.0292 991.925 L42.9973 971.045 Z\" fill=\"#000000\" fill-rule=\"nonzero\" fill-opacity=\"1\" /><path clip-path=\"url(#clip750)\" d=\"M28.3562 927.09 L45.7028 939.981 L64.0042 926.422 L64.0042 933.329 L49.9996 943.705 L64.0042 954.081 L64.0042 960.988 L45.3526 947.142 L28.3562 959.81 L28.3562 952.903 L41.0558 943.45 L28.3562 933.997 L28.3562 927.09 Z\" fill=\"#000000\" fill-rule=\"nonzero\" fill-opacity=\"1\" /><path clip-path=\"url(#clip750)\" d=\"M29.7248 893.638 L35.1993 893.638 Q33.8307 896.121 33.1623 898.636 Q32.4621 901.118 32.4621 903.664 Q32.4621 909.362 36.0905 912.513 Q39.6872 915.664 46.212 915.664 Q52.7369 915.664 56.3653 912.513 Q59.9619 909.362 59.9619 903.664 Q59.9619 901.118 59.2935 898.636 Q58.5933 896.121 57.2247 893.638 L62.6355 893.638 Q63.7814 896.089 64.3543 898.731 Q64.9272 901.341 64.9272 904.301 Q64.9272 912.354 59.8664 917.096 Q54.8057 921.839 46.212 921.839 Q37.491 921.839 32.4939 917.064 Q27.4968 912.258 27.4968 903.919 Q27.4968 901.214 28.0697 898.636 Q28.6108 896.057 29.7248 893.638 Z\" fill=\"#000000\" fill-rule=\"nonzero\" fill-opacity=\"1\" /><path clip-path=\"url(#clip750)\" d=\"M44.7161 852.962 L47.5806 852.962 L47.5806 879.889 Q53.6281 879.507 56.8109 876.26 Q59.9619 872.982 59.9619 867.157 Q59.9619 863.783 59.1344 860.632 Q58.3069 857.449 56.6518 854.33 L62.1899 854.33 Q63.5267 857.481 64.227 860.791 Q64.9272 864.102 64.9272 867.507 Q64.9272 876.037 59.9619 881.034 Q54.9967 886 46.5303 886 Q37.7774 886 32.6531 881.289 Q27.4968 876.547 27.4968 868.526 Q27.4968 861.333 32.1438 857.163 Q36.7589 852.962 44.7161 852.962 M42.9973 858.818 Q38.1912 858.882 35.3266 861.524 Q32.4621 864.133 32.4621 868.462 Q32.4621 873.364 35.2312 876.324 Q38.0002 879.252 43.0292 879.698 L42.9973 858.818 Z\" fill=\"#000000\" fill-rule=\"nonzero\" fill-opacity=\"1\" /><path clip-path=\"url(#clip750)\" d=\"M29.4065 820.624 L34.9447 820.624 Q33.6716 823.106 33.035 825.78 Q32.3984 828.454 32.3984 831.318 Q32.3984 835.679 33.7352 837.875 Q35.072 840.039 37.7456 840.039 Q39.7826 840.039 40.9603 838.48 Q42.1061 836.92 43.1565 832.209 L43.6021 830.204 Q44.9389 823.966 47.3897 821.356 Q49.8086 818.714 54.1691 818.714 Q59.1344 818.714 62.0308 822.661 Q64.9272 826.576 64.9272 833.451 Q64.9272 836.315 64.3543 839.435 Q63.8132 842.522 62.6992 845.959 L56.6518 845.959 Q58.3387 842.713 59.198 839.562 Q60.0256 836.411 60.0256 833.323 Q60.0256 829.186 58.6251 826.958 Q57.1929 824.73 54.6147 824.73 Q52.2276 824.73 50.9545 826.353 Q49.6813 827.944 48.5037 833.387 L48.0262 835.424 Q46.8804 840.867 44.5251 843.286 Q42.138 845.705 38.0002 845.705 Q32.9713 845.705 30.2341 842.14 Q27.4968 838.575 27.4968 832.018 Q27.4968 828.772 27.9743 825.907 Q28.4517 823.043 29.4065 820.624 Z\" fill=\"#000000\" fill-rule=\"nonzero\" fill-opacity=\"1\" /><path clip-path=\"url(#clip750)\" d=\"M29.4065 786.663 L34.9447 786.663 Q33.6716 789.145 33.035 791.819 Q32.3984 794.493 32.3984 797.357 Q32.3984 801.718 33.7352 803.914 Q35.072 806.078 37.7456 806.078 Q39.7826 806.078 40.9603 804.519 Q42.1061 802.959 43.1565 798.248 L43.6021 796.243 Q44.9389 790.005 47.3897 787.395 Q49.8086 784.753 54.1691 784.753 Q59.1344 784.753 62.0308 788.7 Q64.9272 792.615 64.9272 799.49 Q64.9272 802.354 64.3543 805.473 Q63.8132 808.561 62.6992 811.998 L56.6518 811.998 Q58.3387 808.752 59.198 805.601 Q60.0256 802.45 60.0256 799.362 Q60.0256 795.225 58.6251 792.997 Q57.1929 790.769 54.6147 790.769 Q52.2276 790.769 50.9545 792.392 Q49.6813 793.983 48.5037 799.426 L48.0262 801.463 Q46.8804 806.906 44.5251 809.325 Q42.138 811.744 38.0002 811.744 Q32.9713 811.744 30.2341 808.179 Q27.4968 804.614 27.4968 798.057 Q27.4968 794.811 27.9743 791.946 Q28.4517 789.082 29.4065 786.663 Z\" fill=\"#000000\" fill-rule=\"nonzero\" fill-opacity=\"1\" /><path clip-path=\"url(#clip750)\" d=\"M45.7664 731.249 Q39.4007 731.249 35.8996 733.891 Q32.3984 736.501 32.3984 741.243 Q32.3984 745.954 35.8996 748.596 Q39.4007 751.206 45.7664 751.206 Q52.1003 751.206 55.6014 748.596 Q59.1026 745.954 59.1026 741.243 Q59.1026 736.501 55.6014 733.891 Q52.1003 731.249 45.7664 731.249 M59.58 725.393 Q68.683 725.393 73.1071 729.435 Q77.5631 733.477 77.5631 741.816 Q77.5631 744.904 77.0857 747.641 Q76.6401 750.378 75.6852 752.956 L69.9879 752.956 Q71.3884 750.378 72.0568 747.864 Q72.7252 745.349 72.7252 742.739 Q72.7252 736.978 69.7015 734.114 Q66.7096 731.249 60.6303 731.249 L57.7339 731.249 Q60.885 733.064 62.4446 735.896 Q64.0042 738.729 64.0042 742.676 Q64.0042 749.232 59.0071 753.243 Q54.01 757.253 45.7664 757.253 Q37.491 757.253 32.4939 753.243 Q27.4968 749.232 27.4968 742.676 Q27.4968 738.729 29.0564 735.896 Q30.616 733.064 33.7671 731.249 L28.3562 731.249 L28.3562 725.393 L59.58 725.393 Z\" fill=\"#000000\" fill-rule=\"nonzero\" fill-opacity=\"1\" /><path clip-path=\"url(#clip750)\" d=\"M33.8307 692.673 Q33.2578 693.66 33.0032 694.837 Q32.7167 695.983 32.7167 697.384 Q32.7167 702.349 35.9632 705.023 Q39.1779 707.664 45.2253 707.664 L64.0042 707.664 L64.0042 713.553 L28.3562 713.553 L28.3562 707.664 L33.8944 707.664 Q30.6479 705.818 29.0883 702.858 Q27.4968 699.898 27.4968 695.665 Q27.4968 695.06 27.5923 694.328 Q27.656 693.596 27.8151 692.705 L33.8307 692.673 Z\" fill=\"#000000\" fill-rule=\"nonzero\" fill-opacity=\"1\" /><path clip-path=\"url(#clip750)\" d=\"M32.4621 674.149 Q32.4621 678.86 36.1542 681.597 Q39.8145 684.334 46.212 684.334 Q52.6095 684.334 56.3017 681.629 Q59.9619 678.891 59.9619 674.149 Q59.9619 669.47 56.2698 666.733 Q52.5777 663.996 46.212 663.996 Q39.8781 663.996 36.186 666.733 Q32.4621 669.47 32.4621 674.149 M27.4968 674.149 Q27.4968 666.51 32.4621 662.15 Q37.4273 657.789 46.212 657.789 Q54.9649 657.789 59.9619 662.15 Q64.9272 666.51 64.9272 674.149 Q64.9272 681.82 59.9619 686.18 Q54.9649 690.509 46.212 690.509 Q37.4273 690.509 32.4621 686.18 Q27.4968 681.82 27.4968 674.149 Z\" fill=\"#000000\" fill-rule=\"nonzero\" fill-opacity=\"1\" /><path clip-path=\"url(#clip750)\" d=\"M28.3562 651.487 L28.3562 645.631 L56.1743 638.31 L28.3562 631.021 L28.3562 624.114 L56.1743 616.794 L28.3562 609.505 L28.3562 603.649 L64.0042 612.974 L64.0042 619.881 L34.7856 627.552 L64.0042 635.254 L64.0042 642.161 L28.3562 651.487 Z\" fill=\"#000000\" fill-rule=\"nonzero\" fill-opacity=\"1\" /><path clip-path=\"url(#clip750)\" d=\"M18.2347 588.976 L28.3562 588.976 L28.3562 576.913 L32.9077 576.913 L32.9077 588.976 L52.2594 588.976 Q56.6199 588.976 57.8613 587.798 Q59.1026 586.589 59.1026 582.928 L59.1026 576.913 L64.0042 576.913 L64.0042 582.928 Q64.0042 589.708 61.4897 592.286 Q58.9434 594.864 52.2594 594.864 L32.9077 594.864 L32.9077 599.161 L28.3562 599.161 L28.3562 594.864 L18.2347 594.864 L18.2347 588.976 Z\" fill=\"#000000\" fill-rule=\"nonzero\" fill-opacity=\"1\" /><path clip-path=\"url(#clip750)\" d=\"M42.4881 539.578 L64.0042 539.578 L64.0042 545.434 L42.679 545.434 Q37.6183 545.434 35.1038 547.408 Q32.5894 549.381 32.5894 553.328 Q32.5894 558.07 35.6131 560.808 Q38.6368 563.545 43.8567 563.545 L64.0042 563.545 L64.0042 569.433 L14.479 569.433 L14.479 563.545 L33.8944 563.545 Q30.6797 561.444 29.0883 558.611 Q27.4968 555.747 27.4968 552.023 Q27.4968 545.88 31.3163 542.729 Q35.1038 539.578 42.4881 539.578 Z\" fill=\"#000000\" fill-rule=\"nonzero\" fill-opacity=\"1\" /><path clip-path=\"url(#clip750)\" d=\"M33.8307 486.52 Q33.2578 487.506 33.0032 488.684 Q32.7167 489.83 32.7167 491.23 Q32.7167 496.196 35.9632 498.869 Q39.1779 501.511 45.2253 501.511 L64.0042 501.511 L64.0042 507.399 L28.3562 507.399 L28.3562 501.511 L33.8944 501.511 Q30.6479 499.665 29.0883 496.705 Q27.4968 493.745 27.4968 489.512 Q27.4968 488.907 27.5923 488.175 Q27.656 487.443 27.8151 486.552 L33.8307 486.52 Z\" fill=\"#000000\" fill-rule=\"nonzero\" fill-opacity=\"1\" /><path clip-path=\"url(#clip750)\" d=\"M46.0847 464.176 Q46.0847 471.274 47.7079 474.011 Q49.3312 476.748 53.2461 476.748 Q56.3653 476.748 58.2114 474.711 Q60.0256 472.642 60.0256 469.11 Q60.0256 464.24 56.5881 461.312 Q53.1188 458.351 47.3897 458.351 L46.0847 458.351 L46.0847 464.176 M43.6657 452.495 L64.0042 452.495 L64.0042 458.351 L58.5933 458.351 Q61.8398 460.357 63.3994 463.349 Q64.9272 466.34 64.9272 470.669 Q64.9272 476.144 61.8716 479.39 Q58.7843 482.605 53.6281 482.605 Q47.6125 482.605 44.5569 478.594 Q41.5014 474.552 41.5014 466.563 L41.5014 458.351 L40.9285 458.351 Q36.8862 458.351 34.6901 461.025 Q32.4621 463.667 32.4621 468.473 Q32.4621 471.528 33.1941 474.425 Q33.9262 477.321 35.3903 479.995 L29.9795 479.995 Q28.7381 476.78 28.1334 473.756 Q27.4968 470.733 27.4968 467.868 Q27.4968 460.134 31.5072 456.314 Q35.5176 452.495 43.6657 452.495 Z\" fill=\"#000000\" fill-rule=\"nonzero\" fill-opacity=\"1\" /><path clip-path=\"url(#clip750)\" d=\"M18.2347 434.639 L28.3562 434.639 L28.3562 422.576 L32.9077 422.576 L32.9077 434.639 L52.2594 434.639 Q56.6199 434.639 57.8613 433.462 Q59.1026 432.252 59.1026 428.592 L59.1026 422.576 L64.0042 422.576 L64.0042 428.592 Q64.0042 435.371 61.4897 437.949 Q58.9434 440.527 52.2594 440.527 L32.9077 440.527 L32.9077 444.824 L28.3562 444.824 L28.3562 440.527 L18.2347 440.527 L18.2347 434.639 Z\" fill=\"#000000\" fill-rule=\"nonzero\" fill-opacity=\"1\" /><path clip-path=\"url(#clip750)\" d=\"M44.7161 384.382 L47.5806 384.382 L47.5806 411.309 Q53.6281 410.927 56.8109 407.68 Q59.9619 404.402 59.9619 398.577 Q59.9619 395.204 59.1344 392.053 Q58.3069 388.87 56.6518 385.751 L62.1899 385.751 Q63.5267 388.902 64.227 392.212 Q64.9272 395.522 64.9272 398.928 Q64.9272 407.458 59.9619 412.455 Q54.9967 417.42 46.5303 417.42 Q37.7774 417.42 32.6531 412.709 Q27.4968 407.967 27.4968 399.946 Q27.4968 392.753 32.1438 388.583 Q36.7589 384.382 44.7161 384.382 M42.9973 390.238 Q38.1912 390.302 35.3266 392.944 Q32.4621 395.554 32.4621 399.882 Q32.4621 404.784 35.2312 407.744 Q38.0002 410.672 43.0292 411.118 L42.9973 390.238 Z\" fill=\"#000000\" fill-rule=\"nonzero\" fill-opacity=\"1\" /><path clip-path=\"url(#clip750)\" d=\"M14.5426 339.981 Q21.8632 344.246 29.0246 346.315 Q36.186 348.384 43.5384 348.384 Q50.8908 348.384 58.1159 346.315 Q65.3091 344.214 72.5979 339.981 L72.5979 345.074 Q65.1182 349.848 57.8931 352.235 Q50.668 354.59 43.5384 354.59 Q36.4406 354.59 29.2474 352.235 Q22.0542 349.88 14.5426 345.074 L14.5426 339.981 Z\" fill=\"#000000\" fill-rule=\"nonzero\" fill-opacity=\"1\" /><path clip-path=\"url(#clip750)\" d=\"M58.5933 326.677 L58.5933 316.173 L22.3406 316.173 L24.6323 327.6 L18.7758 327.6 L16.4842 316.237 L16.4842 309.808 L58.5933 309.808 L58.5933 299.304 L64.0042 299.304 L64.0042 326.677 L58.5933 326.677 Z\" fill=\"#000000\" fill-rule=\"nonzero\" fill-opacity=\"1\" /><path clip-path=\"url(#clip750)\" d=\"M16.4842 276.738 L16.4842 271.327 L70.0516 287.878 L70.0516 293.289 L16.4842 276.738 Z\" fill=\"#000000\" fill-rule=\"nonzero\" fill-opacity=\"1\" /><path clip-path=\"url(#clip750)\" d=\"M67.3143 250.352 Q73.68 252.835 75.6216 255.19 Q77.5631 257.545 77.5631 261.492 L77.5631 266.171 L72.6615 266.171 L72.6615 262.733 Q72.6615 260.314 71.5157 258.978 Q70.3699 257.641 66.1048 256.017 L63.4312 254.967 L28.3562 269.385 L28.3562 263.179 L56.238 252.039 L28.3562 240.899 L28.3562 234.692 L67.3143 250.352 Z\" fill=\"#000000\" fill-rule=\"nonzero\" fill-opacity=\"1\" /><path clip-path=\"url(#clip750)\" d=\"M33.8307 205.951 Q33.2578 206.938 33.0032 208.116 Q32.7167 209.261 32.7167 210.662 Q32.7167 215.627 35.9632 218.301 Q39.1779 220.942 45.2253 220.942 L64.0042 220.942 L64.0042 226.831 L28.3562 226.831 L28.3562 220.942 L33.8944 220.942 Q30.6479 219.096 29.0883 216.136 Q27.4968 213.176 27.4968 208.943 Q27.4968 208.338 27.5923 207.606 Q27.656 206.874 27.8151 205.983 L33.8307 205.951 Z\" fill=\"#000000\" fill-rule=\"nonzero\" fill-opacity=\"1\" /><path clip-path=\"url(#clip750)\" d=\"M14.5426 200.731 L14.5426 195.639 Q22.0542 190.864 29.2474 188.509 Q36.4406 186.122 43.5384 186.122 Q50.668 186.122 57.8931 188.509 Q65.1182 190.864 72.5979 195.639 L72.5979 200.731 Q65.3091 196.498 58.1159 194.429 Q50.8908 192.329 43.5384 192.329 Q36.186 192.329 29.0246 194.429 Q21.8632 196.498 14.5426 200.731 Z\" fill=\"#000000\" fill-rule=\"nonzero\" fill-opacity=\"1\" /><polyline clip-path=\"url(#clip752)\" style=\"stroke:#00bfff; stroke-linecap:round; stroke-linejoin:round; stroke-width:16; stroke-opacity:1; fill:none\" points=\"613.868,1322.98 613.868,1322.98 613.869,1323.01 614.194,1303.11 615.687,1276.07 618.418,1249.02 622.399,1221.98 627.675,1194.94 634.383,1167.9 642.617,1140.85 652.586,1113.81 664.195,1086.77 677.648,1059.73 693.767,1032.68 712.447,1005.64 733.398,978.597 756.355,951.554 781.072,924.511 807.326,897.469 834.922,870.426 863.687,843.383 893.471,816.34 924.145,789.297 955.598,762.255 987.734,735.212 1020.47,708.169 1053.74,681.126 1087.48,654.084 1121.63,627.041 1156.15,599.998 1191.01,572.955 1226.34,545.913 1262.47,518.87 1299.43,491.827 1337.31,464.784 1376.2,437.742 1417.16,410.699 1460.22,383.656 1505.17,356.613 1551.81,329.571 1599.99,302.528 1649.53,275.485 1700.31,248.442 1752.2,221.399 1805.09,194.357 1858.89,167.314 1913.51,140.271 1971.36,113.228 2051.62,86.1857 \"/>\n",
       "<circle clip-path=\"url(#clip752)\" cx=\"618.418\" cy=\"1249.02\" r=\"10.8\" fill=\"#ffffff\" fill-rule=\"evenodd\" fill-opacity=\"1\" stroke=\"#00bfff\" stroke-opacity=\"1\" stroke-width=\"3.2\"/>\n",
       "<circle clip-path=\"url(#clip752)\" cx=\"614.194\" cy=\"1303.11\" r=\"10.8\" fill=\"#ffffff\" fill-rule=\"evenodd\" fill-opacity=\"1\" stroke=\"#00bfff\" stroke-opacity=\"1\" stroke-width=\"3.2\"/>\n",
       "<circle clip-path=\"url(#clip752)\" cx=\"2051.62\" cy=\"86.1857\" r=\"10.8\" fill=\"#ffffff\" fill-rule=\"evenodd\" fill-opacity=\"1\" stroke=\"#00bfff\" stroke-opacity=\"1\" stroke-width=\"3.2\"/>\n",
       "<circle clip-path=\"url(#clip752)\" cx=\"712.447\" cy=\"1005.64\" r=\"10.8\" fill=\"#ffffff\" fill-rule=\"evenodd\" fill-opacity=\"1\" stroke=\"#00bfff\" stroke-opacity=\"1\" stroke-width=\"3.2\"/>\n",
       "<circle clip-path=\"url(#clip752)\" cx=\"1053.74\" cy=\"681.126\" r=\"10.8\" fill=\"#ffffff\" fill-rule=\"evenodd\" fill-opacity=\"1\" stroke=\"#00bfff\" stroke-opacity=\"1\" stroke-width=\"3.2\"/>\n",
       "<circle clip-path=\"url(#clip752)\" cx=\"1156.15\" cy=\"599.998\" r=\"10.8\" fill=\"#ffffff\" fill-rule=\"evenodd\" fill-opacity=\"1\" stroke=\"#00bfff\" stroke-opacity=\"1\" stroke-width=\"3.2\"/>\n",
       "<circle clip-path=\"url(#clip752)\" cx=\"1752.2\" cy=\"221.399\" r=\"10.8\" fill=\"#ffffff\" fill-rule=\"evenodd\" fill-opacity=\"1\" stroke=\"#00bfff\" stroke-opacity=\"1\" stroke-width=\"3.2\"/>\n",
       "<circle clip-path=\"url(#clip752)\" cx=\"1599.99\" cy=\"302.528\" r=\"10.8\" fill=\"#ffffff\" fill-rule=\"evenodd\" fill-opacity=\"1\" stroke=\"#00bfff\" stroke-opacity=\"1\" stroke-width=\"3.2\"/>\n",
       "<circle clip-path=\"url(#clip752)\" cx=\"693.767\" cy=\"1032.68\" r=\"10.8\" fill=\"#ffffff\" fill-rule=\"evenodd\" fill-opacity=\"1\" stroke=\"#00bfff\" stroke-opacity=\"1\" stroke-width=\"3.2\"/>\n",
       "<circle clip-path=\"url(#clip752)\" cx=\"1505.17\" cy=\"356.613\" r=\"10.8\" fill=\"#ffffff\" fill-rule=\"evenodd\" fill-opacity=\"1\" stroke=\"#00bfff\" stroke-opacity=\"1\" stroke-width=\"3.2\"/>\n",
       "<circle clip-path=\"url(#clip752)\" cx=\"1226.34\" cy=\"545.913\" r=\"10.8\" fill=\"#ffffff\" fill-rule=\"evenodd\" fill-opacity=\"1\" stroke=\"#00bfff\" stroke-opacity=\"1\" stroke-width=\"3.2\"/>\n",
       "<circle clip-path=\"url(#clip752)\" cx=\"756.355\" cy=\"951.554\" r=\"10.8\" fill=\"#ffffff\" fill-rule=\"evenodd\" fill-opacity=\"1\" stroke=\"#00bfff\" stroke-opacity=\"1\" stroke-width=\"3.2\"/>\n",
       "<circle clip-path=\"url(#clip752)\" cx=\"1376.2\" cy=\"437.742\" r=\"10.8\" fill=\"#ffffff\" fill-rule=\"evenodd\" fill-opacity=\"1\" stroke=\"#00bfff\" stroke-opacity=\"1\" stroke-width=\"3.2\"/>\n",
       "<circle clip-path=\"url(#clip752)\" cx=\"652.586\" cy=\"1113.81\" r=\"10.8\" fill=\"#ffffff\" fill-rule=\"evenodd\" fill-opacity=\"1\" stroke=\"#00bfff\" stroke-opacity=\"1\" stroke-width=\"3.2\"/>\n",
       "<circle clip-path=\"url(#clip752)\" cx=\"1417.16\" cy=\"410.699\" r=\"10.8\" fill=\"#ffffff\" fill-rule=\"evenodd\" fill-opacity=\"1\" stroke=\"#00bfff\" stroke-opacity=\"1\" stroke-width=\"3.2\"/>\n",
       "<circle clip-path=\"url(#clip752)\" cx=\"642.617\" cy=\"1140.85\" r=\"10.8\" fill=\"#ffffff\" fill-rule=\"evenodd\" fill-opacity=\"1\" stroke=\"#00bfff\" stroke-opacity=\"1\" stroke-width=\"3.2\"/>\n",
       "<circle clip-path=\"url(#clip752)\" cx=\"634.383\" cy=\"1167.9\" r=\"10.8\" fill=\"#ffffff\" fill-rule=\"evenodd\" fill-opacity=\"1\" stroke=\"#00bfff\" stroke-opacity=\"1\" stroke-width=\"3.2\"/>\n",
       "<circle clip-path=\"url(#clip752)\" cx=\"1551.81\" cy=\"329.571\" r=\"10.8\" fill=\"#ffffff\" fill-rule=\"evenodd\" fill-opacity=\"1\" stroke=\"#00bfff\" stroke-opacity=\"1\" stroke-width=\"3.2\"/>\n",
       "<circle clip-path=\"url(#clip752)\" cx=\"1087.48\" cy=\"654.084\" r=\"10.8\" fill=\"#ffffff\" fill-rule=\"evenodd\" fill-opacity=\"1\" stroke=\"#00bfff\" stroke-opacity=\"1\" stroke-width=\"3.2\"/>\n",
       "<circle clip-path=\"url(#clip752)\" cx=\"1913.51\" cy=\"140.271\" r=\"10.8\" fill=\"#ffffff\" fill-rule=\"evenodd\" fill-opacity=\"1\" stroke=\"#00bfff\" stroke-opacity=\"1\" stroke-width=\"3.2\"/>\n",
       "<circle clip-path=\"url(#clip752)\" cx=\"1191.01\" cy=\"572.955\" r=\"10.8\" fill=\"#ffffff\" fill-rule=\"evenodd\" fill-opacity=\"1\" stroke=\"#00bfff\" stroke-opacity=\"1\" stroke-width=\"3.2\"/>\n",
       "<circle clip-path=\"url(#clip752)\" cx=\"1121.63\" cy=\"627.041\" r=\"10.8\" fill=\"#ffffff\" fill-rule=\"evenodd\" fill-opacity=\"1\" stroke=\"#00bfff\" stroke-opacity=\"1\" stroke-width=\"3.2\"/>\n",
       "<circle clip-path=\"url(#clip752)\" cx=\"1971.36\" cy=\"113.228\" r=\"10.8\" fill=\"#ffffff\" fill-rule=\"evenodd\" fill-opacity=\"1\" stroke=\"#00bfff\" stroke-opacity=\"1\" stroke-width=\"3.2\"/>\n",
       "<circle clip-path=\"url(#clip752)\" cx=\"955.598\" cy=\"762.255\" r=\"10.8\" fill=\"#ffffff\" fill-rule=\"evenodd\" fill-opacity=\"1\" stroke=\"#00bfff\" stroke-opacity=\"1\" stroke-width=\"3.2\"/>\n",
       "<circle clip-path=\"url(#clip752)\" cx=\"1460.22\" cy=\"383.656\" r=\"10.8\" fill=\"#ffffff\" fill-rule=\"evenodd\" fill-opacity=\"1\" stroke=\"#00bfff\" stroke-opacity=\"1\" stroke-width=\"3.2\"/>\n",
       "<circle clip-path=\"url(#clip752)\" cx=\"613.868\" cy=\"1322.98\" r=\"10.8\" fill=\"#ffffff\" fill-rule=\"evenodd\" fill-opacity=\"1\" stroke=\"#00bfff\" stroke-opacity=\"1\" stroke-width=\"3.2\"/>\n",
       "<circle clip-path=\"url(#clip752)\" cx=\"613.868\" cy=\"1322.98\" r=\"10.8\" fill=\"#ffffff\" fill-rule=\"evenodd\" fill-opacity=\"1\" stroke=\"#00bfff\" stroke-opacity=\"1\" stroke-width=\"3.2\"/>\n",
       "<circle clip-path=\"url(#clip752)\" cx=\"1805.09\" cy=\"194.357\" r=\"10.8\" fill=\"#ffffff\" fill-rule=\"evenodd\" fill-opacity=\"1\" stroke=\"#00bfff\" stroke-opacity=\"1\" stroke-width=\"3.2\"/>\n",
       "<circle clip-path=\"url(#clip752)\" cx=\"622.399\" cy=\"1221.98\" r=\"10.8\" fill=\"#ffffff\" fill-rule=\"evenodd\" fill-opacity=\"1\" stroke=\"#00bfff\" stroke-opacity=\"1\" stroke-width=\"3.2\"/>\n",
       "<circle clip-path=\"url(#clip752)\" cx=\"1649.53\" cy=\"275.485\" r=\"10.8\" fill=\"#ffffff\" fill-rule=\"evenodd\" fill-opacity=\"1\" stroke=\"#00bfff\" stroke-opacity=\"1\" stroke-width=\"3.2\"/>\n",
       "<circle clip-path=\"url(#clip752)\" cx=\"1700.31\" cy=\"248.442\" r=\"10.8\" fill=\"#ffffff\" fill-rule=\"evenodd\" fill-opacity=\"1\" stroke=\"#00bfff\" stroke-opacity=\"1\" stroke-width=\"3.2\"/>\n",
       "<circle clip-path=\"url(#clip752)\" cx=\"615.687\" cy=\"1276.07\" r=\"10.8\" fill=\"#ffffff\" fill-rule=\"evenodd\" fill-opacity=\"1\" stroke=\"#00bfff\" stroke-opacity=\"1\" stroke-width=\"3.2\"/>\n",
       "<circle clip-path=\"url(#clip752)\" cx=\"987.734\" cy=\"735.212\" r=\"10.8\" fill=\"#ffffff\" fill-rule=\"evenodd\" fill-opacity=\"1\" stroke=\"#00bfff\" stroke-opacity=\"1\" stroke-width=\"3.2\"/>\n",
       "<circle clip-path=\"url(#clip752)\" cx=\"1020.47\" cy=\"708.169\" r=\"10.8\" fill=\"#ffffff\" fill-rule=\"evenodd\" fill-opacity=\"1\" stroke=\"#00bfff\" stroke-opacity=\"1\" stroke-width=\"3.2\"/>\n",
       "<circle clip-path=\"url(#clip752)\" cx=\"733.398\" cy=\"978.597\" r=\"10.8\" fill=\"#ffffff\" fill-rule=\"evenodd\" fill-opacity=\"1\" stroke=\"#00bfff\" stroke-opacity=\"1\" stroke-width=\"3.2\"/>\n",
       "<circle clip-path=\"url(#clip752)\" cx=\"893.471\" cy=\"816.34\" r=\"10.8\" fill=\"#ffffff\" fill-rule=\"evenodd\" fill-opacity=\"1\" stroke=\"#00bfff\" stroke-opacity=\"1\" stroke-width=\"3.2\"/>\n",
       "<circle clip-path=\"url(#clip752)\" cx=\"613.869\" cy=\"1323.01\" r=\"10.8\" fill=\"#ffffff\" fill-rule=\"evenodd\" fill-opacity=\"1\" stroke=\"#00bfff\" stroke-opacity=\"1\" stroke-width=\"3.2\"/>\n",
       "<circle clip-path=\"url(#clip752)\" cx=\"924.145\" cy=\"789.297\" r=\"10.8\" fill=\"#ffffff\" fill-rule=\"evenodd\" fill-opacity=\"1\" stroke=\"#00bfff\" stroke-opacity=\"1\" stroke-width=\"3.2\"/>\n",
       "<circle clip-path=\"url(#clip752)\" cx=\"1299.43\" cy=\"491.827\" r=\"10.8\" fill=\"#ffffff\" fill-rule=\"evenodd\" fill-opacity=\"1\" stroke=\"#00bfff\" stroke-opacity=\"1\" stroke-width=\"3.2\"/>\n",
       "<circle clip-path=\"url(#clip752)\" cx=\"1262.47\" cy=\"518.87\" r=\"10.8\" fill=\"#ffffff\" fill-rule=\"evenodd\" fill-opacity=\"1\" stroke=\"#00bfff\" stroke-opacity=\"1\" stroke-width=\"3.2\"/>\n",
       "<circle clip-path=\"url(#clip752)\" cx=\"627.675\" cy=\"1194.94\" r=\"10.8\" fill=\"#ffffff\" fill-rule=\"evenodd\" fill-opacity=\"1\" stroke=\"#00bfff\" stroke-opacity=\"1\" stroke-width=\"3.2\"/>\n",
       "<circle clip-path=\"url(#clip752)\" cx=\"863.687\" cy=\"843.383\" r=\"10.8\" fill=\"#ffffff\" fill-rule=\"evenodd\" fill-opacity=\"1\" stroke=\"#00bfff\" stroke-opacity=\"1\" stroke-width=\"3.2\"/>\n",
       "<circle clip-path=\"url(#clip752)\" cx=\"781.072\" cy=\"924.511\" r=\"10.8\" fill=\"#ffffff\" fill-rule=\"evenodd\" fill-opacity=\"1\" stroke=\"#00bfff\" stroke-opacity=\"1\" stroke-width=\"3.2\"/>\n",
       "<circle clip-path=\"url(#clip752)\" cx=\"1858.89\" cy=\"167.314\" r=\"10.8\" fill=\"#ffffff\" fill-rule=\"evenodd\" fill-opacity=\"1\" stroke=\"#00bfff\" stroke-opacity=\"1\" stroke-width=\"3.2\"/>\n",
       "<circle clip-path=\"url(#clip752)\" cx=\"807.326\" cy=\"897.469\" r=\"10.8\" fill=\"#ffffff\" fill-rule=\"evenodd\" fill-opacity=\"1\" stroke=\"#00bfff\" stroke-opacity=\"1\" stroke-width=\"3.2\"/>\n",
       "<circle clip-path=\"url(#clip752)\" cx=\"1337.31\" cy=\"464.784\" r=\"10.8\" fill=\"#ffffff\" fill-rule=\"evenodd\" fill-opacity=\"1\" stroke=\"#00bfff\" stroke-opacity=\"1\" stroke-width=\"3.2\"/>\n",
       "<circle clip-path=\"url(#clip752)\" cx=\"664.195\" cy=\"1086.77\" r=\"10.8\" fill=\"#ffffff\" fill-rule=\"evenodd\" fill-opacity=\"1\" stroke=\"#00bfff\" stroke-opacity=\"1\" stroke-width=\"3.2\"/>\n",
       "<circle clip-path=\"url(#clip752)\" cx=\"834.922\" cy=\"870.426\" r=\"10.8\" fill=\"#ffffff\" fill-rule=\"evenodd\" fill-opacity=\"1\" stroke=\"#00bfff\" stroke-opacity=\"1\" stroke-width=\"3.2\"/>\n",
       "<circle clip-path=\"url(#clip752)\" cx=\"677.648\" cy=\"1059.73\" r=\"10.8\" fill=\"#ffffff\" fill-rule=\"evenodd\" fill-opacity=\"1\" stroke=\"#00bfff\" stroke-opacity=\"1\" stroke-width=\"3.2\"/>\n",
       "<polyline clip-path=\"url(#clip752)\" style=\"stroke:#ff0000; stroke-linecap:round; stroke-linejoin:round; stroke-width:16; stroke-opacity:1; fill:none\" points=\"519.433,1384.24 523.747,1357.2 529.887,1330.15 537.525,1303.11 546.439,1276.07 556.527,1249.02 567.688,1221.98 579.804,1194.94 592.748,1167.9 606.503,1140.85 621.049,1113.81 636.381,1086.77 652.597,1059.73 669.682,1032.68 687.77,1005.64 707.312,978.597 728.602,951.554 751.444,924.511 775.647,897.469 801.043,870.426 827.48,843.383 854.83,816.34 882.979,789.297 911.83,762.255 941.299,735.212 971.312,708.169 1001.81,681.126 1032.73,654.084 1064.04,627.041 1095.68,599.998 1127.64,572.955 1159.86,545.913 1192.34,518.87 1225.07,491.827 1258.03,464.784 1291.28,437.742 1325.44,410.699 1361.69,383.656 1399.98,356.613 1440.11,329.571 1481.91,302.528 1525.21,275.485 1569.88,248.442 1615.78,221.399 1662.81,194.357 1711.08,167.314 1761.12,140.271 1851.39,113.228 1997.19,86.1857 \"/>\n",
       "<circle clip-path=\"url(#clip752)\" cx=\"556.527\" cy=\"1249.02\" r=\"10.8\" fill=\"#ffffff\" fill-rule=\"evenodd\" fill-opacity=\"1\" stroke=\"#ff0000\" stroke-opacity=\"1\" stroke-width=\"3.2\"/>\n",
       "<circle clip-path=\"url(#clip752)\" cx=\"1225.07\" cy=\"491.827\" r=\"10.8\" fill=\"#ffffff\" fill-rule=\"evenodd\" fill-opacity=\"1\" stroke=\"#ff0000\" stroke-opacity=\"1\" stroke-width=\"3.2\"/>\n",
       "<circle clip-path=\"url(#clip752)\" cx=\"1615.78\" cy=\"221.399\" r=\"10.8\" fill=\"#ffffff\" fill-rule=\"evenodd\" fill-opacity=\"1\" stroke=\"#ff0000\" stroke-opacity=\"1\" stroke-width=\"3.2\"/>\n",
       "<circle clip-path=\"url(#clip752)\" cx=\"1001.81\" cy=\"681.126\" r=\"10.8\" fill=\"#ffffff\" fill-rule=\"evenodd\" fill-opacity=\"1\" stroke=\"#ff0000\" stroke-opacity=\"1\" stroke-width=\"3.2\"/>\n",
       "<circle clip-path=\"url(#clip752)\" cx=\"519.433\" cy=\"1384.24\" r=\"10.8\" fill=\"#ffffff\" fill-rule=\"evenodd\" fill-opacity=\"1\" stroke=\"#ff0000\" stroke-opacity=\"1\" stroke-width=\"3.2\"/>\n",
       "<circle clip-path=\"url(#clip752)\" cx=\"827.48\" cy=\"843.383\" r=\"10.8\" fill=\"#ffffff\" fill-rule=\"evenodd\" fill-opacity=\"1\" stroke=\"#ff0000\" stroke-opacity=\"1\" stroke-width=\"3.2\"/>\n",
       "<circle clip-path=\"url(#clip752)\" cx=\"687.77\" cy=\"1005.64\" r=\"10.8\" fill=\"#ffffff\" fill-rule=\"evenodd\" fill-opacity=\"1\" stroke=\"#ff0000\" stroke-opacity=\"1\" stroke-width=\"3.2\"/>\n",
       "<circle clip-path=\"url(#clip752)\" cx=\"636.381\" cy=\"1086.77\" r=\"10.8\" fill=\"#ffffff\" fill-rule=\"evenodd\" fill-opacity=\"1\" stroke=\"#ff0000\" stroke-opacity=\"1\" stroke-width=\"3.2\"/>\n",
       "<circle clip-path=\"url(#clip752)\" cx=\"728.602\" cy=\"951.554\" r=\"10.8\" fill=\"#ffffff\" fill-rule=\"evenodd\" fill-opacity=\"1\" stroke=\"#ff0000\" stroke-opacity=\"1\" stroke-width=\"3.2\"/>\n",
       "<circle clip-path=\"url(#clip752)\" cx=\"652.597\" cy=\"1059.73\" r=\"10.8\" fill=\"#ffffff\" fill-rule=\"evenodd\" fill-opacity=\"1\" stroke=\"#ff0000\" stroke-opacity=\"1\" stroke-width=\"3.2\"/>\n",
       "<circle clip-path=\"url(#clip752)\" cx=\"537.525\" cy=\"1303.11\" r=\"10.8\" fill=\"#ffffff\" fill-rule=\"evenodd\" fill-opacity=\"1\" stroke=\"#ff0000\" stroke-opacity=\"1\" stroke-width=\"3.2\"/>\n",
       "<circle clip-path=\"url(#clip752)\" cx=\"1851.39\" cy=\"113.228\" r=\"10.8\" fill=\"#ffffff\" fill-rule=\"evenodd\" fill-opacity=\"1\" stroke=\"#ff0000\" stroke-opacity=\"1\" stroke-width=\"3.2\"/>\n",
       "<circle clip-path=\"url(#clip752)\" cx=\"801.043\" cy=\"870.426\" r=\"10.8\" fill=\"#ffffff\" fill-rule=\"evenodd\" fill-opacity=\"1\" stroke=\"#ff0000\" stroke-opacity=\"1\" stroke-width=\"3.2\"/>\n",
       "<circle clip-path=\"url(#clip752)\" cx=\"1095.68\" cy=\"599.998\" r=\"10.8\" fill=\"#ffffff\" fill-rule=\"evenodd\" fill-opacity=\"1\" stroke=\"#ff0000\" stroke-opacity=\"1\" stroke-width=\"3.2\"/>\n",
       "<circle clip-path=\"url(#clip752)\" cx=\"971.312\" cy=\"708.169\" r=\"10.8\" fill=\"#ffffff\" fill-rule=\"evenodd\" fill-opacity=\"1\" stroke=\"#ff0000\" stroke-opacity=\"1\" stroke-width=\"3.2\"/>\n",
       "<circle clip-path=\"url(#clip752)\" cx=\"911.83\" cy=\"762.255\" r=\"10.8\" fill=\"#ffffff\" fill-rule=\"evenodd\" fill-opacity=\"1\" stroke=\"#ff0000\" stroke-opacity=\"1\" stroke-width=\"3.2\"/>\n",
       "<circle clip-path=\"url(#clip752)\" cx=\"621.049\" cy=\"1113.81\" r=\"10.8\" fill=\"#ffffff\" fill-rule=\"evenodd\" fill-opacity=\"1\" stroke=\"#ff0000\" stroke-opacity=\"1\" stroke-width=\"3.2\"/>\n",
       "<circle clip-path=\"url(#clip752)\" cx=\"1399.98\" cy=\"356.613\" r=\"10.8\" fill=\"#ffffff\" fill-rule=\"evenodd\" fill-opacity=\"1\" stroke=\"#ff0000\" stroke-opacity=\"1\" stroke-width=\"3.2\"/>\n",
       "<circle clip-path=\"url(#clip752)\" cx=\"1325.44\" cy=\"410.699\" r=\"10.8\" fill=\"#ffffff\" fill-rule=\"evenodd\" fill-opacity=\"1\" stroke=\"#ff0000\" stroke-opacity=\"1\" stroke-width=\"3.2\"/>\n",
       "<circle clip-path=\"url(#clip752)\" cx=\"1711.08\" cy=\"167.314\" r=\"10.8\" fill=\"#ffffff\" fill-rule=\"evenodd\" fill-opacity=\"1\" stroke=\"#ff0000\" stroke-opacity=\"1\" stroke-width=\"3.2\"/>\n",
       "<circle clip-path=\"url(#clip752)\" cx=\"592.748\" cy=\"1167.9\" r=\"10.8\" fill=\"#ffffff\" fill-rule=\"evenodd\" fill-opacity=\"1\" stroke=\"#ff0000\" stroke-opacity=\"1\" stroke-width=\"3.2\"/>\n",
       "<circle clip-path=\"url(#clip752)\" cx=\"1032.73\" cy=\"654.084\" r=\"10.8\" fill=\"#ffffff\" fill-rule=\"evenodd\" fill-opacity=\"1\" stroke=\"#ff0000\" stroke-opacity=\"1\" stroke-width=\"3.2\"/>\n",
       "<circle clip-path=\"url(#clip752)\" cx=\"1127.64\" cy=\"572.955\" r=\"10.8\" fill=\"#ffffff\" fill-rule=\"evenodd\" fill-opacity=\"1\" stroke=\"#ff0000\" stroke-opacity=\"1\" stroke-width=\"3.2\"/>\n",
       "<circle clip-path=\"url(#clip752)\" cx=\"707.312\" cy=\"978.597\" r=\"10.8\" fill=\"#ffffff\" fill-rule=\"evenodd\" fill-opacity=\"1\" stroke=\"#ff0000\" stroke-opacity=\"1\" stroke-width=\"3.2\"/>\n",
       "<circle clip-path=\"url(#clip752)\" cx=\"1159.86\" cy=\"545.913\" r=\"10.8\" fill=\"#ffffff\" fill-rule=\"evenodd\" fill-opacity=\"1\" stroke=\"#ff0000\" stroke-opacity=\"1\" stroke-width=\"3.2\"/>\n",
       "<circle clip-path=\"url(#clip752)\" cx=\"1569.88\" cy=\"248.442\" r=\"10.8\" fill=\"#ffffff\" fill-rule=\"evenodd\" fill-opacity=\"1\" stroke=\"#ff0000\" stroke-opacity=\"1\" stroke-width=\"3.2\"/>\n",
       "<circle clip-path=\"url(#clip752)\" cx=\"1361.69\" cy=\"383.656\" r=\"10.8\" fill=\"#ffffff\" fill-rule=\"evenodd\" fill-opacity=\"1\" stroke=\"#ff0000\" stroke-opacity=\"1\" stroke-width=\"3.2\"/>\n",
       "<circle clip-path=\"url(#clip752)\" cx=\"1997.19\" cy=\"86.1857\" r=\"10.8\" fill=\"#ffffff\" fill-rule=\"evenodd\" fill-opacity=\"1\" stroke=\"#ff0000\" stroke-opacity=\"1\" stroke-width=\"3.2\"/>\n",
       "<circle clip-path=\"url(#clip752)\" cx=\"529.887\" cy=\"1330.15\" r=\"10.8\" fill=\"#ffffff\" fill-rule=\"evenodd\" fill-opacity=\"1\" stroke=\"#ff0000\" stroke-opacity=\"1\" stroke-width=\"3.2\"/>\n",
       "<circle clip-path=\"url(#clip752)\" cx=\"579.804\" cy=\"1194.94\" r=\"10.8\" fill=\"#ffffff\" fill-rule=\"evenodd\" fill-opacity=\"1\" stroke=\"#ff0000\" stroke-opacity=\"1\" stroke-width=\"3.2\"/>\n",
       "<circle clip-path=\"url(#clip752)\" cx=\"751.444\" cy=\"924.511\" r=\"10.8\" fill=\"#ffffff\" fill-rule=\"evenodd\" fill-opacity=\"1\" stroke=\"#ff0000\" stroke-opacity=\"1\" stroke-width=\"3.2\"/>\n",
       "<circle clip-path=\"url(#clip752)\" cx=\"1192.34\" cy=\"518.87\" r=\"10.8\" fill=\"#ffffff\" fill-rule=\"evenodd\" fill-opacity=\"1\" stroke=\"#ff0000\" stroke-opacity=\"1\" stroke-width=\"3.2\"/>\n",
       "<circle clip-path=\"url(#clip752)\" cx=\"1291.28\" cy=\"437.742\" r=\"10.8\" fill=\"#ffffff\" fill-rule=\"evenodd\" fill-opacity=\"1\" stroke=\"#ff0000\" stroke-opacity=\"1\" stroke-width=\"3.2\"/>\n",
       "<circle clip-path=\"url(#clip752)\" cx=\"1440.11\" cy=\"329.571\" r=\"10.8\" fill=\"#ffffff\" fill-rule=\"evenodd\" fill-opacity=\"1\" stroke=\"#ff0000\" stroke-opacity=\"1\" stroke-width=\"3.2\"/>\n",
       "<circle clip-path=\"url(#clip752)\" cx=\"669.682\" cy=\"1032.68\" r=\"10.8\" fill=\"#ffffff\" fill-rule=\"evenodd\" fill-opacity=\"1\" stroke=\"#ff0000\" stroke-opacity=\"1\" stroke-width=\"3.2\"/>\n",
       "<circle clip-path=\"url(#clip752)\" cx=\"1481.91\" cy=\"302.528\" r=\"10.8\" fill=\"#ffffff\" fill-rule=\"evenodd\" fill-opacity=\"1\" stroke=\"#ff0000\" stroke-opacity=\"1\" stroke-width=\"3.2\"/>\n",
       "<circle clip-path=\"url(#clip752)\" cx=\"1525.21\" cy=\"275.485\" r=\"10.8\" fill=\"#ffffff\" fill-rule=\"evenodd\" fill-opacity=\"1\" stroke=\"#ff0000\" stroke-opacity=\"1\" stroke-width=\"3.2\"/>\n",
       "<circle clip-path=\"url(#clip752)\" cx=\"1258.03\" cy=\"464.784\" r=\"10.8\" fill=\"#ffffff\" fill-rule=\"evenodd\" fill-opacity=\"1\" stroke=\"#ff0000\" stroke-opacity=\"1\" stroke-width=\"3.2\"/>\n",
       "<circle clip-path=\"url(#clip752)\" cx=\"775.647\" cy=\"897.469\" r=\"10.8\" fill=\"#ffffff\" fill-rule=\"evenodd\" fill-opacity=\"1\" stroke=\"#ff0000\" stroke-opacity=\"1\" stroke-width=\"3.2\"/>\n",
       "<circle clip-path=\"url(#clip752)\" cx=\"941.299\" cy=\"735.212\" r=\"10.8\" fill=\"#ffffff\" fill-rule=\"evenodd\" fill-opacity=\"1\" stroke=\"#ff0000\" stroke-opacity=\"1\" stroke-width=\"3.2\"/>\n",
       "<circle clip-path=\"url(#clip752)\" cx=\"882.979\" cy=\"789.297\" r=\"10.8\" fill=\"#ffffff\" fill-rule=\"evenodd\" fill-opacity=\"1\" stroke=\"#ff0000\" stroke-opacity=\"1\" stroke-width=\"3.2\"/>\n",
       "<circle clip-path=\"url(#clip752)\" cx=\"523.747\" cy=\"1357.2\" r=\"10.8\" fill=\"#ffffff\" fill-rule=\"evenodd\" fill-opacity=\"1\" stroke=\"#ff0000\" stroke-opacity=\"1\" stroke-width=\"3.2\"/>\n",
       "<circle clip-path=\"url(#clip752)\" cx=\"1761.12\" cy=\"140.271\" r=\"10.8\" fill=\"#ffffff\" fill-rule=\"evenodd\" fill-opacity=\"1\" stroke=\"#ff0000\" stroke-opacity=\"1\" stroke-width=\"3.2\"/>\n",
       "<circle clip-path=\"url(#clip752)\" cx=\"546.439\" cy=\"1276.07\" r=\"10.8\" fill=\"#ffffff\" fill-rule=\"evenodd\" fill-opacity=\"1\" stroke=\"#ff0000\" stroke-opacity=\"1\" stroke-width=\"3.2\"/>\n",
       "<circle clip-path=\"url(#clip752)\" cx=\"1662.81\" cy=\"194.357\" r=\"10.8\" fill=\"#ffffff\" fill-rule=\"evenodd\" fill-opacity=\"1\" stroke=\"#ff0000\" stroke-opacity=\"1\" stroke-width=\"3.2\"/>\n",
       "<circle clip-path=\"url(#clip752)\" cx=\"1064.04\" cy=\"627.041\" r=\"10.8\" fill=\"#ffffff\" fill-rule=\"evenodd\" fill-opacity=\"1\" stroke=\"#ff0000\" stroke-opacity=\"1\" stroke-width=\"3.2\"/>\n",
       "<circle clip-path=\"url(#clip752)\" cx=\"606.503\" cy=\"1140.85\" r=\"10.8\" fill=\"#ffffff\" fill-rule=\"evenodd\" fill-opacity=\"1\" stroke=\"#ff0000\" stroke-opacity=\"1\" stroke-width=\"3.2\"/>\n",
       "<circle clip-path=\"url(#clip752)\" cx=\"567.688\" cy=\"1221.98\" r=\"10.8\" fill=\"#ffffff\" fill-rule=\"evenodd\" fill-opacity=\"1\" stroke=\"#ff0000\" stroke-opacity=\"1\" stroke-width=\"3.2\"/>\n",
       "<circle clip-path=\"url(#clip752)\" cx=\"854.83\" cy=\"816.34\" r=\"10.8\" fill=\"#ffffff\" fill-rule=\"evenodd\" fill-opacity=\"1\" stroke=\"#ff0000\" stroke-opacity=\"1\" stroke-width=\"3.2\"/>\n",
       "<path clip-path=\"url(#clip750)\" d=\"M290.493 248.629 L608.066 248.629 L608.066 93.1086 L290.493 93.1086  Z\" fill=\"#f2f2f2\" fill-rule=\"evenodd\" fill-opacity=\"1\"/>\n",
       "<polyline clip-path=\"url(#clip750)\" style=\"stroke:#000000; stroke-linecap:round; stroke-linejoin:round; stroke-width:4; stroke-opacity:0; fill:none\" points=\"290.493,248.629 608.066,248.629 608.066,93.1086 290.493,93.1086 290.493,248.629 \"/>\n",
       "<polyline clip-path=\"url(#clip750)\" style=\"stroke:#00bfff; stroke-linecap:round; stroke-linejoin:round; stroke-width:16; stroke-opacity:1; fill:none\" points=\"314.197,144.949 456.422,144.949 \"/>\n",
       "<path clip-path=\"url(#clip750)\" d=\"M484.802 131.511 L484.802 158.386 L490.45 158.386 Q497.603 158.386 500.913 155.145 Q504.246 151.905 504.246 144.914 Q504.246 137.969 500.913 134.752 Q497.603 131.511 490.45 131.511 L484.802 131.511 M480.126 127.669 L489.733 127.669 Q499.779 127.669 504.478 131.858 Q509.177 136.025 509.177 144.914 Q509.177 153.849 504.455 158.039 Q499.732 162.229 489.733 162.229 L480.126 162.229 L480.126 127.669 Z\" fill=\"#000000\" fill-rule=\"nonzero\" fill-opacity=\"1\" /><path clip-path=\"url(#clip750)\" d=\"M528.228 149.196 Q523.066 149.196 521.075 150.377 Q519.084 151.557 519.084 154.405 Q519.084 156.673 520.566 158.016 Q522.07 159.335 524.64 159.335 Q528.181 159.335 530.311 156.835 Q532.464 154.312 532.464 150.145 L532.464 149.196 L528.228 149.196 M536.723 147.437 L536.723 162.229 L532.464 162.229 L532.464 158.293 Q531.005 160.655 528.83 161.789 Q526.654 162.9 523.505 162.9 Q519.524 162.9 517.163 160.678 Q514.825 158.432 514.825 154.682 Q514.825 150.307 517.742 148.085 Q520.681 145.863 526.492 145.863 L532.464 145.863 L532.464 145.446 Q532.464 142.507 530.519 140.909 Q528.598 139.289 525.103 139.289 Q522.88 139.289 520.774 139.821 Q518.668 140.354 516.723 141.419 L516.723 137.483 Q519.061 136.581 521.26 136.141 Q523.459 135.678 525.543 135.678 Q531.167 135.678 533.945 138.594 Q536.723 141.511 536.723 147.437 Z\" fill=\"#000000\" fill-rule=\"nonzero\" fill-opacity=\"1\" /><path clip-path=\"url(#clip750)\" d=\"M549.709 128.942 L549.709 136.303 L558.482 136.303 L558.482 139.613 L549.709 139.613 L549.709 153.687 Q549.709 156.858 550.566 157.761 Q551.445 158.664 554.107 158.664 L558.482 158.664 L558.482 162.229 L554.107 162.229 Q549.177 162.229 547.302 160.4 Q545.427 158.548 545.427 153.687 L545.427 139.613 L542.302 139.613 L542.302 136.303 L545.427 136.303 L545.427 128.942 L549.709 128.942 Z\" fill=\"#000000\" fill-rule=\"nonzero\" fill-opacity=\"1\" /><path clip-path=\"url(#clip750)\" d=\"M575.866 149.196 Q570.704 149.196 568.714 150.377 Q566.723 151.557 566.723 154.405 Q566.723 156.673 568.204 158.016 Q569.709 159.335 572.278 159.335 Q575.82 159.335 577.95 156.835 Q580.102 154.312 580.102 150.145 L580.102 149.196 L575.866 149.196 M584.362 147.437 L584.362 162.229 L580.102 162.229 L580.102 158.293 Q578.644 160.655 576.468 161.789 Q574.292 162.9 571.144 162.9 Q567.163 162.9 564.802 160.678 Q562.464 158.432 562.464 154.682 Q562.464 150.307 565.38 148.085 Q568.32 145.863 574.13 145.863 L580.102 145.863 L580.102 145.446 Q580.102 142.507 578.158 140.909 Q576.237 139.289 572.741 139.289 Q570.519 139.289 568.413 139.821 Q566.306 140.354 564.362 141.419 L564.362 137.483 Q566.7 136.581 568.899 136.141 Q571.098 135.678 573.181 135.678 Q578.806 135.678 581.584 138.594 Q584.362 141.511 584.362 147.437 Z\" fill=\"#000000\" fill-rule=\"nonzero\" fill-opacity=\"1\" /><polyline clip-path=\"url(#clip750)\" style=\"stroke:#ff0000; stroke-linecap:round; stroke-linejoin:round; stroke-width:16; stroke-opacity:1; fill:none\" points=\"314.197,196.789 456.422,196.789 \"/>\n",
       "<path clip-path=\"url(#clip750)\" d=\"M502.371 180.643 L502.371 185.203 Q499.709 183.93 497.348 183.305 Q494.987 182.68 492.788 182.68 Q488.969 182.68 486.885 184.161 Q484.825 185.643 484.825 188.374 Q484.825 190.666 486.191 191.847 Q487.58 193.004 491.422 193.722 L494.246 194.3 Q499.478 195.296 501.955 197.819 Q504.455 200.319 504.455 204.532 Q504.455 209.555 501.075 212.147 Q497.719 214.74 491.214 214.74 Q488.76 214.74 485.983 214.184 Q483.228 213.629 480.265 212.541 L480.265 207.726 Q483.112 209.323 485.844 210.133 Q488.575 210.944 491.214 210.944 Q495.219 210.944 497.395 209.37 Q499.57 207.796 499.57 204.879 Q499.57 202.333 497.996 200.897 Q496.445 199.462 492.881 198.745 L490.033 198.189 Q484.802 197.147 482.464 194.925 Q480.126 192.703 480.126 188.745 Q480.126 184.161 483.344 181.522 Q486.584 178.884 492.256 178.884 Q494.686 178.884 497.209 179.323 Q499.732 179.763 502.371 180.643 Z\" fill=\"#000000\" fill-rule=\"nonzero\" fill-opacity=\"1\" /><path clip-path=\"url(#clip750)\" d=\"M511.746 179.509 L516.422 179.509 L516.422 214.069 L511.746 214.069 L511.746 179.509 Z\" fill=\"#000000\" fill-rule=\"nonzero\" fill-opacity=\"1\" /><path clip-path=\"url(#clip750)\" d=\"M525.728 179.509 L532.695 179.509 L541.515 203.027 L550.38 179.509 L557.348 179.509 L557.348 214.069 L552.788 214.069 L552.788 183.722 L543.876 207.425 L539.177 207.425 L530.265 183.722 L530.265 214.069 L525.728 214.069 L525.728 179.509 Z\" fill=\"#000000\" fill-rule=\"nonzero\" fill-opacity=\"1\" /></svg>\n"
      ],
      "text/html": [
       "<?xml version=\"1.0\" encoding=\"utf-8\"?>\n",
       "<svg xmlns=\"http://www.w3.org/2000/svg\" xmlns:xlink=\"http://www.w3.org/1999/xlink\" width=\"600\" height=\"400\" viewBox=\"0 0 2400 1600\">\n",
       "<defs>\n",
       "  <clipPath id=\"clip800\">\n",
       "    <rect x=\"0\" y=\"0\" width=\"2400\" height=\"1600\"/>\n",
       "  </clipPath>\n",
       "</defs>\n",
       "<path clip-path=\"url(#clip800)\" d=\"M0 1600 L2400 1600 L2400 8.88178e-14 L0 8.88178e-14  Z\" fill=\"#ffffff\" fill-rule=\"evenodd\" fill-opacity=\"1\"/>\n",
       "<defs>\n",
       "  <clipPath id=\"clip801\">\n",
       "    <rect x=\"480\" y=\"0\" width=\"1681\" height=\"1600\"/>\n",
       "  </clipPath>\n",
       "</defs>\n",
       "<path clip-path=\"url(#clip800)\" d=\"M219.38 1423.18 L2352.76 1423.18 L2352.76 47.2441 L219.38 47.2441  Z\" fill=\"#f2f2f2\" fill-rule=\"evenodd\" fill-opacity=\"1\"/>\n",
       "<defs>\n",
       "  <clipPath id=\"clip802\">\n",
       "    <rect x=\"219\" y=\"47\" width=\"2134\" height=\"1377\"/>\n",
       "  </clipPath>\n",
       "</defs>\n",
       "<polyline clip-path=\"url(#clip802)\" style=\"stroke:#000000; stroke-linecap:round; stroke-linejoin:round; stroke-width:2; stroke-opacity:0.1; fill:none\" points=\"219.38,1423.18 219.38,47.2441 \"/>\n",
       "<polyline clip-path=\"url(#clip802)\" style=\"stroke:#000000; stroke-linecap:round; stroke-linejoin:round; stroke-width:2; stroke-opacity:0.1; fill:none\" points=\"632.054,1423.18 632.054,47.2441 \"/>\n",
       "<polyline clip-path=\"url(#clip802)\" style=\"stroke:#000000; stroke-linecap:round; stroke-linejoin:round; stroke-width:2; stroke-opacity:0.1; fill:none\" points=\"1044.73,1423.18 1044.73,47.2441 \"/>\n",
       "<polyline clip-path=\"url(#clip802)\" style=\"stroke:#000000; stroke-linecap:round; stroke-linejoin:round; stroke-width:2; stroke-opacity:0.1; fill:none\" points=\"1457.4,1423.18 1457.4,47.2441 \"/>\n",
       "<polyline clip-path=\"url(#clip802)\" style=\"stroke:#000000; stroke-linecap:round; stroke-linejoin:round; stroke-width:2; stroke-opacity:0.1; fill:none\" points=\"1870.07,1423.18 1870.07,47.2441 \"/>\n",
       "<polyline clip-path=\"url(#clip802)\" style=\"stroke:#000000; stroke-linecap:round; stroke-linejoin:round; stroke-width:2; stroke-opacity:0.1; fill:none\" points=\"2282.75,1423.18 2282.75,47.2441 \"/>\n",
       "<polyline clip-path=\"url(#clip802)\" style=\"stroke:#000000; stroke-linecap:round; stroke-linejoin:round; stroke-width:2; stroke-opacity:0.1; fill:none\" points=\"219.38,1423.18 219.38,47.2441 \"/>\n",
       "<polyline clip-path=\"url(#clip802)\" style=\"stroke:#000000; stroke-linecap:round; stroke-linejoin:round; stroke-width:2; stroke-opacity:0.1; fill:none\" points=\"632.054,1423.18 632.054,47.2441 \"/>\n",
       "<polyline clip-path=\"url(#clip802)\" style=\"stroke:#000000; stroke-linecap:round; stroke-linejoin:round; stroke-width:2; stroke-opacity:0.1; fill:none\" points=\"1044.73,1423.18 1044.73,47.2441 \"/>\n",
       "<polyline clip-path=\"url(#clip802)\" style=\"stroke:#000000; stroke-linecap:round; stroke-linejoin:round; stroke-width:2; stroke-opacity:0.1; fill:none\" points=\"1457.4,1423.18 1457.4,47.2441 \"/>\n",
       "<polyline clip-path=\"url(#clip802)\" style=\"stroke:#000000; stroke-linecap:round; stroke-linejoin:round; stroke-width:2; stroke-opacity:0.1; fill:none\" points=\"1870.07,1423.18 1870.07,47.2441 \"/>\n",
       "<polyline clip-path=\"url(#clip802)\" style=\"stroke:#000000; stroke-linecap:round; stroke-linejoin:round; stroke-width:2; stroke-opacity:0.1; fill:none\" points=\"2282.75,1423.18 2282.75,47.2441 \"/>\n",
       "<polyline clip-path=\"url(#clip802)\" style=\"stroke:#000000; stroke-linecap:round; stroke-linejoin:round; stroke-width:2; stroke-opacity:0.1; fill:none\" points=\"219.38,1384.24 2352.76,1384.24 \"/>\n",
       "<polyline clip-path=\"url(#clip802)\" style=\"stroke:#000000; stroke-linecap:round; stroke-linejoin:round; stroke-width:2; stroke-opacity:0.1; fill:none\" points=\"219.38,1043.6 2352.76,1043.6 \"/>\n",
       "<polyline clip-path=\"url(#clip802)\" style=\"stroke:#000000; stroke-linecap:round; stroke-linejoin:round; stroke-width:2; stroke-opacity:0.1; fill:none\" points=\"219.38,702.955 2352.76,702.955 \"/>\n",
       "<polyline clip-path=\"url(#clip802)\" style=\"stroke:#000000; stroke-linecap:round; stroke-linejoin:round; stroke-width:2; stroke-opacity:0.1; fill:none\" points=\"219.38,362.314 2352.76,362.314 \"/>\n",
       "<polyline clip-path=\"url(#clip802)\" style=\"stroke:#000000; stroke-linecap:round; stroke-linejoin:round; stroke-width:2; stroke-opacity:0.1; fill:none\" points=\"219.38,1384.24 2352.76,1384.24 \"/>\n",
       "<polyline clip-path=\"url(#clip802)\" style=\"stroke:#000000; stroke-linecap:round; stroke-linejoin:round; stroke-width:2; stroke-opacity:0.1; fill:none\" points=\"219.38,1043.6 2352.76,1043.6 \"/>\n",
       "<polyline clip-path=\"url(#clip802)\" style=\"stroke:#000000; stroke-linecap:round; stroke-linejoin:round; stroke-width:2; stroke-opacity:0.1; fill:none\" points=\"219.38,702.955 2352.76,702.955 \"/>\n",
       "<polyline clip-path=\"url(#clip802)\" style=\"stroke:#000000; stroke-linecap:round; stroke-linejoin:round; stroke-width:2; stroke-opacity:0.1; fill:none\" points=\"219.38,362.314 2352.76,362.314 \"/>\n",
       "<polyline clip-path=\"url(#clip800)\" style=\"stroke:#000000; stroke-linecap:round; stroke-linejoin:round; stroke-width:4; stroke-opacity:1; fill:none\" points=\"219.38,1423.18 2352.76,1423.18 \"/>\n",
       "<polyline clip-path=\"url(#clip800)\" style=\"stroke:#000000; stroke-linecap:round; stroke-linejoin:round; stroke-width:4; stroke-opacity:1; fill:none\" points=\"219.38,47.2441 2352.76,47.2441 \"/>\n",
       "<polyline clip-path=\"url(#clip800)\" style=\"stroke:#000000; stroke-linecap:round; stroke-linejoin:round; stroke-width:4; stroke-opacity:1; fill:none\" points=\"219.38,1423.18 219.38,1404.28 \"/>\n",
       "<polyline clip-path=\"url(#clip800)\" style=\"stroke:#000000; stroke-linecap:round; stroke-linejoin:round; stroke-width:4; stroke-opacity:1; fill:none\" points=\"632.054,1423.18 632.054,1404.28 \"/>\n",
       "<polyline clip-path=\"url(#clip800)\" style=\"stroke:#000000; stroke-linecap:round; stroke-linejoin:round; stroke-width:4; stroke-opacity:1; fill:none\" points=\"1044.73,1423.18 1044.73,1404.28 \"/>\n",
       "<polyline clip-path=\"url(#clip800)\" style=\"stroke:#000000; stroke-linecap:round; stroke-linejoin:round; stroke-width:4; stroke-opacity:1; fill:none\" points=\"1457.4,1423.18 1457.4,1404.28 \"/>\n",
       "<polyline clip-path=\"url(#clip800)\" style=\"stroke:#000000; stroke-linecap:round; stroke-linejoin:round; stroke-width:4; stroke-opacity:1; fill:none\" points=\"1870.07,1423.18 1870.07,1404.28 \"/>\n",
       "<polyline clip-path=\"url(#clip800)\" style=\"stroke:#000000; stroke-linecap:round; stroke-linejoin:round; stroke-width:4; stroke-opacity:1; fill:none\" points=\"2282.75,1423.18 2282.75,1404.28 \"/>\n",
       "<polyline clip-path=\"url(#clip800)\" style=\"stroke:#000000; stroke-linecap:round; stroke-linejoin:round; stroke-width:4; stroke-opacity:1; fill:none\" points=\"219.38,47.2441 219.38,66.1417 \"/>\n",
       "<polyline clip-path=\"url(#clip800)\" style=\"stroke:#000000; stroke-linecap:round; stroke-linejoin:round; stroke-width:4; stroke-opacity:1; fill:none\" points=\"632.054,47.2441 632.054,66.1417 \"/>\n",
       "<polyline clip-path=\"url(#clip800)\" style=\"stroke:#000000; stroke-linecap:round; stroke-linejoin:round; stroke-width:4; stroke-opacity:1; fill:none\" points=\"1044.73,47.2441 1044.73,66.1417 \"/>\n",
       "<polyline clip-path=\"url(#clip800)\" style=\"stroke:#000000; stroke-linecap:round; stroke-linejoin:round; stroke-width:4; stroke-opacity:1; fill:none\" points=\"1457.4,47.2441 1457.4,66.1417 \"/>\n",
       "<polyline clip-path=\"url(#clip800)\" style=\"stroke:#000000; stroke-linecap:round; stroke-linejoin:round; stroke-width:4; stroke-opacity:1; fill:none\" points=\"1870.07,47.2441 1870.07,66.1417 \"/>\n",
       "<polyline clip-path=\"url(#clip800)\" style=\"stroke:#000000; stroke-linecap:round; stroke-linejoin:round; stroke-width:4; stroke-opacity:1; fill:none\" points=\"2282.75,47.2441 2282.75,66.1417 \"/>\n",
       "<path clip-path=\"url(#clip800)\" d=\"M196.765 1454.1 Q193.153 1454.1 191.325 1457.66 Q189.519 1461.2 189.519 1468.33 Q189.519 1475.44 191.325 1479.01 Q193.153 1482.55 196.765 1482.55 Q200.399 1482.55 202.204 1479.01 Q204.033 1475.44 204.033 1468.33 Q204.033 1461.2 202.204 1457.66 Q200.399 1454.1 196.765 1454.1 M196.765 1450.39 Q202.575 1450.39 205.63 1455 Q208.709 1459.58 208.709 1468.33 Q208.709 1477.06 205.63 1481.67 Q202.575 1486.25 196.765 1486.25 Q190.954 1486.25 187.876 1481.67 Q184.82 1477.06 184.82 1468.33 Q184.82 1459.58 187.876 1455 Q190.954 1450.39 196.765 1450.39 Z\" fill=\"#000000\" fill-rule=\"nonzero\" fill-opacity=\"1\" /><path clip-path=\"url(#clip800)\" d=\"M216.926 1479.7 L221.811 1479.7 L221.811 1485.58 L216.926 1485.58 L216.926 1479.7 Z\" fill=\"#000000\" fill-rule=\"nonzero\" fill-opacity=\"1\" /><path clip-path=\"url(#clip800)\" d=\"M241.996 1454.1 Q238.385 1454.1 236.556 1457.66 Q234.75 1461.2 234.75 1468.33 Q234.75 1475.44 236.556 1479.01 Q238.385 1482.55 241.996 1482.55 Q245.63 1482.55 247.436 1479.01 Q249.264 1475.44 249.264 1468.33 Q249.264 1461.2 247.436 1457.66 Q245.63 1454.1 241.996 1454.1 M241.996 1450.39 Q247.806 1450.39 250.861 1455 Q253.94 1459.58 253.94 1468.33 Q253.94 1477.06 250.861 1481.67 Q247.806 1486.25 241.996 1486.25 Q236.186 1486.25 233.107 1481.67 Q230.051 1477.06 230.051 1468.33 Q230.051 1459.58 233.107 1455 Q236.186 1450.39 241.996 1450.39 Z\" fill=\"#000000\" fill-rule=\"nonzero\" fill-opacity=\"1\" /><path clip-path=\"url(#clip800)\" d=\"M610.051 1454.1 Q606.44 1454.1 604.612 1457.66 Q602.806 1461.2 602.806 1468.33 Q602.806 1475.44 604.612 1479.01 Q606.44 1482.55 610.051 1482.55 Q613.686 1482.55 615.491 1479.01 Q617.32 1475.44 617.32 1468.33 Q617.32 1461.2 615.491 1457.66 Q613.686 1454.1 610.051 1454.1 M610.051 1450.39 Q615.862 1450.39 618.917 1455 Q621.996 1459.58 621.996 1468.33 Q621.996 1477.06 618.917 1481.67 Q615.862 1486.25 610.051 1486.25 Q604.241 1486.25 601.163 1481.67 Q598.107 1477.06 598.107 1468.33 Q598.107 1459.58 601.163 1455 Q604.241 1450.39 610.051 1450.39 Z\" fill=\"#000000\" fill-rule=\"nonzero\" fill-opacity=\"1\" /><path clip-path=\"url(#clip800)\" d=\"M630.213 1479.7 L635.098 1479.7 L635.098 1485.58 L630.213 1485.58 L630.213 1479.7 Z\" fill=\"#000000\" fill-rule=\"nonzero\" fill-opacity=\"1\" /><path clip-path=\"url(#clip800)\" d=\"M646.093 1481.64 L653.732 1481.64 L653.732 1455.28 L645.422 1456.95 L645.422 1452.69 L653.685 1451.02 L658.361 1451.02 L658.361 1481.64 L666 1481.64 L666 1485.58 L646.093 1485.58 L646.093 1481.64 Z\" fill=\"#000000\" fill-rule=\"nonzero\" fill-opacity=\"1\" /><path clip-path=\"url(#clip800)\" d=\"M1022.91 1454.1 Q1019.3 1454.1 1017.47 1457.66 Q1015.66 1461.2 1015.66 1468.33 Q1015.66 1475.44 1017.47 1479.01 Q1019.3 1482.55 1022.91 1482.55 Q1026.54 1482.55 1028.35 1479.01 Q1030.18 1475.44 1030.18 1468.33 Q1030.18 1461.2 1028.35 1457.66 Q1026.54 1454.1 1022.91 1454.1 M1022.91 1450.39 Q1028.72 1450.39 1031.78 1455 Q1034.85 1459.58 1034.85 1468.33 Q1034.85 1477.06 1031.78 1481.67 Q1028.72 1486.25 1022.91 1486.25 Q1017.1 1486.25 1014.02 1481.67 Q1010.97 1477.06 1010.97 1468.33 Q1010.97 1459.58 1014.02 1455 Q1017.1 1450.39 1022.91 1450.39 Z\" fill=\"#000000\" fill-rule=\"nonzero\" fill-opacity=\"1\" /><path clip-path=\"url(#clip800)\" d=\"M1043.07 1479.7 L1047.96 1479.7 L1047.96 1485.58 L1043.07 1485.58 L1043.07 1479.7 Z\" fill=\"#000000\" fill-rule=\"nonzero\" fill-opacity=\"1\" /><path clip-path=\"url(#clip800)\" d=\"M1062.17 1481.64 L1078.49 1481.64 L1078.49 1485.58 L1056.54 1485.58 L1056.54 1481.64 Q1059.21 1478.89 1063.79 1474.26 Q1068.4 1469.61 1069.58 1468.27 Q1071.82 1465.74 1072.7 1464.01 Q1073.6 1462.25 1073.6 1460.56 Q1073.6 1457.8 1071.66 1456.07 Q1069.74 1454.33 1066.64 1454.33 Q1064.44 1454.33 1061.98 1455.09 Q1059.55 1455.86 1056.78 1457.41 L1056.78 1452.69 Q1059.6 1451.55 1062.05 1450.97 Q1064.51 1450.39 1066.54 1450.39 Q1071.91 1450.39 1075.11 1453.08 Q1078.3 1455.77 1078.3 1460.26 Q1078.3 1462.39 1077.49 1464.31 Q1076.71 1466.2 1074.6 1468.8 Q1074.02 1469.47 1070.92 1472.69 Q1067.82 1475.88 1062.17 1481.64 Z\" fill=\"#000000\" fill-rule=\"nonzero\" fill-opacity=\"1\" /><path clip-path=\"url(#clip800)\" d=\"M1435.11 1454.1 Q1431.5 1454.1 1429.67 1457.66 Q1427.86 1461.2 1427.86 1468.33 Q1427.86 1475.44 1429.67 1479.01 Q1431.5 1482.55 1435.11 1482.55 Q1438.74 1482.55 1440.55 1479.01 Q1442.38 1475.44 1442.38 1468.33 Q1442.38 1461.2 1440.55 1457.66 Q1438.74 1454.1 1435.11 1454.1 M1435.11 1450.39 Q1440.92 1450.39 1443.97 1455 Q1447.05 1459.58 1447.05 1468.33 Q1447.05 1477.06 1443.97 1481.67 Q1440.92 1486.25 1435.11 1486.25 Q1429.3 1486.25 1426.22 1481.67 Q1423.16 1477.06 1423.16 1468.33 Q1423.16 1459.58 1426.22 1455 Q1429.3 1450.39 1435.11 1450.39 Z\" fill=\"#000000\" fill-rule=\"nonzero\" fill-opacity=\"1\" /><path clip-path=\"url(#clip800)\" d=\"M1455.27 1479.7 L1460.16 1479.7 L1460.16 1485.58 L1455.27 1485.58 L1455.27 1479.7 Z\" fill=\"#000000\" fill-rule=\"nonzero\" fill-opacity=\"1\" /><path clip-path=\"url(#clip800)\" d=\"M1484.51 1466.95 Q1487.86 1467.66 1489.74 1469.93 Q1491.64 1472.2 1491.64 1475.53 Q1491.64 1480.65 1488.12 1483.45 Q1484.6 1486.25 1478.12 1486.25 Q1475.94 1486.25 1473.63 1485.81 Q1471.34 1485.39 1468.88 1484.54 L1468.88 1480.02 Q1470.83 1481.16 1473.14 1481.74 Q1475.46 1482.32 1477.98 1482.32 Q1482.38 1482.32 1484.67 1480.58 Q1486.98 1478.84 1486.98 1475.53 Q1486.98 1472.48 1484.83 1470.77 Q1482.7 1469.03 1478.88 1469.03 L1474.85 1469.03 L1474.85 1465.19 L1479.07 1465.19 Q1482.52 1465.19 1484.34 1463.82 Q1486.17 1462.43 1486.17 1459.84 Q1486.17 1457.18 1484.28 1455.77 Q1482.4 1454.33 1478.88 1454.33 Q1476.96 1454.33 1474.76 1454.75 Q1472.56 1455.16 1469.92 1456.04 L1469.92 1451.88 Q1472.59 1451.14 1474.9 1450.77 Q1477.24 1450.39 1479.3 1450.39 Q1484.62 1450.39 1487.72 1452.83 Q1490.83 1455.23 1490.83 1459.35 Q1490.83 1462.22 1489.18 1464.21 Q1487.54 1466.18 1484.51 1466.95 Z\" fill=\"#000000\" fill-rule=\"nonzero\" fill-opacity=\"1\" /><path clip-path=\"url(#clip800)\" d=\"M1847.22 1454.1 Q1843.6 1454.1 1841.78 1457.66 Q1839.97 1461.2 1839.97 1468.33 Q1839.97 1475.44 1841.78 1479.01 Q1843.6 1482.55 1847.22 1482.55 Q1850.85 1482.55 1852.66 1479.01 Q1854.48 1475.44 1854.48 1468.33 Q1854.48 1461.2 1852.66 1457.66 Q1850.85 1454.1 1847.22 1454.1 M1847.22 1450.39 Q1853.03 1450.39 1856.08 1455 Q1859.16 1459.58 1859.16 1468.33 Q1859.16 1477.06 1856.08 1481.67 Q1853.03 1486.25 1847.22 1486.25 Q1841.41 1486.25 1838.33 1481.67 Q1835.27 1477.06 1835.27 1468.33 Q1835.27 1459.58 1838.33 1455 Q1841.41 1450.39 1847.22 1450.39 Z\" fill=\"#000000\" fill-rule=\"nonzero\" fill-opacity=\"1\" /><path clip-path=\"url(#clip800)\" d=\"M1867.38 1479.7 L1872.26 1479.7 L1872.26 1485.58 L1867.38 1485.58 L1867.38 1479.7 Z\" fill=\"#000000\" fill-rule=\"nonzero\" fill-opacity=\"1\" /><path clip-path=\"url(#clip800)\" d=\"M1895.29 1455.09 L1883.49 1473.54 L1895.29 1473.54 L1895.29 1455.09 M1894.07 1451.02 L1899.95 1451.02 L1899.95 1473.54 L1904.88 1473.54 L1904.88 1477.43 L1899.95 1477.43 L1899.95 1485.58 L1895.29 1485.58 L1895.29 1477.43 L1879.69 1477.43 L1879.69 1472.92 L1894.07 1451.02 Z\" fill=\"#000000\" fill-rule=\"nonzero\" fill-opacity=\"1\" /><path clip-path=\"url(#clip800)\" d=\"M2260.63 1454.1 Q2257.02 1454.1 2255.19 1457.66 Q2253.38 1461.2 2253.38 1468.33 Q2253.38 1475.44 2255.19 1479.01 Q2257.02 1482.55 2260.63 1482.55 Q2264.26 1482.55 2266.07 1479.01 Q2267.9 1475.44 2267.9 1468.33 Q2267.9 1461.2 2266.07 1457.66 Q2264.26 1454.1 2260.63 1454.1 M2260.63 1450.39 Q2266.44 1450.39 2269.5 1455 Q2272.57 1459.58 2272.57 1468.33 Q2272.57 1477.06 2269.5 1481.67 Q2266.44 1486.25 2260.63 1486.25 Q2254.82 1486.25 2251.74 1481.67 Q2248.69 1477.06 2248.69 1468.33 Q2248.69 1459.58 2251.74 1455 Q2254.82 1450.39 2260.63 1450.39 Z\" fill=\"#000000\" fill-rule=\"nonzero\" fill-opacity=\"1\" /><path clip-path=\"url(#clip800)\" d=\"M2280.79 1479.7 L2285.68 1479.7 L2285.68 1485.58 L2280.79 1485.58 L2280.79 1479.7 Z\" fill=\"#000000\" fill-rule=\"nonzero\" fill-opacity=\"1\" /><path clip-path=\"url(#clip800)\" d=\"M2295.91 1451.02 L2314.26 1451.02 L2314.26 1454.96 L2300.19 1454.96 L2300.19 1463.43 Q2301.21 1463.08 2302.23 1462.92 Q2303.25 1462.73 2304.26 1462.73 Q2310.05 1462.73 2313.43 1465.9 Q2316.81 1469.08 2316.81 1474.49 Q2316.81 1480.07 2313.34 1483.17 Q2309.87 1486.25 2303.55 1486.25 Q2301.37 1486.25 2299.1 1485.88 Q2296.86 1485.51 2294.45 1484.77 L2294.45 1480.07 Q2296.53 1481.2 2298.75 1481.76 Q2300.98 1482.32 2303.45 1482.32 Q2307.46 1482.32 2309.8 1480.21 Q2312.13 1478.1 2312.13 1474.49 Q2312.13 1470.88 2309.8 1468.77 Q2307.46 1466.67 2303.45 1466.67 Q2301.58 1466.67 2299.7 1467.08 Q2297.85 1467.5 2295.91 1468.38 L2295.91 1451.02 Z\" fill=\"#000000\" fill-rule=\"nonzero\" fill-opacity=\"1\" /><path clip-path=\"url(#clip800)\" d=\"M986.864 1525.81 L986.864 1543.66 L994.948 1543.66 Q999.436 1543.66 1001.89 1541.34 Q1004.34 1539.02 1004.34 1534.72 Q1004.34 1530.45 1001.89 1528.13 Q999.436 1525.81 994.948 1525.81 L986.864 1525.81 M980.435 1520.52 L994.948 1520.52 Q1002.94 1520.52 1007.01 1524.15 Q1011.12 1527.75 1011.12 1534.72 Q1011.12 1541.75 1007.01 1545.35 Q1002.94 1548.95 994.948 1548.95 L986.864 1548.95 L986.864 1568.04 L980.435 1568.04 L980.435 1520.52 Z\" fill=\"#000000\" fill-rule=\"nonzero\" fill-opacity=\"1\" /><path clip-path=\"url(#clip800)\" d=\"M1030.98 1536.5 Q1026.27 1536.5 1023.53 1540.19 Q1020.79 1543.85 1020.79 1550.25 Q1020.79 1556.65 1023.5 1560.34 Q1026.24 1564 1030.98 1564 Q1035.66 1564 1038.39 1560.31 Q1041.13 1556.62 1041.13 1550.25 Q1041.13 1543.92 1038.39 1540.23 Q1035.66 1536.5 1030.98 1536.5 M1030.98 1531.54 Q1038.62 1531.54 1042.98 1536.5 Q1047.34 1541.47 1047.34 1550.25 Q1047.34 1559 1042.98 1564 Q1038.62 1568.97 1030.98 1568.97 Q1023.31 1568.97 1018.95 1564 Q1014.62 1559 1014.62 1550.25 Q1014.62 1541.47 1018.95 1536.5 Q1023.31 1531.54 1030.98 1531.54 Z\" fill=\"#000000\" fill-rule=\"nonzero\" fill-opacity=\"1\" /><path clip-path=\"url(#clip800)\" d=\"M1077.7 1537.87 Q1076.72 1537.3 1075.54 1537.04 Q1074.39 1536.76 1072.99 1536.76 Q1068.03 1536.76 1065.35 1540 Q1062.71 1543.22 1062.71 1549.27 L1062.71 1568.04 L1056.82 1568.04 L1056.82 1532.4 L1062.71 1532.4 L1062.71 1537.93 Q1064.56 1534.69 1067.52 1533.13 Q1070.48 1531.54 1074.71 1531.54 Q1075.32 1531.54 1076.05 1531.63 Q1076.78 1531.7 1077.67 1531.85 L1077.7 1537.87 Z\" fill=\"#000000\" fill-rule=\"nonzero\" fill-opacity=\"1\" /><path clip-path=\"url(#clip800)\" d=\"M1089.64 1522.27 L1089.64 1532.4 L1101.7 1532.4 L1101.7 1536.95 L1089.64 1536.95 L1089.64 1556.3 Q1089.64 1560.66 1090.82 1561.9 Q1092.03 1563.14 1095.69 1563.14 L1101.7 1563.14 L1101.7 1568.04 L1095.69 1568.04 Q1088.91 1568.04 1086.33 1565.53 Q1083.75 1562.98 1083.75 1556.3 L1083.75 1536.95 L1079.45 1536.95 L1079.45 1532.4 L1083.75 1532.4 L1083.75 1522.27 L1089.64 1522.27 Z\" fill=\"#000000\" fill-rule=\"nonzero\" fill-opacity=\"1\" /><path clip-path=\"url(#clip800)\" d=\"M1127.45 1518.52 L1127.45 1523.39 L1121.85 1523.39 Q1118.7 1523.39 1117.46 1524.66 Q1116.25 1525.93 1116.25 1529.24 L1116.25 1532.4 L1125.89 1532.4 L1125.89 1536.95 L1116.25 1536.95 L1116.25 1568.04 L1110.36 1568.04 L1110.36 1536.95 L1104.76 1536.95 L1104.76 1532.4 L1110.36 1532.4 L1110.36 1529.91 Q1110.36 1523.96 1113.13 1521.26 Q1115.9 1518.52 1121.91 1518.52 L1127.45 1518.52 Z\" fill=\"#000000\" fill-rule=\"nonzero\" fill-opacity=\"1\" /><path clip-path=\"url(#clip800)\" d=\"M1146.17 1536.5 Q1141.46 1536.5 1138.72 1540.19 Q1135.98 1543.85 1135.98 1550.25 Q1135.98 1556.65 1138.69 1560.34 Q1141.42 1564 1146.17 1564 Q1150.84 1564 1153.58 1560.31 Q1156.32 1556.62 1156.32 1550.25 Q1156.32 1543.92 1153.58 1540.23 Q1150.84 1536.5 1146.17 1536.5 M1146.17 1531.54 Q1153.8 1531.54 1158.17 1536.5 Q1162.53 1541.47 1162.53 1550.25 Q1162.53 1559 1158.17 1564 Q1153.8 1568.97 1146.17 1568.97 Q1138.5 1568.97 1134.13 1564 Q1129.81 1559 1129.81 1550.25 Q1129.81 1541.47 1134.13 1536.5 Q1138.5 1531.54 1146.17 1531.54 Z\" fill=\"#000000\" fill-rule=\"nonzero\" fill-opacity=\"1\" /><path clip-path=\"url(#clip800)\" d=\"M1172.23 1518.52 L1178.09 1518.52 L1178.09 1568.04 L1172.23 1568.04 L1172.23 1518.52 Z\" fill=\"#000000\" fill-rule=\"nonzero\" fill-opacity=\"1\" /><path clip-path=\"url(#clip800)\" d=\"M1190.34 1532.4 L1196.2 1532.4 L1196.2 1568.04 L1190.34 1568.04 L1190.34 1532.4 M1190.34 1518.52 L1196.2 1518.52 L1196.2 1525.93 L1190.34 1525.93 L1190.34 1518.52 Z\" fill=\"#000000\" fill-rule=\"nonzero\" fill-opacity=\"1\" /><path clip-path=\"url(#clip800)\" d=\"M1222.27 1536.5 Q1217.56 1536.5 1214.82 1540.19 Q1212.08 1543.85 1212.08 1550.25 Q1212.08 1556.65 1214.79 1560.34 Q1217.53 1564 1222.27 1564 Q1226.95 1564 1229.68 1560.31 Q1232.42 1556.62 1232.42 1550.25 Q1232.42 1543.92 1229.68 1540.23 Q1226.95 1536.5 1222.27 1536.5 M1222.27 1531.54 Q1229.91 1531.54 1234.27 1536.5 Q1238.63 1541.47 1238.63 1550.25 Q1238.63 1559 1234.27 1564 Q1229.91 1568.97 1222.27 1568.97 Q1214.6 1568.97 1210.24 1564 Q1205.91 1559 1205.91 1550.25 Q1205.91 1541.47 1210.24 1536.5 Q1214.6 1531.54 1222.27 1531.54 Z\" fill=\"#000000\" fill-rule=\"nonzero\" fill-opacity=\"1\" /><path clip-path=\"url(#clip800)\" d=\"M1291.84 1545.76 Q1293.91 1546.46 1295.86 1548.76 Q1297.83 1551.05 1299.8 1555.06 L1306.33 1568.04 L1299.42 1568.04 L1293.34 1555.85 Q1290.99 1551.08 1288.76 1549.52 Q1286.56 1547.96 1282.74 1547.96 L1275.74 1547.96 L1275.74 1568.04 L1269.31 1568.04 L1269.31 1520.52 L1283.82 1520.52 Q1291.97 1520.52 1295.98 1523.93 Q1299.99 1527.34 1299.99 1534.21 Q1299.99 1538.7 1297.89 1541.66 Q1295.82 1544.62 1291.84 1545.76 M1275.74 1525.81 L1275.74 1542.68 L1283.82 1542.68 Q1288.47 1542.68 1290.83 1540.54 Q1293.21 1538.38 1293.21 1534.21 Q1293.21 1530.04 1290.83 1527.94 Q1288.47 1525.81 1283.82 1525.81 L1275.74 1525.81 Z\" fill=\"#000000\" fill-rule=\"nonzero\" fill-opacity=\"1\" /><path clip-path=\"url(#clip800)\" d=\"M1314.35 1532.4 L1320.2 1532.4 L1320.2 1568.04 L1314.35 1568.04 L1314.35 1532.4 M1314.35 1518.52 L1320.2 1518.52 L1320.2 1525.93 L1314.35 1525.93 L1314.35 1518.52 Z\" fill=\"#000000\" fill-rule=\"nonzero\" fill-opacity=\"1\" /><path clip-path=\"url(#clip800)\" d=\"M1355.18 1533.45 L1355.18 1538.98 Q1352.7 1537.71 1350.03 1537.07 Q1347.35 1536.44 1344.49 1536.44 Q1340.13 1536.44 1337.93 1537.77 Q1335.77 1539.11 1335.77 1541.79 Q1335.77 1543.82 1337.33 1545 Q1338.89 1546.15 1343.6 1547.2 L1345.6 1547.64 Q1351.84 1548.98 1354.45 1551.43 Q1357.09 1553.85 1357.09 1558.21 Q1357.09 1563.17 1353.15 1566.07 Q1349.23 1568.97 1342.36 1568.97 Q1339.49 1568.97 1336.37 1568.39 Q1333.29 1567.85 1329.85 1566.74 L1329.85 1560.69 Q1333.09 1562.38 1336.25 1563.24 Q1339.4 1564.07 1342.48 1564.07 Q1346.62 1564.07 1348.85 1562.66 Q1351.08 1561.23 1351.08 1558.65 Q1351.08 1556.27 1349.45 1554.99 Q1347.86 1553.72 1342.42 1552.54 L1340.38 1552.07 Q1334.94 1550.92 1332.52 1548.56 Q1330.1 1546.18 1330.1 1542.04 Q1330.1 1537.01 1333.67 1534.27 Q1337.23 1531.54 1343.79 1531.54 Q1347.04 1531.54 1349.9 1532.01 Q1352.76 1532.49 1355.18 1533.45 Z\" fill=\"#000000\" fill-rule=\"nonzero\" fill-opacity=\"1\" /><path clip-path=\"url(#clip800)\" d=\"M1366.2 1518.52 L1372.08 1518.52 L1372.08 1547.77 L1389.56 1532.4 L1397.04 1532.4 L1378.13 1549.07 L1397.83 1568.04 L1390.2 1568.04 L1372.08 1550.63 L1372.08 1568.04 L1366.2 1568.04 L1366.2 1518.52 Z\" fill=\"#000000\" fill-rule=\"nonzero\" fill-opacity=\"1\" /><path clip-path=\"url(#clip800)\" d=\"M1438.96 1518.58 Q1434.69 1525.9 1432.62 1533.06 Q1430.55 1540.23 1430.55 1547.58 Q1430.55 1554.93 1432.62 1562.16 Q1434.72 1569.35 1438.96 1576.64 L1433.86 1576.64 Q1429.09 1569.16 1426.7 1561.93 Q1424.35 1554.71 1424.35 1547.58 Q1424.35 1540.48 1426.7 1533.29 Q1429.06 1526.09 1433.86 1518.58 L1438.96 1518.58 Z\" fill=\"#000000\" fill-rule=\"nonzero\" fill-opacity=\"1\" /><path clip-path=\"url(#clip800)\" d=\"M1473.04 1533.45 L1473.04 1538.98 Q1470.56 1537.71 1467.89 1537.07 Q1465.21 1536.44 1462.35 1536.44 Q1457.99 1536.44 1455.79 1537.77 Q1453.63 1539.11 1453.63 1541.79 Q1453.63 1543.82 1455.19 1545 Q1456.75 1546.15 1461.46 1547.2 L1463.46 1547.64 Q1469.7 1548.98 1472.31 1551.43 Q1474.95 1553.85 1474.95 1558.21 Q1474.95 1563.17 1471.01 1566.07 Q1467.09 1568.97 1460.22 1568.97 Q1457.35 1568.97 1454.23 1568.39 Q1451.15 1567.85 1447.71 1566.74 L1447.71 1560.69 Q1450.96 1562.38 1454.11 1563.24 Q1457.26 1564.07 1460.35 1564.07 Q1464.48 1564.07 1466.71 1562.66 Q1468.94 1561.23 1468.94 1558.65 Q1468.94 1556.27 1467.32 1554.99 Q1465.72 1553.72 1460.28 1552.54 L1458.24 1552.07 Q1452.8 1550.92 1450.38 1548.56 Q1447.96 1546.18 1447.96 1542.04 Q1447.96 1537.01 1451.53 1534.27 Q1455.09 1531.54 1461.65 1531.54 Q1464.9 1531.54 1467.76 1532.01 Q1470.63 1532.49 1473.04 1533.45 Z\" fill=\"#000000\" fill-rule=\"nonzero\" fill-opacity=\"1\" /><path clip-path=\"url(#clip800)\" d=\"M1487.78 1550.25 Q1487.78 1556.71 1490.42 1560.4 Q1493.1 1564.07 1497.74 1564.07 Q1502.39 1564.07 1505.06 1560.4 Q1507.74 1556.71 1507.74 1550.25 Q1507.74 1543.79 1505.06 1540.13 Q1502.39 1536.44 1497.74 1536.44 Q1493.1 1536.44 1490.42 1540.13 Q1487.78 1543.79 1487.78 1550.25 M1507.74 1562.7 Q1505.89 1565.88 1503.06 1567.44 Q1500.26 1568.97 1496.31 1568.97 Q1489.85 1568.97 1485.78 1563.81 Q1481.73 1558.65 1481.73 1550.25 Q1481.73 1541.85 1485.78 1536.69 Q1489.85 1531.54 1496.31 1531.54 Q1500.26 1531.54 1503.06 1533.1 Q1505.89 1534.62 1507.74 1537.81 L1507.74 1532.4 L1513.59 1532.4 L1513.59 1581.6 L1507.74 1581.6 L1507.74 1562.7 Z\" fill=\"#000000\" fill-rule=\"nonzero\" fill-opacity=\"1\" /><path clip-path=\"url(#clip800)\" d=\"M1546.31 1537.87 Q1545.33 1537.3 1544.15 1537.04 Q1543 1536.76 1541.6 1536.76 Q1536.64 1536.76 1533.96 1540 Q1531.32 1543.22 1531.32 1549.27 L1531.32 1568.04 L1525.43 1568.04 L1525.43 1532.4 L1531.32 1532.4 L1531.32 1537.93 Q1533.17 1534.69 1536.13 1533.13 Q1539.09 1531.54 1543.32 1531.54 Q1543.93 1531.54 1544.66 1531.63 Q1545.39 1531.7 1546.28 1531.85 L1546.31 1537.87 Z\" fill=\"#000000\" fill-rule=\"nonzero\" fill-opacity=\"1\" /><path clip-path=\"url(#clip800)\" d=\"M1558.25 1522.27 L1558.25 1532.4 L1570.31 1532.4 L1570.31 1536.95 L1558.25 1536.95 L1558.25 1556.3 Q1558.25 1560.66 1559.43 1561.9 Q1560.64 1563.14 1564.3 1563.14 L1570.31 1563.14 L1570.31 1568.04 L1564.3 1568.04 Q1557.52 1568.04 1554.94 1565.53 Q1552.36 1562.98 1552.36 1556.3 L1552.36 1536.95 L1548.06 1536.95 L1548.06 1532.4 L1552.36 1532.4 L1552.36 1522.27 L1558.25 1522.27 Z\" fill=\"#000000\" fill-rule=\"nonzero\" fill-opacity=\"1\" /><path clip-path=\"url(#clip800)\" d=\"M1577.09 1518.58 L1582.18 1518.58 Q1586.96 1526.09 1589.31 1533.29 Q1591.7 1540.48 1591.7 1547.58 Q1591.7 1554.71 1589.31 1561.93 Q1586.96 1569.16 1582.18 1576.64 L1577.09 1576.64 Q1581.33 1569.35 1583.39 1562.16 Q1585.49 1554.93 1585.49 1547.58 Q1585.49 1540.23 1583.39 1533.06 Q1581.33 1525.9 1577.09 1518.58 Z\" fill=\"#000000\" fill-rule=\"nonzero\" fill-opacity=\"1\" /><polyline clip-path=\"url(#clip800)\" style=\"stroke:#000000; stroke-linecap:round; stroke-linejoin:round; stroke-width:4; stroke-opacity:1; fill:none\" points=\"219.38,1423.18 219.38,47.2441 \"/>\n",
       "<polyline clip-path=\"url(#clip800)\" style=\"stroke:#000000; stroke-linecap:round; stroke-linejoin:round; stroke-width:4; stroke-opacity:1; fill:none\" points=\"2352.76,1423.18 2352.76,47.2441 \"/>\n",
       "<polyline clip-path=\"url(#clip800)\" style=\"stroke:#000000; stroke-linecap:round; stroke-linejoin:round; stroke-width:4; stroke-opacity:1; fill:none\" points=\"219.38,1384.24 238.278,1384.24 \"/>\n",
       "<polyline clip-path=\"url(#clip800)\" style=\"stroke:#000000; stroke-linecap:round; stroke-linejoin:round; stroke-width:4; stroke-opacity:1; fill:none\" points=\"219.38,1043.6 238.278,1043.6 \"/>\n",
       "<polyline clip-path=\"url(#clip800)\" style=\"stroke:#000000; stroke-linecap:round; stroke-linejoin:round; stroke-width:4; stroke-opacity:1; fill:none\" points=\"219.38,702.955 238.278,702.955 \"/>\n",
       "<polyline clip-path=\"url(#clip800)\" style=\"stroke:#000000; stroke-linecap:round; stroke-linejoin:round; stroke-width:4; stroke-opacity:1; fill:none\" points=\"219.38,362.314 238.278,362.314 \"/>\n",
       "<polyline clip-path=\"url(#clip800)\" style=\"stroke:#000000; stroke-linecap:round; stroke-linejoin:round; stroke-width:4; stroke-opacity:1; fill:none\" points=\"2352.76,1384.24 2333.86,1384.24 \"/>\n",
       "<polyline clip-path=\"url(#clip800)\" style=\"stroke:#000000; stroke-linecap:round; stroke-linejoin:round; stroke-width:4; stroke-opacity:1; fill:none\" points=\"2352.76,1043.6 2333.86,1043.6 \"/>\n",
       "<polyline clip-path=\"url(#clip800)\" style=\"stroke:#000000; stroke-linecap:round; stroke-linejoin:round; stroke-width:4; stroke-opacity:1; fill:none\" points=\"2352.76,702.955 2333.86,702.955 \"/>\n",
       "<polyline clip-path=\"url(#clip800)\" style=\"stroke:#000000; stroke-linecap:round; stroke-linejoin:round; stroke-width:4; stroke-opacity:1; fill:none\" points=\"2352.76,362.314 2333.86,362.314 \"/>\n",
       "<path clip-path=\"url(#clip800)\" d=\"M126.205 1370.04 Q122.593 1370.04 120.765 1373.6 Q118.959 1377.14 118.959 1384.27 Q118.959 1391.38 120.765 1394.94 Q122.593 1398.49 126.205 1398.49 Q129.839 1398.49 131.644 1394.94 Q133.473 1391.38 133.473 1384.27 Q133.473 1377.14 131.644 1373.6 Q129.839 1370.04 126.205 1370.04 M126.205 1366.33 Q132.015 1366.33 135.07 1370.94 Q138.149 1375.52 138.149 1384.27 Q138.149 1393 135.07 1397.61 Q132.015 1402.19 126.205 1402.19 Q120.394 1402.19 117.316 1397.61 Q114.26 1393 114.26 1384.27 Q114.26 1375.52 117.316 1370.94 Q120.394 1366.33 126.205 1366.33 Z\" fill=\"#000000\" fill-rule=\"nonzero\" fill-opacity=\"1\" /><path clip-path=\"url(#clip800)\" d=\"M146.366 1395.64 L151.251 1395.64 L151.251 1401.52 L146.366 1401.52 L146.366 1395.64 Z\" fill=\"#000000\" fill-rule=\"nonzero\" fill-opacity=\"1\" /><path clip-path=\"url(#clip800)\" d=\"M171.436 1370.04 Q167.825 1370.04 165.996 1373.6 Q164.19 1377.14 164.19 1384.27 Q164.19 1391.38 165.996 1394.94 Q167.825 1398.49 171.436 1398.49 Q175.07 1398.49 176.876 1394.94 Q178.704 1391.38 178.704 1384.27 Q178.704 1377.14 176.876 1373.6 Q175.07 1370.04 171.436 1370.04 M171.436 1366.33 Q177.246 1366.33 180.301 1370.94 Q183.38 1375.52 183.38 1384.27 Q183.38 1393 180.301 1397.61 Q177.246 1402.19 171.436 1402.19 Q165.626 1402.19 162.547 1397.61 Q159.491 1393 159.491 1384.27 Q159.491 1375.52 162.547 1370.94 Q165.626 1366.33 171.436 1366.33 Z\" fill=\"#000000\" fill-rule=\"nonzero\" fill-opacity=\"1\" /><path clip-path=\"url(#clip800)\" d=\"M127.431 1029.4 Q123.82 1029.4 121.992 1032.96 Q120.186 1036.5 120.186 1043.63 Q120.186 1050.74 121.992 1054.3 Q123.82 1057.84 127.431 1057.84 Q131.066 1057.84 132.871 1054.3 Q134.7 1050.74 134.7 1043.63 Q134.7 1036.5 132.871 1032.96 Q131.066 1029.4 127.431 1029.4 M127.431 1025.69 Q133.242 1025.69 136.297 1030.3 Q139.376 1034.88 139.376 1043.63 Q139.376 1052.36 136.297 1056.96 Q133.242 1061.55 127.431 1061.55 Q121.621 1061.55 118.543 1056.96 Q115.487 1052.36 115.487 1043.63 Q115.487 1034.88 118.543 1030.3 Q121.621 1025.69 127.431 1025.69 Z\" fill=\"#000000\" fill-rule=\"nonzero\" fill-opacity=\"1\" /><path clip-path=\"url(#clip800)\" d=\"M147.593 1055 L152.478 1055 L152.478 1060.88 L147.593 1060.88 L147.593 1055 Z\" fill=\"#000000\" fill-rule=\"nonzero\" fill-opacity=\"1\" /><path clip-path=\"url(#clip800)\" d=\"M163.473 1056.94 L171.112 1056.94 L171.112 1030.58 L162.802 1032.24 L162.802 1027.98 L171.065 1026.32 L175.741 1026.32 L175.741 1056.94 L183.38 1056.94 L183.38 1060.88 L163.473 1060.88 L163.473 1056.94 Z\" fill=\"#000000\" fill-rule=\"nonzero\" fill-opacity=\"1\" /><path clip-path=\"url(#clip800)\" d=\"M127.802 688.754 Q124.191 688.754 122.362 692.319 Q120.556 695.86 120.556 702.99 Q120.556 710.096 122.362 713.661 Q124.191 717.203 127.802 717.203 Q131.436 717.203 133.242 713.661 Q135.07 710.096 135.07 702.99 Q135.07 695.86 133.242 692.319 Q131.436 688.754 127.802 688.754 M127.802 685.05 Q133.612 685.05 136.667 689.657 Q139.746 694.24 139.746 702.99 Q139.746 711.717 136.667 716.323 Q133.612 720.907 127.802 720.907 Q121.992 720.907 118.913 716.323 Q115.857 711.717 115.857 702.99 Q115.857 694.24 118.913 689.657 Q121.992 685.05 127.802 685.05 Z\" fill=\"#000000\" fill-rule=\"nonzero\" fill-opacity=\"1\" /><path clip-path=\"url(#clip800)\" d=\"M147.964 714.356 L152.848 714.356 L152.848 720.235 L147.964 720.235 L147.964 714.356 Z\" fill=\"#000000\" fill-rule=\"nonzero\" fill-opacity=\"1\" /><path clip-path=\"url(#clip800)\" d=\"M167.061 716.3 L183.38 716.3 L183.38 720.235 L161.436 720.235 L161.436 716.3 Q164.098 713.546 168.681 708.916 Q173.288 704.263 174.468 702.921 Q176.714 700.397 177.593 698.661 Q178.496 696.902 178.496 695.212 Q178.496 692.458 176.551 690.722 Q174.63 688.985 171.528 688.985 Q169.329 688.985 166.876 689.749 Q164.445 690.513 161.667 692.064 L161.667 687.342 Q164.491 686.208 166.945 685.629 Q169.399 685.05 171.436 685.05 Q176.806 685.05 180.001 687.735 Q183.195 690.421 183.195 694.911 Q183.195 697.041 182.385 698.962 Q181.598 700.86 179.491 703.453 Q178.913 704.124 175.811 707.342 Q172.709 710.536 167.061 716.3 Z\" fill=\"#000000\" fill-rule=\"nonzero\" fill-opacity=\"1\" /><path clip-path=\"url(#clip800)\" d=\"M126.853 348.112 Q123.242 348.112 121.413 351.677 Q119.607 355.219 119.607 362.349 Q119.607 369.455 121.413 373.02 Q123.242 376.561 126.853 376.561 Q130.487 376.561 132.292 373.02 Q134.121 369.455 134.121 362.349 Q134.121 355.219 132.292 351.677 Q130.487 348.112 126.853 348.112 M126.853 344.409 Q132.663 344.409 135.718 349.015 Q138.797 353.599 138.797 362.349 Q138.797 371.075 135.718 375.682 Q132.663 380.265 126.853 380.265 Q121.043 380.265 117.964 375.682 Q114.908 371.075 114.908 362.349 Q114.908 353.599 117.964 349.015 Q121.043 344.409 126.853 344.409 Z\" fill=\"#000000\" fill-rule=\"nonzero\" fill-opacity=\"1\" /><path clip-path=\"url(#clip800)\" d=\"M147.015 373.714 L151.899 373.714 L151.899 379.594 L147.015 379.594 L147.015 373.714 Z\" fill=\"#000000\" fill-rule=\"nonzero\" fill-opacity=\"1\" /><path clip-path=\"url(#clip800)\" d=\"M176.251 360.96 Q179.607 361.677 181.482 363.946 Q183.38 366.214 183.38 369.548 Q183.38 374.663 179.862 377.464 Q176.343 380.265 169.862 380.265 Q167.686 380.265 165.371 379.825 Q163.079 379.409 160.626 378.552 L160.626 374.038 Q162.57 375.173 164.885 375.751 Q167.2 376.33 169.723 376.33 Q174.121 376.33 176.413 374.594 Q178.727 372.858 178.727 369.548 Q178.727 366.492 176.575 364.779 Q174.445 363.043 170.626 363.043 L166.598 363.043 L166.598 359.2 L170.811 359.2 Q174.26 359.2 176.089 357.835 Q177.917 356.446 177.917 353.853 Q177.917 351.191 176.019 349.779 Q174.144 348.344 170.626 348.344 Q168.704 348.344 166.505 348.761 Q164.306 349.177 161.667 350.057 L161.667 345.89 Q164.329 345.15 166.644 344.779 Q168.982 344.409 171.042 344.409 Q176.366 344.409 179.468 346.839 Q182.57 349.247 182.57 353.367 Q182.57 356.237 180.926 358.228 Q179.283 360.196 176.251 360.96 Z\" fill=\"#000000\" fill-rule=\"nonzero\" fill-opacity=\"1\" /><path clip-path=\"url(#clip800)\" d=\"M21.7677 1277.87 L39.6235 1277.87 L39.6235 1269.79 Q39.6235 1265.3 37.3 1262.85 Q34.9765 1260.4 30.6797 1260.4 Q26.4147 1260.4 24.0912 1262.85 Q21.7677 1265.3 21.7677 1269.79 L21.7677 1277.87 M16.4842 1284.3 L16.4842 1269.79 Q16.4842 1261.8 20.1126 1257.73 Q23.7092 1253.62 30.6797 1253.62 Q37.7138 1253.62 41.3104 1257.73 Q44.907 1261.8 44.907 1269.79 L44.907 1277.87 L64.0042 1277.87 L64.0042 1284.3 L16.4842 1284.3 Z\" fill=\"#000000\" fill-rule=\"nonzero\" fill-opacity=\"1\" /><path clip-path=\"url(#clip800)\" d=\"M32.4621 1233.76 Q32.4621 1238.47 36.1542 1241.21 Q39.8145 1243.94 46.212 1243.94 Q52.6095 1243.94 56.3017 1241.24 Q59.9619 1238.5 59.9619 1233.76 Q59.9619 1229.08 56.2698 1226.34 Q52.5777 1223.6 46.212 1223.6 Q39.8781 1223.6 36.186 1226.34 Q32.4621 1229.08 32.4621 1233.76 M27.4968 1233.76 Q27.4968 1226.12 32.4621 1221.76 Q37.4273 1217.4 46.212 1217.4 Q54.9649 1217.4 59.9619 1221.76 Q64.9272 1226.12 64.9272 1233.76 Q64.9272 1241.43 59.9619 1245.79 Q54.9649 1250.12 46.212 1250.12 Q37.4273 1250.12 32.4621 1245.79 Q27.4968 1241.43 27.4968 1233.76 Z\" fill=\"#000000\" fill-rule=\"nonzero\" fill-opacity=\"1\" /><path clip-path=\"url(#clip800)\" d=\"M33.8307 1187.03 Q33.2578 1188.02 33.0032 1189.2 Q32.7167 1190.34 32.7167 1191.74 Q32.7167 1196.71 35.9632 1199.38 Q39.1779 1202.03 45.2253 1202.03 L64.0042 1202.03 L64.0042 1207.91 L28.3562 1207.91 L28.3562 1202.03 L33.8944 1202.03 Q30.6479 1200.18 29.0883 1197.22 Q27.4968 1194.26 27.4968 1190.03 Q27.4968 1189.42 27.5923 1188.69 Q27.656 1187.96 27.8151 1187.07 L33.8307 1187.03 Z\" fill=\"#000000\" fill-rule=\"nonzero\" fill-opacity=\"1\" /><path clip-path=\"url(#clip800)\" d=\"M18.2347 1175.1 L28.3562 1175.1 L28.3562 1163.04 L32.9077 1163.04 L32.9077 1175.1 L52.2594 1175.1 Q56.6199 1175.1 57.8613 1173.92 Q59.1026 1172.71 59.1026 1169.05 L59.1026 1163.04 L64.0042 1163.04 L64.0042 1169.05 Q64.0042 1175.83 61.4897 1178.41 Q58.9434 1180.99 52.2594 1180.99 L32.9077 1180.99 L32.9077 1185.28 L28.3562 1185.28 L28.3562 1180.99 L18.2347 1180.99 L18.2347 1175.1 Z\" fill=\"#000000\" fill-rule=\"nonzero\" fill-opacity=\"1\" /><path clip-path=\"url(#clip800)\" d=\"M14.479 1137.29 L19.3487 1137.29 L19.3487 1142.89 Q19.3487 1146.04 20.6219 1147.28 Q21.895 1148.49 25.2052 1148.49 L28.3562 1148.49 L28.3562 1138.85 L32.9077 1138.85 L32.9077 1148.49 L64.0042 1148.49 L64.0042 1154.38 L32.9077 1154.38 L32.9077 1159.98 L28.3562 1159.98 L28.3562 1154.38 L25.8736 1154.38 Q19.9216 1154.38 17.2162 1151.61 Q14.479 1148.84 14.479 1142.82 L14.479 1137.29 Z\" fill=\"#000000\" fill-rule=\"nonzero\" fill-opacity=\"1\" /><path clip-path=\"url(#clip800)\" d=\"M32.4621 1118.57 Q32.4621 1123.28 36.1542 1126.02 Q39.8145 1128.76 46.212 1128.76 Q52.6095 1128.76 56.3017 1126.05 Q59.9619 1123.31 59.9619 1118.57 Q59.9619 1113.89 56.2698 1111.15 Q52.5777 1108.42 46.212 1108.42 Q39.8781 1108.42 36.186 1111.15 Q32.4621 1113.89 32.4621 1118.57 M27.4968 1118.57 Q27.4968 1110.93 32.4621 1106.57 Q37.4273 1102.21 46.212 1102.21 Q54.9649 1102.21 59.9619 1106.57 Q64.9272 1110.93 64.9272 1118.57 Q64.9272 1126.24 59.9619 1130.6 Q54.9649 1134.93 46.212 1134.93 Q37.4273 1134.93 32.4621 1130.6 Q27.4968 1126.24 27.4968 1118.57 Z\" fill=\"#000000\" fill-rule=\"nonzero\" fill-opacity=\"1\" /><path clip-path=\"url(#clip800)\" d=\"M14.479 1092.5 L14.479 1086.65 L64.0042 1086.65 L64.0042 1092.5 L14.479 1092.5 Z\" fill=\"#000000\" fill-rule=\"nonzero\" fill-opacity=\"1\" /><path clip-path=\"url(#clip800)\" d=\"M28.3562 1074.39 L28.3562 1068.54 L64.0042 1068.54 L64.0042 1074.39 L28.3562 1074.39 M14.479 1074.39 L14.479 1068.54 L21.895 1068.54 L21.895 1074.39 L14.479 1074.39 Z\" fill=\"#000000\" fill-rule=\"nonzero\" fill-opacity=\"1\" /><path clip-path=\"url(#clip800)\" d=\"M32.4621 1042.47 Q32.4621 1047.18 36.1542 1049.92 Q39.8145 1052.65 46.212 1052.65 Q52.6095 1052.65 56.3017 1049.95 Q59.9619 1047.21 59.9619 1042.47 Q59.9619 1037.79 56.2698 1035.05 Q52.5777 1032.32 46.212 1032.32 Q39.8781 1032.32 36.186 1035.05 Q32.4621 1037.79 32.4621 1042.47 M27.4968 1042.47 Q27.4968 1034.83 32.4621 1030.47 Q37.4273 1026.11 46.212 1026.11 Q54.9649 1026.11 59.9619 1030.47 Q64.9272 1034.83 64.9272 1042.47 Q64.9272 1050.14 59.9619 1054.5 Q54.9649 1058.83 46.212 1058.83 Q37.4273 1058.83 32.4621 1054.5 Q27.4968 1050.14 27.4968 1042.47 Z\" fill=\"#000000\" fill-rule=\"nonzero\" fill-opacity=\"1\" /><path clip-path=\"url(#clip800)\" d=\"M44.7161 965.189 L47.5806 965.189 L47.5806 992.116 Q53.6281 991.734 56.8109 988.488 Q59.9619 985.209 59.9619 979.385 Q59.9619 976.011 59.1344 972.86 Q58.3069 969.677 56.6518 966.558 L62.1899 966.558 Q63.5267 969.709 64.227 973.019 Q64.9272 976.329 64.9272 979.735 Q64.9272 988.265 59.9619 993.262 Q54.9967 998.227 46.5303 998.227 Q37.7774 998.227 32.6531 993.516 Q27.4968 988.774 27.4968 980.753 Q27.4968 973.56 32.1438 969.39 Q36.7589 965.189 44.7161 965.189 M42.9973 971.045 Q38.1912 971.109 35.3266 973.751 Q32.4621 976.361 32.4621 980.69 Q32.4621 985.591 35.2312 988.551 Q38.0002 991.479 43.0292 991.925 L42.9973 971.045 Z\" fill=\"#000000\" fill-rule=\"nonzero\" fill-opacity=\"1\" /><path clip-path=\"url(#clip800)\" d=\"M28.3562 927.09 L45.7028 939.981 L64.0042 926.422 L64.0042 933.329 L49.9996 943.705 L64.0042 954.081 L64.0042 960.988 L45.3526 947.142 L28.3562 959.81 L28.3562 952.903 L41.0558 943.45 L28.3562 933.997 L28.3562 927.09 Z\" fill=\"#000000\" fill-rule=\"nonzero\" fill-opacity=\"1\" /><path clip-path=\"url(#clip800)\" d=\"M29.7248 893.638 L35.1993 893.638 Q33.8307 896.121 33.1623 898.636 Q32.4621 901.118 32.4621 903.664 Q32.4621 909.362 36.0905 912.513 Q39.6872 915.664 46.212 915.664 Q52.7369 915.664 56.3653 912.513 Q59.9619 909.362 59.9619 903.664 Q59.9619 901.118 59.2935 898.636 Q58.5933 896.121 57.2247 893.638 L62.6355 893.638 Q63.7814 896.089 64.3543 898.731 Q64.9272 901.341 64.9272 904.301 Q64.9272 912.354 59.8664 917.096 Q54.8057 921.839 46.212 921.839 Q37.491 921.839 32.4939 917.064 Q27.4968 912.258 27.4968 903.919 Q27.4968 901.214 28.0697 898.636 Q28.6108 896.057 29.7248 893.638 Z\" fill=\"#000000\" fill-rule=\"nonzero\" fill-opacity=\"1\" /><path clip-path=\"url(#clip800)\" d=\"M44.7161 852.962 L47.5806 852.962 L47.5806 879.889 Q53.6281 879.507 56.8109 876.26 Q59.9619 872.982 59.9619 867.157 Q59.9619 863.783 59.1344 860.632 Q58.3069 857.449 56.6518 854.33 L62.1899 854.33 Q63.5267 857.481 64.227 860.791 Q64.9272 864.102 64.9272 867.507 Q64.9272 876.037 59.9619 881.034 Q54.9967 886 46.5303 886 Q37.7774 886 32.6531 881.289 Q27.4968 876.547 27.4968 868.526 Q27.4968 861.333 32.1438 857.163 Q36.7589 852.962 44.7161 852.962 M42.9973 858.818 Q38.1912 858.882 35.3266 861.524 Q32.4621 864.133 32.4621 868.462 Q32.4621 873.364 35.2312 876.324 Q38.0002 879.252 43.0292 879.698 L42.9973 858.818 Z\" fill=\"#000000\" fill-rule=\"nonzero\" fill-opacity=\"1\" /><path clip-path=\"url(#clip800)\" d=\"M29.4065 820.624 L34.9447 820.624 Q33.6716 823.106 33.035 825.78 Q32.3984 828.454 32.3984 831.318 Q32.3984 835.679 33.7352 837.875 Q35.072 840.039 37.7456 840.039 Q39.7826 840.039 40.9603 838.48 Q42.1061 836.92 43.1565 832.209 L43.6021 830.204 Q44.9389 823.966 47.3897 821.356 Q49.8086 818.714 54.1691 818.714 Q59.1344 818.714 62.0308 822.661 Q64.9272 826.576 64.9272 833.451 Q64.9272 836.315 64.3543 839.435 Q63.8132 842.522 62.6992 845.959 L56.6518 845.959 Q58.3387 842.713 59.198 839.562 Q60.0256 836.411 60.0256 833.323 Q60.0256 829.186 58.6251 826.958 Q57.1929 824.73 54.6147 824.73 Q52.2276 824.73 50.9545 826.353 Q49.6813 827.944 48.5037 833.387 L48.0262 835.424 Q46.8804 840.867 44.5251 843.286 Q42.138 845.705 38.0002 845.705 Q32.9713 845.705 30.2341 842.14 Q27.4968 838.575 27.4968 832.018 Q27.4968 828.772 27.9743 825.907 Q28.4517 823.043 29.4065 820.624 Z\" fill=\"#000000\" fill-rule=\"nonzero\" fill-opacity=\"1\" /><path clip-path=\"url(#clip800)\" d=\"M29.4065 786.663 L34.9447 786.663 Q33.6716 789.145 33.035 791.819 Q32.3984 794.493 32.3984 797.357 Q32.3984 801.718 33.7352 803.914 Q35.072 806.078 37.7456 806.078 Q39.7826 806.078 40.9603 804.519 Q42.1061 802.959 43.1565 798.248 L43.6021 796.243 Q44.9389 790.005 47.3897 787.395 Q49.8086 784.753 54.1691 784.753 Q59.1344 784.753 62.0308 788.7 Q64.9272 792.615 64.9272 799.49 Q64.9272 802.354 64.3543 805.473 Q63.8132 808.561 62.6992 811.998 L56.6518 811.998 Q58.3387 808.752 59.198 805.601 Q60.0256 802.45 60.0256 799.362 Q60.0256 795.225 58.6251 792.997 Q57.1929 790.769 54.6147 790.769 Q52.2276 790.769 50.9545 792.392 Q49.6813 793.983 48.5037 799.426 L48.0262 801.463 Q46.8804 806.906 44.5251 809.325 Q42.138 811.744 38.0002 811.744 Q32.9713 811.744 30.2341 808.179 Q27.4968 804.614 27.4968 798.057 Q27.4968 794.811 27.9743 791.946 Q28.4517 789.082 29.4065 786.663 Z\" fill=\"#000000\" fill-rule=\"nonzero\" fill-opacity=\"1\" /><path clip-path=\"url(#clip800)\" d=\"M45.7664 731.249 Q39.4007 731.249 35.8996 733.891 Q32.3984 736.501 32.3984 741.243 Q32.3984 745.954 35.8996 748.596 Q39.4007 751.206 45.7664 751.206 Q52.1003 751.206 55.6014 748.596 Q59.1026 745.954 59.1026 741.243 Q59.1026 736.501 55.6014 733.891 Q52.1003 731.249 45.7664 731.249 M59.58 725.393 Q68.683 725.393 73.1071 729.435 Q77.5631 733.477 77.5631 741.816 Q77.5631 744.904 77.0857 747.641 Q76.6401 750.378 75.6852 752.956 L69.9879 752.956 Q71.3884 750.378 72.0568 747.864 Q72.7252 745.349 72.7252 742.739 Q72.7252 736.978 69.7015 734.114 Q66.7096 731.249 60.6303 731.249 L57.7339 731.249 Q60.885 733.064 62.4446 735.896 Q64.0042 738.729 64.0042 742.676 Q64.0042 749.232 59.0071 753.243 Q54.01 757.253 45.7664 757.253 Q37.491 757.253 32.4939 753.243 Q27.4968 749.232 27.4968 742.676 Q27.4968 738.729 29.0564 735.896 Q30.616 733.064 33.7671 731.249 L28.3562 731.249 L28.3562 725.393 L59.58 725.393 Z\" fill=\"#000000\" fill-rule=\"nonzero\" fill-opacity=\"1\" /><path clip-path=\"url(#clip800)\" d=\"M33.8307 692.673 Q33.2578 693.66 33.0032 694.837 Q32.7167 695.983 32.7167 697.384 Q32.7167 702.349 35.9632 705.023 Q39.1779 707.664 45.2253 707.664 L64.0042 707.664 L64.0042 713.553 L28.3562 713.553 L28.3562 707.664 L33.8944 707.664 Q30.6479 705.818 29.0883 702.858 Q27.4968 699.898 27.4968 695.665 Q27.4968 695.06 27.5923 694.328 Q27.656 693.596 27.8151 692.705 L33.8307 692.673 Z\" fill=\"#000000\" fill-rule=\"nonzero\" fill-opacity=\"1\" /><path clip-path=\"url(#clip800)\" d=\"M32.4621 674.149 Q32.4621 678.86 36.1542 681.597 Q39.8145 684.334 46.212 684.334 Q52.6095 684.334 56.3017 681.629 Q59.9619 678.891 59.9619 674.149 Q59.9619 669.47 56.2698 666.733 Q52.5777 663.996 46.212 663.996 Q39.8781 663.996 36.186 666.733 Q32.4621 669.47 32.4621 674.149 M27.4968 674.149 Q27.4968 666.51 32.4621 662.15 Q37.4273 657.789 46.212 657.789 Q54.9649 657.789 59.9619 662.15 Q64.9272 666.51 64.9272 674.149 Q64.9272 681.82 59.9619 686.18 Q54.9649 690.509 46.212 690.509 Q37.4273 690.509 32.4621 686.18 Q27.4968 681.82 27.4968 674.149 Z\" fill=\"#000000\" fill-rule=\"nonzero\" fill-opacity=\"1\" /><path clip-path=\"url(#clip800)\" d=\"M28.3562 651.487 L28.3562 645.631 L56.1743 638.31 L28.3562 631.021 L28.3562 624.114 L56.1743 616.794 L28.3562 609.505 L28.3562 603.649 L64.0042 612.974 L64.0042 619.881 L34.7856 627.552 L64.0042 635.254 L64.0042 642.161 L28.3562 651.487 Z\" fill=\"#000000\" fill-rule=\"nonzero\" fill-opacity=\"1\" /><path clip-path=\"url(#clip800)\" d=\"M18.2347 588.976 L28.3562 588.976 L28.3562 576.913 L32.9077 576.913 L32.9077 588.976 L52.2594 588.976 Q56.6199 588.976 57.8613 587.798 Q59.1026 586.589 59.1026 582.928 L59.1026 576.913 L64.0042 576.913 L64.0042 582.928 Q64.0042 589.708 61.4897 592.286 Q58.9434 594.864 52.2594 594.864 L32.9077 594.864 L32.9077 599.161 L28.3562 599.161 L28.3562 594.864 L18.2347 594.864 L18.2347 588.976 Z\" fill=\"#000000\" fill-rule=\"nonzero\" fill-opacity=\"1\" /><path clip-path=\"url(#clip800)\" d=\"M42.4881 539.578 L64.0042 539.578 L64.0042 545.434 L42.679 545.434 Q37.6183 545.434 35.1038 547.408 Q32.5894 549.381 32.5894 553.328 Q32.5894 558.07 35.6131 560.808 Q38.6368 563.545 43.8567 563.545 L64.0042 563.545 L64.0042 569.433 L14.479 569.433 L14.479 563.545 L33.8944 563.545 Q30.6797 561.444 29.0883 558.611 Q27.4968 555.747 27.4968 552.023 Q27.4968 545.88 31.3163 542.729 Q35.1038 539.578 42.4881 539.578 Z\" fill=\"#000000\" fill-rule=\"nonzero\" fill-opacity=\"1\" /><path clip-path=\"url(#clip800)\" d=\"M33.8307 486.52 Q33.2578 487.506 33.0032 488.684 Q32.7167 489.83 32.7167 491.23 Q32.7167 496.196 35.9632 498.869 Q39.1779 501.511 45.2253 501.511 L64.0042 501.511 L64.0042 507.399 L28.3562 507.399 L28.3562 501.511 L33.8944 501.511 Q30.6479 499.665 29.0883 496.705 Q27.4968 493.745 27.4968 489.512 Q27.4968 488.907 27.5923 488.175 Q27.656 487.443 27.8151 486.552 L33.8307 486.52 Z\" fill=\"#000000\" fill-rule=\"nonzero\" fill-opacity=\"1\" /><path clip-path=\"url(#clip800)\" d=\"M46.0847 464.176 Q46.0847 471.274 47.7079 474.011 Q49.3312 476.748 53.2461 476.748 Q56.3653 476.748 58.2114 474.711 Q60.0256 472.642 60.0256 469.11 Q60.0256 464.24 56.5881 461.312 Q53.1188 458.351 47.3897 458.351 L46.0847 458.351 L46.0847 464.176 M43.6657 452.495 L64.0042 452.495 L64.0042 458.351 L58.5933 458.351 Q61.8398 460.357 63.3994 463.349 Q64.9272 466.34 64.9272 470.669 Q64.9272 476.144 61.8716 479.39 Q58.7843 482.605 53.6281 482.605 Q47.6125 482.605 44.5569 478.594 Q41.5014 474.552 41.5014 466.563 L41.5014 458.351 L40.9285 458.351 Q36.8862 458.351 34.6901 461.025 Q32.4621 463.667 32.4621 468.473 Q32.4621 471.528 33.1941 474.425 Q33.9262 477.321 35.3903 479.995 L29.9795 479.995 Q28.7381 476.78 28.1334 473.756 Q27.4968 470.733 27.4968 467.868 Q27.4968 460.134 31.5072 456.314 Q35.5176 452.495 43.6657 452.495 Z\" fill=\"#000000\" fill-rule=\"nonzero\" fill-opacity=\"1\" /><path clip-path=\"url(#clip800)\" d=\"M18.2347 434.639 L28.3562 434.639 L28.3562 422.576 L32.9077 422.576 L32.9077 434.639 L52.2594 434.639 Q56.6199 434.639 57.8613 433.462 Q59.1026 432.252 59.1026 428.592 L59.1026 422.576 L64.0042 422.576 L64.0042 428.592 Q64.0042 435.371 61.4897 437.949 Q58.9434 440.527 52.2594 440.527 L32.9077 440.527 L32.9077 444.824 L28.3562 444.824 L28.3562 440.527 L18.2347 440.527 L18.2347 434.639 Z\" fill=\"#000000\" fill-rule=\"nonzero\" fill-opacity=\"1\" /><path clip-path=\"url(#clip800)\" d=\"M44.7161 384.382 L47.5806 384.382 L47.5806 411.309 Q53.6281 410.927 56.8109 407.68 Q59.9619 404.402 59.9619 398.577 Q59.9619 395.204 59.1344 392.053 Q58.3069 388.87 56.6518 385.751 L62.1899 385.751 Q63.5267 388.902 64.227 392.212 Q64.9272 395.522 64.9272 398.928 Q64.9272 407.458 59.9619 412.455 Q54.9967 417.42 46.5303 417.42 Q37.7774 417.42 32.6531 412.709 Q27.4968 407.967 27.4968 399.946 Q27.4968 392.753 32.1438 388.583 Q36.7589 384.382 44.7161 384.382 M42.9973 390.238 Q38.1912 390.302 35.3266 392.944 Q32.4621 395.554 32.4621 399.882 Q32.4621 404.784 35.2312 407.744 Q38.0002 410.672 43.0292 411.118 L42.9973 390.238 Z\" fill=\"#000000\" fill-rule=\"nonzero\" fill-opacity=\"1\" /><path clip-path=\"url(#clip800)\" d=\"M14.5426 339.981 Q21.8632 344.246 29.0246 346.315 Q36.186 348.384 43.5384 348.384 Q50.8908 348.384 58.1159 346.315 Q65.3091 344.214 72.5979 339.981 L72.5979 345.074 Q65.1182 349.848 57.8931 352.235 Q50.668 354.59 43.5384 354.59 Q36.4406 354.59 29.2474 352.235 Q22.0542 349.88 14.5426 345.074 L14.5426 339.981 Z\" fill=\"#000000\" fill-rule=\"nonzero\" fill-opacity=\"1\" /><path clip-path=\"url(#clip800)\" d=\"M58.5933 326.677 L58.5933 316.173 L22.3406 316.173 L24.6323 327.6 L18.7758 327.6 L16.4842 316.237 L16.4842 309.808 L58.5933 309.808 L58.5933 299.304 L64.0042 299.304 L64.0042 326.677 L58.5933 326.677 Z\" fill=\"#000000\" fill-rule=\"nonzero\" fill-opacity=\"1\" /><path clip-path=\"url(#clip800)\" d=\"M16.4842 276.738 L16.4842 271.327 L70.0516 287.878 L70.0516 293.289 L16.4842 276.738 Z\" fill=\"#000000\" fill-rule=\"nonzero\" fill-opacity=\"1\" /><path clip-path=\"url(#clip800)\" d=\"M67.3143 250.352 Q73.68 252.835 75.6216 255.19 Q77.5631 257.545 77.5631 261.492 L77.5631 266.171 L72.6615 266.171 L72.6615 262.733 Q72.6615 260.314 71.5157 258.978 Q70.3699 257.641 66.1048 256.017 L63.4312 254.967 L28.3562 269.385 L28.3562 263.179 L56.238 252.039 L28.3562 240.899 L28.3562 234.692 L67.3143 250.352 Z\" fill=\"#000000\" fill-rule=\"nonzero\" fill-opacity=\"1\" /><path clip-path=\"url(#clip800)\" d=\"M33.8307 205.951 Q33.2578 206.938 33.0032 208.116 Q32.7167 209.261 32.7167 210.662 Q32.7167 215.627 35.9632 218.301 Q39.1779 220.942 45.2253 220.942 L64.0042 220.942 L64.0042 226.831 L28.3562 226.831 L28.3562 220.942 L33.8944 220.942 Q30.6479 219.096 29.0883 216.136 Q27.4968 213.176 27.4968 208.943 Q27.4968 208.338 27.5923 207.606 Q27.656 206.874 27.8151 205.983 L33.8307 205.951 Z\" fill=\"#000000\" fill-rule=\"nonzero\" fill-opacity=\"1\" /><path clip-path=\"url(#clip800)\" d=\"M14.5426 200.731 L14.5426 195.639 Q22.0542 190.864 29.2474 188.509 Q36.4406 186.122 43.5384 186.122 Q50.668 186.122 57.8931 188.509 Q65.1182 190.864 72.5979 195.639 L72.5979 200.731 Q65.3091 196.498 58.1159 194.429 Q50.8908 192.329 43.5384 192.329 Q36.186 192.329 29.0246 194.429 Q21.8632 196.498 14.5426 200.731 Z\" fill=\"#000000\" fill-rule=\"nonzero\" fill-opacity=\"1\" /><polyline clip-path=\"url(#clip802)\" style=\"stroke:#00bfff; stroke-linecap:round; stroke-linejoin:round; stroke-width:16; stroke-opacity:1; fill:none\" points=\"613.868,1322.98 613.868,1322.98 613.869,1323.01 614.194,1303.11 615.687,1276.07 618.418,1249.02 622.399,1221.98 627.675,1194.94 634.383,1167.9 642.617,1140.85 652.586,1113.81 664.195,1086.77 677.648,1059.73 693.767,1032.68 712.447,1005.64 733.398,978.597 756.355,951.554 781.072,924.511 807.326,897.469 834.922,870.426 863.687,843.383 893.471,816.34 924.145,789.297 955.598,762.255 987.734,735.212 1020.47,708.169 1053.74,681.126 1087.48,654.084 1121.63,627.041 1156.15,599.998 1191.01,572.955 1226.34,545.913 1262.47,518.87 1299.43,491.827 1337.31,464.784 1376.2,437.742 1417.16,410.699 1460.22,383.656 1505.17,356.613 1551.81,329.571 1599.99,302.528 1649.53,275.485 1700.31,248.442 1752.2,221.399 1805.09,194.357 1858.89,167.314 1913.51,140.271 1971.36,113.228 2051.62,86.1857 \"/>\n",
       "<circle clip-path=\"url(#clip802)\" cx=\"618.418\" cy=\"1249.02\" r=\"10.8\" fill=\"#ffffff\" fill-rule=\"evenodd\" fill-opacity=\"1\" stroke=\"#00bfff\" stroke-opacity=\"1\" stroke-width=\"3.2\"/>\n",
       "<circle clip-path=\"url(#clip802)\" cx=\"614.194\" cy=\"1303.11\" r=\"10.8\" fill=\"#ffffff\" fill-rule=\"evenodd\" fill-opacity=\"1\" stroke=\"#00bfff\" stroke-opacity=\"1\" stroke-width=\"3.2\"/>\n",
       "<circle clip-path=\"url(#clip802)\" cx=\"2051.62\" cy=\"86.1857\" r=\"10.8\" fill=\"#ffffff\" fill-rule=\"evenodd\" fill-opacity=\"1\" stroke=\"#00bfff\" stroke-opacity=\"1\" stroke-width=\"3.2\"/>\n",
       "<circle clip-path=\"url(#clip802)\" cx=\"712.447\" cy=\"1005.64\" r=\"10.8\" fill=\"#ffffff\" fill-rule=\"evenodd\" fill-opacity=\"1\" stroke=\"#00bfff\" stroke-opacity=\"1\" stroke-width=\"3.2\"/>\n",
       "<circle clip-path=\"url(#clip802)\" cx=\"1053.74\" cy=\"681.126\" r=\"10.8\" fill=\"#ffffff\" fill-rule=\"evenodd\" fill-opacity=\"1\" stroke=\"#00bfff\" stroke-opacity=\"1\" stroke-width=\"3.2\"/>\n",
       "<circle clip-path=\"url(#clip802)\" cx=\"1156.15\" cy=\"599.998\" r=\"10.8\" fill=\"#ffffff\" fill-rule=\"evenodd\" fill-opacity=\"1\" stroke=\"#00bfff\" stroke-opacity=\"1\" stroke-width=\"3.2\"/>\n",
       "<circle clip-path=\"url(#clip802)\" cx=\"1752.2\" cy=\"221.399\" r=\"10.8\" fill=\"#ffffff\" fill-rule=\"evenodd\" fill-opacity=\"1\" stroke=\"#00bfff\" stroke-opacity=\"1\" stroke-width=\"3.2\"/>\n",
       "<circle clip-path=\"url(#clip802)\" cx=\"1599.99\" cy=\"302.528\" r=\"10.8\" fill=\"#ffffff\" fill-rule=\"evenodd\" fill-opacity=\"1\" stroke=\"#00bfff\" stroke-opacity=\"1\" stroke-width=\"3.2\"/>\n",
       "<circle clip-path=\"url(#clip802)\" cx=\"693.767\" cy=\"1032.68\" r=\"10.8\" fill=\"#ffffff\" fill-rule=\"evenodd\" fill-opacity=\"1\" stroke=\"#00bfff\" stroke-opacity=\"1\" stroke-width=\"3.2\"/>\n",
       "<circle clip-path=\"url(#clip802)\" cx=\"1505.17\" cy=\"356.613\" r=\"10.8\" fill=\"#ffffff\" fill-rule=\"evenodd\" fill-opacity=\"1\" stroke=\"#00bfff\" stroke-opacity=\"1\" stroke-width=\"3.2\"/>\n",
       "<circle clip-path=\"url(#clip802)\" cx=\"1226.34\" cy=\"545.913\" r=\"10.8\" fill=\"#ffffff\" fill-rule=\"evenodd\" fill-opacity=\"1\" stroke=\"#00bfff\" stroke-opacity=\"1\" stroke-width=\"3.2\"/>\n",
       "<circle clip-path=\"url(#clip802)\" cx=\"756.355\" cy=\"951.554\" r=\"10.8\" fill=\"#ffffff\" fill-rule=\"evenodd\" fill-opacity=\"1\" stroke=\"#00bfff\" stroke-opacity=\"1\" stroke-width=\"3.2\"/>\n",
       "<circle clip-path=\"url(#clip802)\" cx=\"1376.2\" cy=\"437.742\" r=\"10.8\" fill=\"#ffffff\" fill-rule=\"evenodd\" fill-opacity=\"1\" stroke=\"#00bfff\" stroke-opacity=\"1\" stroke-width=\"3.2\"/>\n",
       "<circle clip-path=\"url(#clip802)\" cx=\"652.586\" cy=\"1113.81\" r=\"10.8\" fill=\"#ffffff\" fill-rule=\"evenodd\" fill-opacity=\"1\" stroke=\"#00bfff\" stroke-opacity=\"1\" stroke-width=\"3.2\"/>\n",
       "<circle clip-path=\"url(#clip802)\" cx=\"1417.16\" cy=\"410.699\" r=\"10.8\" fill=\"#ffffff\" fill-rule=\"evenodd\" fill-opacity=\"1\" stroke=\"#00bfff\" stroke-opacity=\"1\" stroke-width=\"3.2\"/>\n",
       "<circle clip-path=\"url(#clip802)\" cx=\"642.617\" cy=\"1140.85\" r=\"10.8\" fill=\"#ffffff\" fill-rule=\"evenodd\" fill-opacity=\"1\" stroke=\"#00bfff\" stroke-opacity=\"1\" stroke-width=\"3.2\"/>\n",
       "<circle clip-path=\"url(#clip802)\" cx=\"634.383\" cy=\"1167.9\" r=\"10.8\" fill=\"#ffffff\" fill-rule=\"evenodd\" fill-opacity=\"1\" stroke=\"#00bfff\" stroke-opacity=\"1\" stroke-width=\"3.2\"/>\n",
       "<circle clip-path=\"url(#clip802)\" cx=\"1551.81\" cy=\"329.571\" r=\"10.8\" fill=\"#ffffff\" fill-rule=\"evenodd\" fill-opacity=\"1\" stroke=\"#00bfff\" stroke-opacity=\"1\" stroke-width=\"3.2\"/>\n",
       "<circle clip-path=\"url(#clip802)\" cx=\"1087.48\" cy=\"654.084\" r=\"10.8\" fill=\"#ffffff\" fill-rule=\"evenodd\" fill-opacity=\"1\" stroke=\"#00bfff\" stroke-opacity=\"1\" stroke-width=\"3.2\"/>\n",
       "<circle clip-path=\"url(#clip802)\" cx=\"1913.51\" cy=\"140.271\" r=\"10.8\" fill=\"#ffffff\" fill-rule=\"evenodd\" fill-opacity=\"1\" stroke=\"#00bfff\" stroke-opacity=\"1\" stroke-width=\"3.2\"/>\n",
       "<circle clip-path=\"url(#clip802)\" cx=\"1191.01\" cy=\"572.955\" r=\"10.8\" fill=\"#ffffff\" fill-rule=\"evenodd\" fill-opacity=\"1\" stroke=\"#00bfff\" stroke-opacity=\"1\" stroke-width=\"3.2\"/>\n",
       "<circle clip-path=\"url(#clip802)\" cx=\"1121.63\" cy=\"627.041\" r=\"10.8\" fill=\"#ffffff\" fill-rule=\"evenodd\" fill-opacity=\"1\" stroke=\"#00bfff\" stroke-opacity=\"1\" stroke-width=\"3.2\"/>\n",
       "<circle clip-path=\"url(#clip802)\" cx=\"1971.36\" cy=\"113.228\" r=\"10.8\" fill=\"#ffffff\" fill-rule=\"evenodd\" fill-opacity=\"1\" stroke=\"#00bfff\" stroke-opacity=\"1\" stroke-width=\"3.2\"/>\n",
       "<circle clip-path=\"url(#clip802)\" cx=\"955.598\" cy=\"762.255\" r=\"10.8\" fill=\"#ffffff\" fill-rule=\"evenodd\" fill-opacity=\"1\" stroke=\"#00bfff\" stroke-opacity=\"1\" stroke-width=\"3.2\"/>\n",
       "<circle clip-path=\"url(#clip802)\" cx=\"1460.22\" cy=\"383.656\" r=\"10.8\" fill=\"#ffffff\" fill-rule=\"evenodd\" fill-opacity=\"1\" stroke=\"#00bfff\" stroke-opacity=\"1\" stroke-width=\"3.2\"/>\n",
       "<circle clip-path=\"url(#clip802)\" cx=\"613.868\" cy=\"1322.98\" r=\"10.8\" fill=\"#ffffff\" fill-rule=\"evenodd\" fill-opacity=\"1\" stroke=\"#00bfff\" stroke-opacity=\"1\" stroke-width=\"3.2\"/>\n",
       "<circle clip-path=\"url(#clip802)\" cx=\"613.868\" cy=\"1322.98\" r=\"10.8\" fill=\"#ffffff\" fill-rule=\"evenodd\" fill-opacity=\"1\" stroke=\"#00bfff\" stroke-opacity=\"1\" stroke-width=\"3.2\"/>\n",
       "<circle clip-path=\"url(#clip802)\" cx=\"1805.09\" cy=\"194.357\" r=\"10.8\" fill=\"#ffffff\" fill-rule=\"evenodd\" fill-opacity=\"1\" stroke=\"#00bfff\" stroke-opacity=\"1\" stroke-width=\"3.2\"/>\n",
       "<circle clip-path=\"url(#clip802)\" cx=\"622.399\" cy=\"1221.98\" r=\"10.8\" fill=\"#ffffff\" fill-rule=\"evenodd\" fill-opacity=\"1\" stroke=\"#00bfff\" stroke-opacity=\"1\" stroke-width=\"3.2\"/>\n",
       "<circle clip-path=\"url(#clip802)\" cx=\"1649.53\" cy=\"275.485\" r=\"10.8\" fill=\"#ffffff\" fill-rule=\"evenodd\" fill-opacity=\"1\" stroke=\"#00bfff\" stroke-opacity=\"1\" stroke-width=\"3.2\"/>\n",
       "<circle clip-path=\"url(#clip802)\" cx=\"1700.31\" cy=\"248.442\" r=\"10.8\" fill=\"#ffffff\" fill-rule=\"evenodd\" fill-opacity=\"1\" stroke=\"#00bfff\" stroke-opacity=\"1\" stroke-width=\"3.2\"/>\n",
       "<circle clip-path=\"url(#clip802)\" cx=\"615.687\" cy=\"1276.07\" r=\"10.8\" fill=\"#ffffff\" fill-rule=\"evenodd\" fill-opacity=\"1\" stroke=\"#00bfff\" stroke-opacity=\"1\" stroke-width=\"3.2\"/>\n",
       "<circle clip-path=\"url(#clip802)\" cx=\"987.734\" cy=\"735.212\" r=\"10.8\" fill=\"#ffffff\" fill-rule=\"evenodd\" fill-opacity=\"1\" stroke=\"#00bfff\" stroke-opacity=\"1\" stroke-width=\"3.2\"/>\n",
       "<circle clip-path=\"url(#clip802)\" cx=\"1020.47\" cy=\"708.169\" r=\"10.8\" fill=\"#ffffff\" fill-rule=\"evenodd\" fill-opacity=\"1\" stroke=\"#00bfff\" stroke-opacity=\"1\" stroke-width=\"3.2\"/>\n",
       "<circle clip-path=\"url(#clip802)\" cx=\"733.398\" cy=\"978.597\" r=\"10.8\" fill=\"#ffffff\" fill-rule=\"evenodd\" fill-opacity=\"1\" stroke=\"#00bfff\" stroke-opacity=\"1\" stroke-width=\"3.2\"/>\n",
       "<circle clip-path=\"url(#clip802)\" cx=\"893.471\" cy=\"816.34\" r=\"10.8\" fill=\"#ffffff\" fill-rule=\"evenodd\" fill-opacity=\"1\" stroke=\"#00bfff\" stroke-opacity=\"1\" stroke-width=\"3.2\"/>\n",
       "<circle clip-path=\"url(#clip802)\" cx=\"613.869\" cy=\"1323.01\" r=\"10.8\" fill=\"#ffffff\" fill-rule=\"evenodd\" fill-opacity=\"1\" stroke=\"#00bfff\" stroke-opacity=\"1\" stroke-width=\"3.2\"/>\n",
       "<circle clip-path=\"url(#clip802)\" cx=\"924.145\" cy=\"789.297\" r=\"10.8\" fill=\"#ffffff\" fill-rule=\"evenodd\" fill-opacity=\"1\" stroke=\"#00bfff\" stroke-opacity=\"1\" stroke-width=\"3.2\"/>\n",
       "<circle clip-path=\"url(#clip802)\" cx=\"1299.43\" cy=\"491.827\" r=\"10.8\" fill=\"#ffffff\" fill-rule=\"evenodd\" fill-opacity=\"1\" stroke=\"#00bfff\" stroke-opacity=\"1\" stroke-width=\"3.2\"/>\n",
       "<circle clip-path=\"url(#clip802)\" cx=\"1262.47\" cy=\"518.87\" r=\"10.8\" fill=\"#ffffff\" fill-rule=\"evenodd\" fill-opacity=\"1\" stroke=\"#00bfff\" stroke-opacity=\"1\" stroke-width=\"3.2\"/>\n",
       "<circle clip-path=\"url(#clip802)\" cx=\"627.675\" cy=\"1194.94\" r=\"10.8\" fill=\"#ffffff\" fill-rule=\"evenodd\" fill-opacity=\"1\" stroke=\"#00bfff\" stroke-opacity=\"1\" stroke-width=\"3.2\"/>\n",
       "<circle clip-path=\"url(#clip802)\" cx=\"863.687\" cy=\"843.383\" r=\"10.8\" fill=\"#ffffff\" fill-rule=\"evenodd\" fill-opacity=\"1\" stroke=\"#00bfff\" stroke-opacity=\"1\" stroke-width=\"3.2\"/>\n",
       "<circle clip-path=\"url(#clip802)\" cx=\"781.072\" cy=\"924.511\" r=\"10.8\" fill=\"#ffffff\" fill-rule=\"evenodd\" fill-opacity=\"1\" stroke=\"#00bfff\" stroke-opacity=\"1\" stroke-width=\"3.2\"/>\n",
       "<circle clip-path=\"url(#clip802)\" cx=\"1858.89\" cy=\"167.314\" r=\"10.8\" fill=\"#ffffff\" fill-rule=\"evenodd\" fill-opacity=\"1\" stroke=\"#00bfff\" stroke-opacity=\"1\" stroke-width=\"3.2\"/>\n",
       "<circle clip-path=\"url(#clip802)\" cx=\"807.326\" cy=\"897.469\" r=\"10.8\" fill=\"#ffffff\" fill-rule=\"evenodd\" fill-opacity=\"1\" stroke=\"#00bfff\" stroke-opacity=\"1\" stroke-width=\"3.2\"/>\n",
       "<circle clip-path=\"url(#clip802)\" cx=\"1337.31\" cy=\"464.784\" r=\"10.8\" fill=\"#ffffff\" fill-rule=\"evenodd\" fill-opacity=\"1\" stroke=\"#00bfff\" stroke-opacity=\"1\" stroke-width=\"3.2\"/>\n",
       "<circle clip-path=\"url(#clip802)\" cx=\"664.195\" cy=\"1086.77\" r=\"10.8\" fill=\"#ffffff\" fill-rule=\"evenodd\" fill-opacity=\"1\" stroke=\"#00bfff\" stroke-opacity=\"1\" stroke-width=\"3.2\"/>\n",
       "<circle clip-path=\"url(#clip802)\" cx=\"834.922\" cy=\"870.426\" r=\"10.8\" fill=\"#ffffff\" fill-rule=\"evenodd\" fill-opacity=\"1\" stroke=\"#00bfff\" stroke-opacity=\"1\" stroke-width=\"3.2\"/>\n",
       "<circle clip-path=\"url(#clip802)\" cx=\"677.648\" cy=\"1059.73\" r=\"10.8\" fill=\"#ffffff\" fill-rule=\"evenodd\" fill-opacity=\"1\" stroke=\"#00bfff\" stroke-opacity=\"1\" stroke-width=\"3.2\"/>\n",
       "<polyline clip-path=\"url(#clip802)\" style=\"stroke:#ff0000; stroke-linecap:round; stroke-linejoin:round; stroke-width:16; stroke-opacity:1; fill:none\" points=\"519.433,1384.24 523.747,1357.2 529.887,1330.15 537.525,1303.11 546.439,1276.07 556.527,1249.02 567.688,1221.98 579.804,1194.94 592.748,1167.9 606.503,1140.85 621.049,1113.81 636.381,1086.77 652.597,1059.73 669.682,1032.68 687.77,1005.64 707.312,978.597 728.602,951.554 751.444,924.511 775.647,897.469 801.043,870.426 827.48,843.383 854.83,816.34 882.979,789.297 911.83,762.255 941.299,735.212 971.312,708.169 1001.81,681.126 1032.73,654.084 1064.04,627.041 1095.68,599.998 1127.64,572.955 1159.86,545.913 1192.34,518.87 1225.07,491.827 1258.03,464.784 1291.28,437.742 1325.44,410.699 1361.69,383.656 1399.98,356.613 1440.11,329.571 1481.91,302.528 1525.21,275.485 1569.88,248.442 1615.78,221.399 1662.81,194.357 1711.08,167.314 1761.12,140.271 1851.39,113.228 1997.19,86.1857 \"/>\n",
       "<circle clip-path=\"url(#clip802)\" cx=\"556.527\" cy=\"1249.02\" r=\"10.8\" fill=\"#ffffff\" fill-rule=\"evenodd\" fill-opacity=\"1\" stroke=\"#ff0000\" stroke-opacity=\"1\" stroke-width=\"3.2\"/>\n",
       "<circle clip-path=\"url(#clip802)\" cx=\"1225.07\" cy=\"491.827\" r=\"10.8\" fill=\"#ffffff\" fill-rule=\"evenodd\" fill-opacity=\"1\" stroke=\"#ff0000\" stroke-opacity=\"1\" stroke-width=\"3.2\"/>\n",
       "<circle clip-path=\"url(#clip802)\" cx=\"1615.78\" cy=\"221.399\" r=\"10.8\" fill=\"#ffffff\" fill-rule=\"evenodd\" fill-opacity=\"1\" stroke=\"#ff0000\" stroke-opacity=\"1\" stroke-width=\"3.2\"/>\n",
       "<circle clip-path=\"url(#clip802)\" cx=\"1001.81\" cy=\"681.126\" r=\"10.8\" fill=\"#ffffff\" fill-rule=\"evenodd\" fill-opacity=\"1\" stroke=\"#ff0000\" stroke-opacity=\"1\" stroke-width=\"3.2\"/>\n",
       "<circle clip-path=\"url(#clip802)\" cx=\"519.433\" cy=\"1384.24\" r=\"10.8\" fill=\"#ffffff\" fill-rule=\"evenodd\" fill-opacity=\"1\" stroke=\"#ff0000\" stroke-opacity=\"1\" stroke-width=\"3.2\"/>\n",
       "<circle clip-path=\"url(#clip802)\" cx=\"827.48\" cy=\"843.383\" r=\"10.8\" fill=\"#ffffff\" fill-rule=\"evenodd\" fill-opacity=\"1\" stroke=\"#ff0000\" stroke-opacity=\"1\" stroke-width=\"3.2\"/>\n",
       "<circle clip-path=\"url(#clip802)\" cx=\"687.77\" cy=\"1005.64\" r=\"10.8\" fill=\"#ffffff\" fill-rule=\"evenodd\" fill-opacity=\"1\" stroke=\"#ff0000\" stroke-opacity=\"1\" stroke-width=\"3.2\"/>\n",
       "<circle clip-path=\"url(#clip802)\" cx=\"636.381\" cy=\"1086.77\" r=\"10.8\" fill=\"#ffffff\" fill-rule=\"evenodd\" fill-opacity=\"1\" stroke=\"#ff0000\" stroke-opacity=\"1\" stroke-width=\"3.2\"/>\n",
       "<circle clip-path=\"url(#clip802)\" cx=\"728.602\" cy=\"951.554\" r=\"10.8\" fill=\"#ffffff\" fill-rule=\"evenodd\" fill-opacity=\"1\" stroke=\"#ff0000\" stroke-opacity=\"1\" stroke-width=\"3.2\"/>\n",
       "<circle clip-path=\"url(#clip802)\" cx=\"652.597\" cy=\"1059.73\" r=\"10.8\" fill=\"#ffffff\" fill-rule=\"evenodd\" fill-opacity=\"1\" stroke=\"#ff0000\" stroke-opacity=\"1\" stroke-width=\"3.2\"/>\n",
       "<circle clip-path=\"url(#clip802)\" cx=\"537.525\" cy=\"1303.11\" r=\"10.8\" fill=\"#ffffff\" fill-rule=\"evenodd\" fill-opacity=\"1\" stroke=\"#ff0000\" stroke-opacity=\"1\" stroke-width=\"3.2\"/>\n",
       "<circle clip-path=\"url(#clip802)\" cx=\"1851.39\" cy=\"113.228\" r=\"10.8\" fill=\"#ffffff\" fill-rule=\"evenodd\" fill-opacity=\"1\" stroke=\"#ff0000\" stroke-opacity=\"1\" stroke-width=\"3.2\"/>\n",
       "<circle clip-path=\"url(#clip802)\" cx=\"801.043\" cy=\"870.426\" r=\"10.8\" fill=\"#ffffff\" fill-rule=\"evenodd\" fill-opacity=\"1\" stroke=\"#ff0000\" stroke-opacity=\"1\" stroke-width=\"3.2\"/>\n",
       "<circle clip-path=\"url(#clip802)\" cx=\"1095.68\" cy=\"599.998\" r=\"10.8\" fill=\"#ffffff\" fill-rule=\"evenodd\" fill-opacity=\"1\" stroke=\"#ff0000\" stroke-opacity=\"1\" stroke-width=\"3.2\"/>\n",
       "<circle clip-path=\"url(#clip802)\" cx=\"971.312\" cy=\"708.169\" r=\"10.8\" fill=\"#ffffff\" fill-rule=\"evenodd\" fill-opacity=\"1\" stroke=\"#ff0000\" stroke-opacity=\"1\" stroke-width=\"3.2\"/>\n",
       "<circle clip-path=\"url(#clip802)\" cx=\"911.83\" cy=\"762.255\" r=\"10.8\" fill=\"#ffffff\" fill-rule=\"evenodd\" fill-opacity=\"1\" stroke=\"#ff0000\" stroke-opacity=\"1\" stroke-width=\"3.2\"/>\n",
       "<circle clip-path=\"url(#clip802)\" cx=\"621.049\" cy=\"1113.81\" r=\"10.8\" fill=\"#ffffff\" fill-rule=\"evenodd\" fill-opacity=\"1\" stroke=\"#ff0000\" stroke-opacity=\"1\" stroke-width=\"3.2\"/>\n",
       "<circle clip-path=\"url(#clip802)\" cx=\"1399.98\" cy=\"356.613\" r=\"10.8\" fill=\"#ffffff\" fill-rule=\"evenodd\" fill-opacity=\"1\" stroke=\"#ff0000\" stroke-opacity=\"1\" stroke-width=\"3.2\"/>\n",
       "<circle clip-path=\"url(#clip802)\" cx=\"1325.44\" cy=\"410.699\" r=\"10.8\" fill=\"#ffffff\" fill-rule=\"evenodd\" fill-opacity=\"1\" stroke=\"#ff0000\" stroke-opacity=\"1\" stroke-width=\"3.2\"/>\n",
       "<circle clip-path=\"url(#clip802)\" cx=\"1711.08\" cy=\"167.314\" r=\"10.8\" fill=\"#ffffff\" fill-rule=\"evenodd\" fill-opacity=\"1\" stroke=\"#ff0000\" stroke-opacity=\"1\" stroke-width=\"3.2\"/>\n",
       "<circle clip-path=\"url(#clip802)\" cx=\"592.748\" cy=\"1167.9\" r=\"10.8\" fill=\"#ffffff\" fill-rule=\"evenodd\" fill-opacity=\"1\" stroke=\"#ff0000\" stroke-opacity=\"1\" stroke-width=\"3.2\"/>\n",
       "<circle clip-path=\"url(#clip802)\" cx=\"1032.73\" cy=\"654.084\" r=\"10.8\" fill=\"#ffffff\" fill-rule=\"evenodd\" fill-opacity=\"1\" stroke=\"#ff0000\" stroke-opacity=\"1\" stroke-width=\"3.2\"/>\n",
       "<circle clip-path=\"url(#clip802)\" cx=\"1127.64\" cy=\"572.955\" r=\"10.8\" fill=\"#ffffff\" fill-rule=\"evenodd\" fill-opacity=\"1\" stroke=\"#ff0000\" stroke-opacity=\"1\" stroke-width=\"3.2\"/>\n",
       "<circle clip-path=\"url(#clip802)\" cx=\"707.312\" cy=\"978.597\" r=\"10.8\" fill=\"#ffffff\" fill-rule=\"evenodd\" fill-opacity=\"1\" stroke=\"#ff0000\" stroke-opacity=\"1\" stroke-width=\"3.2\"/>\n",
       "<circle clip-path=\"url(#clip802)\" cx=\"1159.86\" cy=\"545.913\" r=\"10.8\" fill=\"#ffffff\" fill-rule=\"evenodd\" fill-opacity=\"1\" stroke=\"#ff0000\" stroke-opacity=\"1\" stroke-width=\"3.2\"/>\n",
       "<circle clip-path=\"url(#clip802)\" cx=\"1569.88\" cy=\"248.442\" r=\"10.8\" fill=\"#ffffff\" fill-rule=\"evenodd\" fill-opacity=\"1\" stroke=\"#ff0000\" stroke-opacity=\"1\" stroke-width=\"3.2\"/>\n",
       "<circle clip-path=\"url(#clip802)\" cx=\"1361.69\" cy=\"383.656\" r=\"10.8\" fill=\"#ffffff\" fill-rule=\"evenodd\" fill-opacity=\"1\" stroke=\"#ff0000\" stroke-opacity=\"1\" stroke-width=\"3.2\"/>\n",
       "<circle clip-path=\"url(#clip802)\" cx=\"1997.19\" cy=\"86.1857\" r=\"10.8\" fill=\"#ffffff\" fill-rule=\"evenodd\" fill-opacity=\"1\" stroke=\"#ff0000\" stroke-opacity=\"1\" stroke-width=\"3.2\"/>\n",
       "<circle clip-path=\"url(#clip802)\" cx=\"529.887\" cy=\"1330.15\" r=\"10.8\" fill=\"#ffffff\" fill-rule=\"evenodd\" fill-opacity=\"1\" stroke=\"#ff0000\" stroke-opacity=\"1\" stroke-width=\"3.2\"/>\n",
       "<circle clip-path=\"url(#clip802)\" cx=\"579.804\" cy=\"1194.94\" r=\"10.8\" fill=\"#ffffff\" fill-rule=\"evenodd\" fill-opacity=\"1\" stroke=\"#ff0000\" stroke-opacity=\"1\" stroke-width=\"3.2\"/>\n",
       "<circle clip-path=\"url(#clip802)\" cx=\"751.444\" cy=\"924.511\" r=\"10.8\" fill=\"#ffffff\" fill-rule=\"evenodd\" fill-opacity=\"1\" stroke=\"#ff0000\" stroke-opacity=\"1\" stroke-width=\"3.2\"/>\n",
       "<circle clip-path=\"url(#clip802)\" cx=\"1192.34\" cy=\"518.87\" r=\"10.8\" fill=\"#ffffff\" fill-rule=\"evenodd\" fill-opacity=\"1\" stroke=\"#ff0000\" stroke-opacity=\"1\" stroke-width=\"3.2\"/>\n",
       "<circle clip-path=\"url(#clip802)\" cx=\"1291.28\" cy=\"437.742\" r=\"10.8\" fill=\"#ffffff\" fill-rule=\"evenodd\" fill-opacity=\"1\" stroke=\"#ff0000\" stroke-opacity=\"1\" stroke-width=\"3.2\"/>\n",
       "<circle clip-path=\"url(#clip802)\" cx=\"1440.11\" cy=\"329.571\" r=\"10.8\" fill=\"#ffffff\" fill-rule=\"evenodd\" fill-opacity=\"1\" stroke=\"#ff0000\" stroke-opacity=\"1\" stroke-width=\"3.2\"/>\n",
       "<circle clip-path=\"url(#clip802)\" cx=\"669.682\" cy=\"1032.68\" r=\"10.8\" fill=\"#ffffff\" fill-rule=\"evenodd\" fill-opacity=\"1\" stroke=\"#ff0000\" stroke-opacity=\"1\" stroke-width=\"3.2\"/>\n",
       "<circle clip-path=\"url(#clip802)\" cx=\"1481.91\" cy=\"302.528\" r=\"10.8\" fill=\"#ffffff\" fill-rule=\"evenodd\" fill-opacity=\"1\" stroke=\"#ff0000\" stroke-opacity=\"1\" stroke-width=\"3.2\"/>\n",
       "<circle clip-path=\"url(#clip802)\" cx=\"1525.21\" cy=\"275.485\" r=\"10.8\" fill=\"#ffffff\" fill-rule=\"evenodd\" fill-opacity=\"1\" stroke=\"#ff0000\" stroke-opacity=\"1\" stroke-width=\"3.2\"/>\n",
       "<circle clip-path=\"url(#clip802)\" cx=\"1258.03\" cy=\"464.784\" r=\"10.8\" fill=\"#ffffff\" fill-rule=\"evenodd\" fill-opacity=\"1\" stroke=\"#ff0000\" stroke-opacity=\"1\" stroke-width=\"3.2\"/>\n",
       "<circle clip-path=\"url(#clip802)\" cx=\"775.647\" cy=\"897.469\" r=\"10.8\" fill=\"#ffffff\" fill-rule=\"evenodd\" fill-opacity=\"1\" stroke=\"#ff0000\" stroke-opacity=\"1\" stroke-width=\"3.2\"/>\n",
       "<circle clip-path=\"url(#clip802)\" cx=\"941.299\" cy=\"735.212\" r=\"10.8\" fill=\"#ffffff\" fill-rule=\"evenodd\" fill-opacity=\"1\" stroke=\"#ff0000\" stroke-opacity=\"1\" stroke-width=\"3.2\"/>\n",
       "<circle clip-path=\"url(#clip802)\" cx=\"882.979\" cy=\"789.297\" r=\"10.8\" fill=\"#ffffff\" fill-rule=\"evenodd\" fill-opacity=\"1\" stroke=\"#ff0000\" stroke-opacity=\"1\" stroke-width=\"3.2\"/>\n",
       "<circle clip-path=\"url(#clip802)\" cx=\"523.747\" cy=\"1357.2\" r=\"10.8\" fill=\"#ffffff\" fill-rule=\"evenodd\" fill-opacity=\"1\" stroke=\"#ff0000\" stroke-opacity=\"1\" stroke-width=\"3.2\"/>\n",
       "<circle clip-path=\"url(#clip802)\" cx=\"1761.12\" cy=\"140.271\" r=\"10.8\" fill=\"#ffffff\" fill-rule=\"evenodd\" fill-opacity=\"1\" stroke=\"#ff0000\" stroke-opacity=\"1\" stroke-width=\"3.2\"/>\n",
       "<circle clip-path=\"url(#clip802)\" cx=\"546.439\" cy=\"1276.07\" r=\"10.8\" fill=\"#ffffff\" fill-rule=\"evenodd\" fill-opacity=\"1\" stroke=\"#ff0000\" stroke-opacity=\"1\" stroke-width=\"3.2\"/>\n",
       "<circle clip-path=\"url(#clip802)\" cx=\"1662.81\" cy=\"194.357\" r=\"10.8\" fill=\"#ffffff\" fill-rule=\"evenodd\" fill-opacity=\"1\" stroke=\"#ff0000\" stroke-opacity=\"1\" stroke-width=\"3.2\"/>\n",
       "<circle clip-path=\"url(#clip802)\" cx=\"1064.04\" cy=\"627.041\" r=\"10.8\" fill=\"#ffffff\" fill-rule=\"evenodd\" fill-opacity=\"1\" stroke=\"#ff0000\" stroke-opacity=\"1\" stroke-width=\"3.2\"/>\n",
       "<circle clip-path=\"url(#clip802)\" cx=\"606.503\" cy=\"1140.85\" r=\"10.8\" fill=\"#ffffff\" fill-rule=\"evenodd\" fill-opacity=\"1\" stroke=\"#ff0000\" stroke-opacity=\"1\" stroke-width=\"3.2\"/>\n",
       "<circle clip-path=\"url(#clip802)\" cx=\"567.688\" cy=\"1221.98\" r=\"10.8\" fill=\"#ffffff\" fill-rule=\"evenodd\" fill-opacity=\"1\" stroke=\"#ff0000\" stroke-opacity=\"1\" stroke-width=\"3.2\"/>\n",
       "<circle clip-path=\"url(#clip802)\" cx=\"854.83\" cy=\"816.34\" r=\"10.8\" fill=\"#ffffff\" fill-rule=\"evenodd\" fill-opacity=\"1\" stroke=\"#ff0000\" stroke-opacity=\"1\" stroke-width=\"3.2\"/>\n",
       "<path clip-path=\"url(#clip800)\" d=\"M290.493 248.629 L608.066 248.629 L608.066 93.1086 L290.493 93.1086  Z\" fill=\"#f2f2f2\" fill-rule=\"evenodd\" fill-opacity=\"1\"/>\n",
       "<polyline clip-path=\"url(#clip800)\" style=\"stroke:#000000; stroke-linecap:round; stroke-linejoin:round; stroke-width:4; stroke-opacity:0; fill:none\" points=\"290.493,248.629 608.066,248.629 608.066,93.1086 290.493,93.1086 290.493,248.629 \"/>\n",
       "<polyline clip-path=\"url(#clip800)\" style=\"stroke:#00bfff; stroke-linecap:round; stroke-linejoin:round; stroke-width:16; stroke-opacity:1; fill:none\" points=\"314.197,144.949 456.422,144.949 \"/>\n",
       "<path clip-path=\"url(#clip800)\" d=\"M484.802 131.511 L484.802 158.386 L490.45 158.386 Q497.603 158.386 500.913 155.145 Q504.246 151.905 504.246 144.914 Q504.246 137.969 500.913 134.752 Q497.603 131.511 490.45 131.511 L484.802 131.511 M480.126 127.669 L489.733 127.669 Q499.779 127.669 504.478 131.858 Q509.177 136.025 509.177 144.914 Q509.177 153.849 504.455 158.039 Q499.732 162.229 489.733 162.229 L480.126 162.229 L480.126 127.669 Z\" fill=\"#000000\" fill-rule=\"nonzero\" fill-opacity=\"1\" /><path clip-path=\"url(#clip800)\" d=\"M528.228 149.196 Q523.066 149.196 521.075 150.377 Q519.084 151.557 519.084 154.405 Q519.084 156.673 520.566 158.016 Q522.07 159.335 524.64 159.335 Q528.181 159.335 530.311 156.835 Q532.464 154.312 532.464 150.145 L532.464 149.196 L528.228 149.196 M536.723 147.437 L536.723 162.229 L532.464 162.229 L532.464 158.293 Q531.005 160.655 528.83 161.789 Q526.654 162.9 523.505 162.9 Q519.524 162.9 517.163 160.678 Q514.825 158.432 514.825 154.682 Q514.825 150.307 517.742 148.085 Q520.681 145.863 526.492 145.863 L532.464 145.863 L532.464 145.446 Q532.464 142.507 530.519 140.909 Q528.598 139.289 525.103 139.289 Q522.88 139.289 520.774 139.821 Q518.668 140.354 516.723 141.419 L516.723 137.483 Q519.061 136.581 521.26 136.141 Q523.459 135.678 525.543 135.678 Q531.167 135.678 533.945 138.594 Q536.723 141.511 536.723 147.437 Z\" fill=\"#000000\" fill-rule=\"nonzero\" fill-opacity=\"1\" /><path clip-path=\"url(#clip800)\" d=\"M549.709 128.942 L549.709 136.303 L558.482 136.303 L558.482 139.613 L549.709 139.613 L549.709 153.687 Q549.709 156.858 550.566 157.761 Q551.445 158.664 554.107 158.664 L558.482 158.664 L558.482 162.229 L554.107 162.229 Q549.177 162.229 547.302 160.4 Q545.427 158.548 545.427 153.687 L545.427 139.613 L542.302 139.613 L542.302 136.303 L545.427 136.303 L545.427 128.942 L549.709 128.942 Z\" fill=\"#000000\" fill-rule=\"nonzero\" fill-opacity=\"1\" /><path clip-path=\"url(#clip800)\" d=\"M575.866 149.196 Q570.704 149.196 568.714 150.377 Q566.723 151.557 566.723 154.405 Q566.723 156.673 568.204 158.016 Q569.709 159.335 572.278 159.335 Q575.82 159.335 577.95 156.835 Q580.102 154.312 580.102 150.145 L580.102 149.196 L575.866 149.196 M584.362 147.437 L584.362 162.229 L580.102 162.229 L580.102 158.293 Q578.644 160.655 576.468 161.789 Q574.292 162.9 571.144 162.9 Q567.163 162.9 564.802 160.678 Q562.464 158.432 562.464 154.682 Q562.464 150.307 565.38 148.085 Q568.32 145.863 574.13 145.863 L580.102 145.863 L580.102 145.446 Q580.102 142.507 578.158 140.909 Q576.237 139.289 572.741 139.289 Q570.519 139.289 568.413 139.821 Q566.306 140.354 564.362 141.419 L564.362 137.483 Q566.7 136.581 568.899 136.141 Q571.098 135.678 573.181 135.678 Q578.806 135.678 581.584 138.594 Q584.362 141.511 584.362 147.437 Z\" fill=\"#000000\" fill-rule=\"nonzero\" fill-opacity=\"1\" /><polyline clip-path=\"url(#clip800)\" style=\"stroke:#ff0000; stroke-linecap:round; stroke-linejoin:round; stroke-width:16; stroke-opacity:1; fill:none\" points=\"314.197,196.789 456.422,196.789 \"/>\n",
       "<path clip-path=\"url(#clip800)\" d=\"M502.371 180.643 L502.371 185.203 Q499.709 183.93 497.348 183.305 Q494.987 182.68 492.788 182.68 Q488.969 182.68 486.885 184.161 Q484.825 185.643 484.825 188.374 Q484.825 190.666 486.191 191.847 Q487.58 193.004 491.422 193.722 L494.246 194.3 Q499.478 195.296 501.955 197.819 Q504.455 200.319 504.455 204.532 Q504.455 209.555 501.075 212.147 Q497.719 214.74 491.214 214.74 Q488.76 214.74 485.983 214.184 Q483.228 213.629 480.265 212.541 L480.265 207.726 Q483.112 209.323 485.844 210.133 Q488.575 210.944 491.214 210.944 Q495.219 210.944 497.395 209.37 Q499.57 207.796 499.57 204.879 Q499.57 202.333 497.996 200.897 Q496.445 199.462 492.881 198.745 L490.033 198.189 Q484.802 197.147 482.464 194.925 Q480.126 192.703 480.126 188.745 Q480.126 184.161 483.344 181.522 Q486.584 178.884 492.256 178.884 Q494.686 178.884 497.209 179.323 Q499.732 179.763 502.371 180.643 Z\" fill=\"#000000\" fill-rule=\"nonzero\" fill-opacity=\"1\" /><path clip-path=\"url(#clip800)\" d=\"M511.746 179.509 L516.422 179.509 L516.422 214.069 L511.746 214.069 L511.746 179.509 Z\" fill=\"#000000\" fill-rule=\"nonzero\" fill-opacity=\"1\" /><path clip-path=\"url(#clip800)\" d=\"M525.728 179.509 L532.695 179.509 L541.515 203.027 L550.38 179.509 L557.348 179.509 L557.348 214.069 L552.788 214.069 L552.788 183.722 L543.876 207.425 L539.177 207.425 L530.265 183.722 L530.265 214.069 L525.728 214.069 L525.728 179.509 Z\" fill=\"#000000\" fill-rule=\"nonzero\" fill-opacity=\"1\" /></svg>\n"
      ]
     },
     "metadata": {},
     "output_type": "display_data"
    }
   ],
   "source": [
    "let\n",
    "    # regular -\n",
    "    plot(efficient_frontier, lw=4, xlabel=\"Portfolio Risk (sqrt)\", \n",
    "        ylabel=\"Portfolio excess growth rate (1/yr)\", fontsize=18, c=:deepskyblue1, \n",
    "        xlim=(0.0, 1.2*maximum(efficient_frontier).first), label=\"Data\", \n",
    "        bg=\"gray95\", background_color_outside=\"white\", framestyle = :box, fg_legend = :transparent)\n",
    "    scatter!(efficient_frontier, label=\"\", c=:white, msc=:deepskyblue1, ms=3)\n",
    "    \n",
    "    # single index model -\n",
    "    plot!(efficient_frontier_sim, lw=4, xlabel=\"Portfolio Risk (sqrt)\", \n",
    "        ylabel=\"Portfolio excess growth rate (1/yr)\", fontsize=18, label=\"SIM\", c=:red, \n",
    "        xlim=(0.0, 1.2*maximum(efficient_frontier_sim).first))\n",
    "    scatter!(efficient_frontier_sim, label=\"\", c=:white, msc=:red, ms=3)\n",
    "end"
   ]
  },
  {
   "cell_type": "markdown",
   "id": "a967a000-5c52-4592-9b57-c1352785832a",
   "metadata": {},
   "source": [
    "## Task 3: What's in a data-driven versus single index model portfolio?\n",
    "The single index model efficient frontier is shifted to the left compared with the data-driven portfolio. Let's explore how this left shift is reflected in the choices of the weights of the assets in the portfolio. To begin, specify a desired portfolio growth rate in the `desired_growth_rate` variable:"
   ]
  },
  {
   "cell_type": "code",
   "execution_count": 31,
   "id": "7d78bbf3-437c-4585-905e-63f624e43f75",
   "metadata": {},
   "outputs": [],
   "source": [
    "desired_growth_rate = 0.25; # select a desired *excess* return where both approaches have data"
   ]
  },
  {
   "cell_type": "markdown",
   "id": "08bea4c9-c150-49a2-a289-bb8a24db7c40",
   "metadata": {},
   "source": [
    "Next, let's resolve the minimum variance problem for the data-driven and single-index models, assuming a `desired_growth_rate` value. Update the `problem_risk` and `problem_risk_sim` problem instances with the new `R` field:"
   ]
  },
  {
   "cell_type": "code",
   "execution_count": 32,
   "id": "507df098-675f-4129-a47b-da99e6f07727",
   "metadata": {},
   "outputs": [],
   "source": [
    "problem_risk.R = desired_growth_rate;\n",
    "problem_risk_sim.R = desired_growth_rate;"
   ]
  },
  {
   "cell_type": "markdown",
   "id": "7dc44a36-83af-49db-b866-df3cdf0b6ccd",
   "metadata": {},
   "source": [
    "and solve the minimum-variance allocation problem for both versions of the problem instance:"
   ]
  },
  {
   "cell_type": "code",
   "execution_count": 33,
   "id": "6b51e88f-330f-46a7-b219-a48866d89112",
   "metadata": {
    "jupyter": {
     "source_hidden": true
    }
   },
   "outputs": [
    {
     "data": {
      "text/plain": [
       "Dict{String, Any} with 4 entries:\n",
       "  \"argmax\"          => [0.165404, -9.40698e-9, 0.325912, 9.23758e-6, -8.8728e-9…\n",
       "  \"reward\"          => 0.25\n",
       "  \"status\"          => LOCALLY_SOLVED\n",
       "  \"objective_value\" => 0.0537107"
      ]
     },
     "metadata": {},
     "output_type": "display_data"
    }
   ],
   "source": [
    "solution_data = nothing;\n",
    "solution_sim = nothing;\n",
    "try\n",
    "    solution_data = solve(problem_risk);\n",
    "    solution_sim = solve(problem_risk_sim);\n",
    "catch err\n",
    "    # uncoment below to see error message\n",
    "    # println(\"What the what? Something happened: $(err)\");\n",
    "end"
   ]
  },
  {
   "cell_type": "markdown",
   "id": "c770ef2f-435f-4d1a-915b-77902be99da0",
   "metadata": {},
   "source": [
    "`Unhide` the code block below to see how we constructed the portfolio allocation table for the data-driven and single-index model portfolios.\n",
    "* __Summary__: The data-driven and single-index model allocations are similar, where each non-zero allocation for the data-driven portfolio is preserved in the case of the single-index model. However, several minor differences between the two portfolios do not appear to be correlated with the $\\beta$ of the ticker. "
   ]
  },
  {
   "cell_type": "code",
   "execution_count": 34,
   "id": "6022fe05-6aa1-490a-bf83-a62d1827d3ca",
   "metadata": {},
   "outputs": [
    {
     "name": "stdout",
     "output_type": "stream",
     "text": [
      "========= =========== ========= ========= ===============\n",
      " \u001b[1m ticker \u001b[0m \u001b[1m         β \u001b[0m \u001b[1m  ω_data \u001b[0m \u001b[1m   ω_sim \u001b[0m \u001b[1m Δ_percentage \u001b[0m\n",
      " \u001b[90m String \u001b[0m \u001b[90m   Float64 \u001b[0m \u001b[90m Float64 \u001b[0m \u001b[90m Float64 \u001b[0m \u001b[90m      Float64 \u001b[0m\n",
      "========= =========== ========= ========= ===============\n",
      "    AAPL     1.24019    0.2007    0.1654       -17.6047\n",
      "     UNG    0.401587       0.0       0.0            0.0\n",
      "    MSFT     1.13379    0.3839    0.3259       -15.1054\n",
      "      KR    0.194428    0.0099       0.0            0.0\n",
      "    INTC     1.12753       0.0       0.0            0.0\n",
      "     CPB    0.227696       0.0       0.0            0.0\n",
      "      MU     1.52694       0.0       0.0            0.0\n",
      "     GIS    0.297464       0.0       0.0            0.0\n",
      "     AMD     1.67809    0.2702    0.2232       -17.3922\n",
      "     SJM    0.293066       0.0       0.0            0.0\n",
      "    NVDA     1.78828    0.0521    0.1637        214.365\n",
      "       K    0.326176       0.0       0.0            0.0\n",
      "      GS     1.26915       0.0       0.0            0.0\n",
      "     GLD   0.0822281       0.0     0.066            0.0\n",
      "     BAC     1.32778       0.0       0.0            0.0\n",
      "     CLX    0.243847       0.0       0.0            0.0\n",
      "     WFC     1.25441       0.0       0.0            0.0\n",
      "     CHD    0.332229    0.0832    0.0464       -44.2245\n",
      "       C     1.48297       0.0       0.0            0.0\n",
      "     HRL      0.3087       0.0       0.0            0.0\n",
      "       F     1.48548       0.0       0.0            0.0\n",
      "    REGN    0.551269       0.0    0.0094            0.0\n",
      "      GM     1.55162       0.0       0.0            0.0\n",
      "     KMB    0.379152       0.0       0.0            0.0\n",
      "========= =========== ========= ========= ===============\n"
     ]
    }
   ],
   "source": [
    "let\n",
    "    ω_data = solution_data[\"argmax\"];\n",
    "    ω_sim = solution_sim[\"argmax\"];\n",
    "    table_df = DataFrame();\n",
    "    for i ∈ eachindex(my_low_correlation_ticker_array)\n",
    "        ticker = my_low_correlation_ticker_array[i];\n",
    "        ω_dataᵢ = ω_data[i];\n",
    "        ω_simᵢ = ω_sim[i];\n",
    "        row_data = (\n",
    "            ticker = ticker,\n",
    "            β = sim_model_dictionary[ticker].β,\n",
    "            ω_data = round(ω_dataᵢ, digits=4) |> abs,\n",
    "            ω_sim = round(ω_simᵢ, digits=4) |> abs,\n",
    "            Δ_percentage = isapprox(ω_dataᵢ,0.0, atol=1e-2) ? 0.0 : ((ω_simᵢ - ω_dataᵢ)/(ω_dataᵢ))*100\n",
    "        );\n",
    "        push!(table_df,row_data)\n",
    "    end\n",
    "    table_df\n",
    "    pretty_table(table_df, tf=tf_simple)\n",
    "end"
   ]
  },
  {
   "cell_type": "markdown",
   "id": "f5783b18-2f56-4641-9464-82658cc68a38",
   "metadata": {},
   "source": [
    "## Disclaimer and Risks\n",
    "__This content is offered solely for training and informational purposes__. No offer or solicitation to buy or sell securities or derivative products or any investment or trading advice or strategy is made, given, or endorsed by the teaching team. \n",
    "\n",
    "__Trading involves risk__. Carefully review your financial situation before investing in securities, futures contracts, options, or commodity interests. Past performance, whether actual or indicated by historical tests of strategies, is no guarantee of future performance or success. Trading is generally inappropriate for someone with limited resources, investment or trading experience, or a low-risk tolerance.  Only risk capital that is not required for living expenses.\n",
    "\n",
    "__You are fully responsible for any investment or trading decisions you make__. You should decide solely based on your financial circumstances, investment or trading objectives, risk tolerance, and liquidity needs."
   ]
  }
 ],
 "metadata": {
  "kernelspec": {
   "display_name": "Julia 1.11.7",
   "language": "julia",
   "name": "julia-1.11"
  },
  "language_info": {
   "file_extension": ".jl",
   "mimetype": "application/julia",
   "name": "julia",
   "version": "1.11.7"
  }
 },
 "nbformat": 4,
 "nbformat_minor": 5
}
